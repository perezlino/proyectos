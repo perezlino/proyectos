{
 "cells": [
  {
   "attachments": {},
   "cell_type": "markdown",
   "metadata": {},
   "source": [
    "## **`Paso 5.2`: Creación de Datasets de origen y destino para cargar el archivo `ipl 2008.json`**"
   ]
  },
  {
   "cell_type": "markdown",
   "metadata": {},
   "source": [
    "### **1. Crear el Dataset de origen `ds_Valid_IPL_Data_Json` que hará referencia al archivo `ipl 2008.json` que se encuentra en nuestro ADLS**"
   ]
  },
  {
   "cell_type": "markdown",
   "metadata": {},
   "source": [
    "#### **Paso 1: Crear un nuevo dataset**"
   ]
  },
  {
   "cell_type": "markdown",
   "metadata": {},
   "source": [
    "1. **Seleccionar la pestaña \"Author\"**: En el menú de la izquierda dentro de tu Data Factory, haz clic en la pestaña **Author** (Autor).\n",
    "2. **Seleccionar \"Datasets\"**: En el panel de **Author**, haz clic en **Datasets**.\n",
    "3. **Hacer clic en los tres puntos**: Junto a la opción **Datasets**, haz clic en los tres puntos (más opciones).\n",
    "4. **Seleccionar \"New dataset\"**: En el menú desplegable, selecciona **New dataset** para crear un nuevo dataset."
   ]
  },
  {
   "cell_type": "markdown",
   "metadata": {},
   "source": [
    "[![p643.png](https://i.postimg.cc/15k2bhGr/p643.png)](https://postimg.cc/hf027Y3X)\n",
    "[![p644.png](https://i.postimg.cc/wjDZpfF8/p644.png)](https://postimg.cc/qNMjcG9j)"
   ]
  },
  {
   "cell_type": "markdown",
   "metadata": {},
   "source": [
    "#### **Paso 2: Configurar el nuevo dataset**"
   ]
  },
  {
   "cell_type": "markdown",
   "metadata": {},
   "source": [
    "1. **Elegir tipo de dataset**: En la ventana de selección, busca y selecciona **Azure Data Lake Storage Gen2** como el tipo de datastore.\n",
    "2. **Hacer clic en \"Continue\"**: Después de seleccionar **Azure Data Lake Storage Gen2**, haz clic en **Continue** para proceder."
   ]
  },
  {
   "cell_type": "markdown",
   "metadata": {},
   "source": [
    "[![p645.png](https://i.postimg.cc/43ZMN6FK/p645.png)](https://postimg.cc/sM6KThzy)"
   ]
  },
  {
   "cell_type": "markdown",
   "metadata": {},
   "source": [
    "#### **Paso 3: Configurar el formato del dataset**"
   ]
  },
  {
   "cell_type": "markdown",
   "metadata": {},
   "source": [
    "1. **Seleccionar el formato**: En el campo de selección de formato, elige **JSON**.\n",
    "2. **Hacer clic en \"Continue\"**: Después de seleccionar el formato, haz clic en **Continue**."
   ]
  },
  {
   "cell_type": "markdown",
   "metadata": {},
   "source": [
    "[![p646.png](https://i.postimg.cc/TP9syKZt/p646.png)](https://postimg.cc/Mcn5NpZB)"
   ]
  },
  {
   "cell_type": "markdown",
   "metadata": {},
   "source": [
    "#### **Paso 4: Configurar las propiedades del dataset**"
   ]
  },
  {
   "cell_type": "markdown",
   "metadata": {},
   "source": [
    "1. **Nombre del dataset**: En el campo de nombre, ingresa `ds_Valid_IPL_Data_Json`.\n",
    "2. **Linked Service**: En el menú desplegable, selecciona el Linked Service que creaste previamente, `LS_AzureDataLakeStorageG2`.\n",
    "3. **File path**: Indiquemos el contenedor **raw** e ingresa `ipl 2008.json`.\n",
    "5. **Import schema**: Selecciona **From connection/store** para no importar un schema.\n",
    "6. **Guardar el dataset**: Haz clic en el botón **OK** para almacenar el nuevo dataset."
   ]
  },
  {
   "cell_type": "markdown",
   "metadata": {},
   "source": [
    "[![p647.png](https://i.postimg.cc/XJYz9VW4/p647.png)](https://postimg.cc/wtn2pY3G)"
   ]
  },
  {
   "cell_type": "markdown",
   "metadata": {},
   "source": [
    "#### **Paso 5: Verificar el dataset**"
   ]
  },
  {
   "cell_type": "markdown",
   "metadata": {},
   "source": [
    "1. **Revisar la lista de datasets**: Deberías ver tu nuevo dataset `ds_Valid_IPL_Data_Json` en la lista de datasets. Puedes hacer clic en él para revisar su configuración."
   ]
  },
  {
   "cell_type": "markdown",
   "metadata": {},
   "source": [
    "[![p648.png](https://i.postimg.cc/269XwPjv/p648.png)](https://postimg.cc/vg9z82VH)"
   ]
  },
  {
   "cell_type": "markdown",
   "metadata": {},
   "source": [
    "### **2. Crear el Dataset de destino `ds_AzureSqlTable_IPL_Data` que hará referencia a la tabla `dbo.tbl_IPLData` en Azure SQL Database**"
   ]
  },
  {
   "cell_type": "markdown",
   "metadata": {},
   "source": [
    "#### **Paso 1: Crear un nuevo dataset**"
   ]
  },
  {
   "cell_type": "markdown",
   "metadata": {},
   "source": [
    "1. **Seleccionar la pestaña \"Author\"**: En el menú de la izquierda dentro de tu Data Factory, haz clic en la pestaña **Author** (Autor).\n",
    "2. **Seleccionar \"Datasets\"**: En el panel de **Author**, haz clic en **Datasets**.\n",
    "3. **Hacer clic en los tres puntos**: Junto a la opción **Datasets**, haz clic en los tres puntos (más opciones).\n",
    "4. **Seleccionar \"New dataset\"**: En el menú desplegable, selecciona **New dataset** para crear un nuevo dataset."
   ]
  },
  {
   "cell_type": "markdown",
   "metadata": {},
   "source": [
    "[![p649.png](https://i.postimg.cc/hG2qkZP4/p649.png)](https://postimg.cc/XZBhF8Ct)\n",
    "[![p650.png](https://i.postimg.cc/76byw1f3/p650.png)](https://postimg.cc/34MqZvjN)"
   ]
  },
  {
   "cell_type": "markdown",
   "metadata": {},
   "source": [
    "#### **Paso 2: Configurar el nuevo dataset**"
   ]
  },
  {
   "cell_type": "markdown",
   "metadata": {},
   "source": [
    "1. **Elegir tipo de dataset**: En la ventana de selección, busca y selecciona **Azure SQL Database** como el tipo de datastore.\n",
    "2. **Hacer clic en \"Continue\"**: Después de seleccionar **Azure SQL Database**, haz clic en **Continue** para proceder."
   ]
  },
  {
   "cell_type": "markdown",
   "metadata": {},
   "source": [
    "[![p651.png](https://i.postimg.cc/J0kVB13t/p651.png)](https://postimg.cc/dZwSbcxK)"
   ]
  },
  {
   "cell_type": "markdown",
   "metadata": {},
   "source": [
    "#### **Paso 3: Configurar el formato del dataset**"
   ]
  },
  {
   "cell_type": "markdown",
   "metadata": {},
   "source": [
    "1. **Seleccionar el formato**: En el campo de selección de formato, elige **JSON**.\n",
    "2. **Hacer clic en \"Continue\"**: Después de seleccionar el formato, haz clic en **Continue**."
   ]
  },
  {
   "cell_type": "markdown",
   "metadata": {},
   "source": [
    "#### **Paso 4: Configurar las propiedades del dataset**"
   ]
  },
  {
   "cell_type": "markdown",
   "metadata": {},
   "source": [
    "1. **Nombre del dataset**: En el campo de nombre, ingresa `ds_AzureSqlTable_IPL_Data`.\n",
    "2. **Linked Service**: En el menú desplegable, selecciona el Linked Service que creaste previamente, `LS_AzureSqlTable_IPL_Data`.\n",
    "3. **Table name**: Indiquemos el nombre de la tabla `dbo.tbl_IPLData`.\n",
    "5. **Import schema**: Selecciona **From connection/store** para no importar un schema.\n",
    "6. **Guardar el dataset**: Haz clic en el botón **OK** para almacenar el nuevo dataset."
   ]
  },
  {
   "cell_type": "markdown",
   "metadata": {},
   "source": [
    "[![p654.png](https://i.postimg.cc/05MbCDcK/p654.png)](https://postimg.cc/LhS99Ydm)"
   ]
  },
  {
   "cell_type": "markdown",
   "metadata": {},
   "source": [
    "#### **Paso 5: Verificar el dataset**"
   ]
  },
  {
   "cell_type": "markdown",
   "metadata": {},
   "source": [
    "1. **Revisar la lista de datasets**: Deberías ver tu nuevo dataset `ds_Valid_IPL_Data_Json` en la lista de datasets. Puedes hacer clic en él para revisar su configuración."
   ]
  },
  {
   "cell_type": "markdown",
   "metadata": {},
   "source": [
    "[![p655.png](https://i.postimg.cc/dQbDN3xH/p655.png)](https://postimg.cc/vDvQcYMf)"
   ]
  }
 ],
 "metadata": {
  "language_info": {
   "name": "python"
  },
  "orig_nbformat": 4
 },
 "nbformat": 4,
 "nbformat_minor": 2
}
