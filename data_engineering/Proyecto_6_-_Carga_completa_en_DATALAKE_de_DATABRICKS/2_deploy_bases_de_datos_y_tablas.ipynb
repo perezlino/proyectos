{
 "cells": [
  {
   "cell_type": "markdown",
   "metadata": {},
   "source": [
    "## **Desplegar Bases de datos y tablas**"
   ]
  },
  {
   "cell_type": "markdown",
   "metadata": {},
   "source": [
    "### Crear base de datos **f1_raw**\n",
    "\n",
    "- La base de datos **f1_raw** se creará en la ruta `/mnt/formula1dl/raw`. Es importante mencionar que al momento de crear la base de datos la ruta `/mnt/formula1dl/raw` se crea automaticamente."
   ]
  },
  {
   "cell_type": "code",
   "execution_count": null,
   "metadata": {},
   "outputs": [],
   "source": [
    "%sql\n",
    "CREATE DATABASE IF NOT EXISTS f1_raw\n",
    "LOCATION \"/mnt/formula1dl/raw\""
   ]
  },
  {
   "cell_type": "markdown",
   "metadata": {},
   "source": [
    "### Crear base de datos **f1_processed**\n",
    "\n",
    "- La base de datos **f1_processed** se creará en la ruta `/mnt/formula1dl/processed`. Es importante mencionar que al momento de crear la base de datos la ruta `/mnt/formula1dl/processed` se crea automaticamente."
   ]
  },
  {
   "cell_type": "code",
   "execution_count": null,
   "metadata": {},
   "outputs": [],
   "source": [
    "%sql\n",
    "CREATE DATABASE IF NOT EXISTS f1_processed\n",
    "LOCATION \"/mnt/formula1dl/processed\""
   ]
  },
  {
   "cell_type": "markdown",
   "metadata": {},
   "source": [
    "### Crear base de datos **f1_presentation**\n",
    "\n",
    "La base de datos **f1_presentation** se creará en la ruta `/mnt/formula1dl/presentation`. Es importante mencionar que al momento de crear la base de datos la ruta `/mnt/formula1dl/presentation` se crea automaticamente."
   ]
  },
  {
   "cell_type": "code",
   "execution_count": null,
   "metadata": {},
   "outputs": [],
   "source": [
    "%sql\n",
    "CREATE DATABASE IF NOT EXISTS f1_presentation\n",
    "LOCATION \"/mnt/formula1dl/presentation\""
   ]
  },
  {
   "cell_type": "markdown",
   "metadata": {},
   "source": [
    "### Crear tabla **f1_raw.circuits**"
   ]
  },
  {
   "cell_type": "code",
   "execution_count": null,
   "metadata": {},
   "outputs": [],
   "source": [
    "%sql\n",
    "DROP TABLE IF EXISTS f1_raw.circuits;\n",
    "CREATE EXTERNAL TABLE IF NOT EXISTS f1_raw.circuits(\n",
    "circuitId INT,\n",
    "circuitRef STRING,\n",
    "name STRING,\n",
    "location STRING,\n",
    "country STRING,\n",
    "lat DOUBLE,\n",
    "lng DOUBLE,\n",
    "alt INT,\n",
    "url STRING\n",
    ")\n",
    "USING CSV\n",
    "OPTIONS (path \"/mnt/formula1dl/raw/circuits.csv\", header true)\n",
    "-- Esta otra forma duplica la primera fila, para usarla como header y como primera fila\n",
    "-- TBLPROPERTIES(\"skip.header.line.count\"=\"1\")\n",
    "-- LOCATION \"/mnt/formula1dl/raw/circuits.csv\";"
   ]
  },
  {
   "cell_type": "markdown",
   "metadata": {},
   "source": [
    "### Crear tabla **f1_raw.constructors**"
   ]
  },
  {
   "cell_type": "code",
   "execution_count": null,
   "metadata": {},
   "outputs": [],
   "source": [
    "%sql\n",
    "DROP TABLE IF EXISTS f1_raw.constructors;\n",
    "CREATE EXTERNAL TABLE IF NOT EXISTS f1_raw.constructors(\n",
    "constructorId INT,\n",
    "constructorRef STRING,\n",
    "name STRING,\n",
    "nationality STRING,\n",
    "url STRING)\n",
    "USING JSON\n",
    "OPTIONS (path \"/mnt/formula1dl/raw/constructors.json\")"
   ]
  },
  {
   "cell_type": "markdown",
   "metadata": {},
   "source": [
    "### Crear tabla **f1_raw.drivers**"
   ]
  },
  {
   "cell_type": "code",
   "execution_count": null,
   "metadata": {},
   "outputs": [],
   "source": [
    "%sql\n",
    "DROP TABLE IF EXISTS f1_raw.drivers;\n",
    "CREATE EXTERNAL TABLE IF NOT EXISTS f1_raw.drivers(\n",
    "driverId INT,\n",
    "driverRef STRING,\n",
    "number INT,\n",
    "code STRING,\n",
    "name STRUCT<forename: STRING, surname: STRING>,\n",
    "dob DATE,\n",
    "nationality STRING,\n",
    "url STRING)\n",
    "USING JSON\n",
    "OPTIONS (path \"/mnt/formula1dl/raw/drivers.json\")"
   ]
  },
  {
   "cell_type": "markdown",
   "metadata": {},
   "source": [
    "### Crear tabla **f1_raw.lap_times**"
   ]
  },
  {
   "cell_type": "code",
   "execution_count": null,
   "metadata": {},
   "outputs": [],
   "source": [
    "%sql\n",
    "DROP TABLE IF EXISTS f1_raw.lap_times;\n",
    "CREATE EXTERNAL TABLE IF NOT EXISTS f1_raw.lap_times(\n",
    "raceId INT,\n",
    "driverId INT,\n",
    "lap INT,\n",
    "position INT,\n",
    "time STRING,\n",
    "milliseconds INT\n",
    ")\n",
    "USING CSV\n",
    "OPTIONS (path \"/mnt/formula1dl/raw/lap_times\")"
   ]
  },
  {
   "cell_type": "markdown",
   "metadata": {},
   "source": [
    "### Crear tabla **f1_raw.pit_stops**"
   ]
  },
  {
   "cell_type": "code",
   "execution_count": null,
   "metadata": {},
   "outputs": [],
   "source": [
    "%sql\n",
    "DROP TABLE IF EXISTS f1_raw.pit_stops;\n",
    "CREATE EXTERNAL TABLE IF NOT EXISTS f1_raw.pit_stops(\n",
    "driverId INT,\n",
    "duration STRING,\n",
    "lap INT,\n",
    "milliseconds INT,\n",
    "raceId INT,\n",
    "stop INT,\n",
    "time STRING)\n",
    "USING JSON\n",
    "OPTIONS(path \"/mnt/formula1dl/raw/pit_stops.json\", multiLine true)"
   ]
  },
  {
   "cell_type": "markdown",
   "metadata": {},
   "source": [
    "### Crear tabla **f1_raw.qualifying**"
   ]
  },
  {
   "cell_type": "code",
   "execution_count": null,
   "metadata": {},
   "outputs": [],
   "source": [
    "%sql\n",
    "DROP TABLE IF EXISTS f1_raw.qualifying;\n",
    "CREATE EXTERNAL TABLE IF NOT EXISTS f1_raw.qualifying(\n",
    "constructorId INT,\n",
    "driverId INT,\n",
    "number INT,\n",
    "position INT,\n",
    "q1 STRING,\n",
    "q2 STRING,\n",
    "q3 STRING,\n",
    "qualifyId INT,\n",
    "raceId INT)\n",
    "USING JSON\n",
    "OPTIONS (path \"/mnt/formula1dl/raw/qualifying\", multiLine true)"
   ]
  },
  {
   "cell_type": "markdown",
   "metadata": {},
   "source": [
    "### Crear tabla **f1_raw.races**"
   ]
  },
  {
   "cell_type": "code",
   "execution_count": null,
   "metadata": {},
   "outputs": [],
   "source": [
    "%sql\n",
    "DROP TABLE IF EXISTS f1_raw.races;\n",
    "CREATE EXTERNAL TABLE IF NOT EXISTS f1_raw.races(raceId INT,\n",
    "year INT,\n",
    "round INT,\n",
    "circuitId INT,\n",
    "name STRING,\n",
    "date DATE,\n",
    "time STRING,\n",
    "url STRING)\n",
    "USING CSV\n",
    "OPTIONS (path \"/mnt/formula1dl/raw/races.csv\", header true)"
   ]
  },
  {
   "cell_type": "markdown",
   "metadata": {},
   "source": [
    "### Crear tabla **f1_raw.results**"
   ]
  },
  {
   "cell_type": "code",
   "execution_count": null,
   "metadata": {},
   "outputs": [],
   "source": [
    "%sql\n",
    "DROP TABLE IF EXISTS f1_raw.results;\n",
    "CREATE EXTERNAL TABLE IF NOT EXISTS f1_raw.results(\n",
    "resultId INT,\n",
    "raceId INT,\n",
    "driverId INT,\n",
    "constructorId INT,\n",
    "number INT,grid INT,\n",
    "position INT,\n",
    "positionText STRING,\n",
    "positionOrder INT,\n",
    "points INT,\n",
    "laps INT,\n",
    "time STRING,\n",
    "milliseconds INT,\n",
    "fastestLap INT,\n",
    "rank INT,\n",
    "fastestLapTime STRING,\n",
    "fastestLapSpeed FLOAT,\n",
    "statusId STRING)\n",
    "USING JSON\n",
    "OPTIONS(path \"/mnt/formula1dl/raw/results.json\")"
   ]
  }
 ],
 "metadata": {
  "language_info": {
   "name": "python"
  }
 },
 "nbformat": 4,
 "nbformat_minor": 2
}
