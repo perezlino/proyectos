{
 "cells": [
  {
   "cell_type": "markdown",
   "metadata": {},
   "source": [
    "## **Consultas para el Análisis de Datos utilizando la capa `presentation`**"
   ]
  },
  {
   "cell_type": "code",
   "execution_count": null,
   "metadata": {
    "vscode": {
     "languageId": "sql"
    }
   },
   "outputs": [],
   "source": [
    "USE f1_processed;"
   ]
  },
  {
   "cell_type": "markdown",
   "metadata": {},
   "source": [
    "### Análisis de los pilotos"
   ]
  },
  {
   "cell_type": "code",
   "execution_count": null,
   "metadata": {
    "vscode": {
     "languageId": "sql"
    }
   },
   "outputs": [
    {
     "data": {
      "text/html": [
       "<style scoped>\n",
       "  .table-result-container {\n",
       "    max-height: 300px;\n",
       "    overflow: auto;\n",
       "  }\n",
       "  table, th, td {\n",
       "    border: 1px solid black;\n",
       "    border-collapse: collapse;\n",
       "  }\n",
       "  th, td {\n",
       "    padding: 5px;\n",
       "  }\n",
       "  th {\n",
       "    text-align: left;\n",
       "  }\n",
       "</style><div class='table-result-container'><table class='table-result'><thead style='background-color: white'><tr><th>driver_name</th><th>total_races</th><th>total_points</th><th>avg_points</th></tr></thead><tbody><tr><td>Alain Prost</td><td>138</td><td>1156</td><td>8.376811594202898</td></tr><tr><td>Ayrton Senna</td><td>104</td><td>869</td><td>8.35576923076923</td></tr><tr><td>Jackie Stewart</td><td>61</td><td>507</td><td>8.311475409836065</td></tr><tr><td>Lewis Hamilton</td><td>232</td><td>1903</td><td>8.202586206896552</td></tr><tr><td>Michael Schumacher</td><td>226</td><td>1796</td><td>7.946902654867257</td></tr><tr><td>Nigel Mansell</td><td>90</td><td>713</td><td>7.9222222222222225</td></tr><tr><td>Niki Lauda</td><td>81</td><td>639</td><td>7.888888888888889</td></tr><tr><td>Sebastian Vettel</td><td>203</td><td>1565</td><td>7.70935960591133</td></tr><tr><td>Damon Hill</td><td>70</td><td>520</td><td>7.428571428571429</td></tr><tr><td>Juan Pablo Montoya</td><td>58</td><td>427</td><td>7.362068965517241</td></tr><tr><td>Nelson Piquet</td><td>115</td><td>845</td><td>7.3478260869565215</td></tr><tr><td>Mika Häkkinen</td><td>96</td><td>694</td><td>7.229166666666667</td></tr><tr><td>Jack Brabham</td><td>67</td><td>473</td><td>7.059701492537314</td></tr><tr><td>Bruce McLaren</td><td>58</td><td>404</td><td>6.9655172413793105</td></tr><tr><td>Denny Hulme</td><td>72</td><td>497</td><td>6.902777777777778</td></tr><tr><td>Max Verstappen</td><td>88</td><td>605</td><td>6.875</td></tr><tr><td>John Surtees</td><td>50</td><td>343</td><td>6.86</td></tr><tr><td>Carlos Reutemann</td><td>86</td><td>585</td><td>6.8023255813953485</td></tr><tr><td>Jody Scheckter</td><td>68</td><td>461</td><td>6.779411764705882</td></tr><tr><td>Valtteri Bottas</td><td>117</td><td>793</td><td>6.777777777777778</td></tr><tr><td>Fernando Alonso</td><td>209</td><td>1411</td><td>6.751196172248804</td></tr><tr><td>Gerhard Berger</td><td>112</td><td>755</td><td>6.741071428571429</td></tr><tr><td>Emerson Fittipaldi</td><td>76</td><td>506</td><td>6.657894736842105</td></tr><tr><td>Alan Jones</td><td>54</td><td>354</td><td>6.555555555555555</td></tr><tr><td>Kimi Räikkönen</td><td>227</td><td>1479</td><td>6.515418502202643</td></tr><tr><td>Jacky Ickx</td><td>56</td><td>354</td><td>6.321428571428571</td></tr><tr><td>David Coulthard</td><td>146</td><td>922</td><td>6.315068493150685</td></tr><tr><td>Graham Hill</td><td>86</td><td>542</td><td>6.3023255813953485</td></tr><tr><td>Jacques Laffite</td><td>80</td><td>501</td><td>6.2625</td></tr><tr><td>Clay Regazzoni</td><td>71</td><td>444</td><td>6.253521126760563</td></tr><tr><td>Ronnie Peterson</td><td>60</td><td>375</td><td>6.25</td></tr><tr><td>Nico Rosberg</td><td>144</td><td>899</td><td>6.243055555555555</td></tr><tr><td>Mario Andretti</td><td>55</td><td>342</td><td>6.218181818181818</td></tr><tr><td>Keke Rosberg</td><td>52</td><td>320</td><td>6.153846153846154</td></tr><tr><td>Rubens Barrichello</td><td>172</td><td>1029</td><td>5.982558139534884</td></tr><tr><td>Elio de Angelis</td><td>54</td><td>319</td><td>5.907407407407407</td></tr><tr><td>Ralf Schumacher</td><td>105</td><td>617</td><td>5.876190476190477</td></tr><tr><td>Eddie Irvine</td><td>76</td><td>440</td><td>5.7894736842105265</td></tr><tr><td>Daniel Ricciardo</td><td>111</td><td>639</td><td>5.756756756756757</td></tr><tr><td>Michele Alboreto</td><td>74</td><td>423</td><td>5.716216216216216</td></tr><tr><td>Mark Webber</td><td>132</td><td>753</td><td>5.704545454545454</td></tr><tr><td>Riccardo Patrese</td><td>108</td><td>614</td><td>5.685185185185185</td></tr><tr><td>Jenson Button</td><td>180</td><td>1020</td><td>5.666666666666667</td></tr><tr><td>Jean Alesi</td><td>106</td><td>591</td><td>5.5754716981132075</td></tr><tr><td>René Arnoux</td><td>68</td><td>377</td><td>5.544117647058823</td></tr><tr><td>Heinz-Harald Frentzen</td><td>82</td><td>451</td><td>5.5</td></tr><tr><td>John Watson</td><td>75</td><td>412</td><td>5.493333333333333</td></tr><tr><td>Robert Kubica</td><td>52</td><td>284</td><td>5.461538461538462</td></tr><tr><td>Jacques Villeneuve</td><td>86</td><td>461</td><td>5.3604651162790695</td></tr><tr><td>Patrick Tambay</td><td>52</td><td>277</td><td>5.326923076923077</td></tr><tr><td>Felipe Massa</td><td>187</td><td>960</td><td>5.133689839572193</td></tr><tr><td>Giancarlo Fisichella</td><td>112</td><td>556</td><td>4.964285714285714</td></tr><tr><td>Thierry Boutsen</td><td>79</td><td>382</td><td>4.8354430379746836</td></tr><tr><td>Martin Brundle</td><td>69</td><td>328</td><td>4.753623188405797</td></tr><tr><td>Jarno Trulli</td><td>106</td><td>496</td><td>4.679245283018868</td></tr><tr><td>Johnny Herbert</td><td>70</td><td>317</td><td>4.5285714285714285</td></tr><tr><td>Derek Warwick</td><td>55</td><td>249</td><td>4.527272727272727</td></tr><tr><td>Nick Heidfeld</td><td>101</td><td>447</td><td>4.425742574257426</td></tr><tr><td>Andrea de Cesaris</td><td>52</td><td>219</td><td>4.211538461538462</td></tr><tr><td>Olivier Panis</td><td>65</td><td>269</td><td>4.138461538461539</td></tr><tr><td>Romain Grosjean</td><td>59</td><td>244</td><td>4.135593220338983</td></tr><tr><td>Sergio Pérez</td><td>116</td><td>446</td><td>3.8448275862068964</td></tr><tr><td>Carlos Sainz</td><td>65</td><td>244</td><td>3.753846153846154</td></tr><tr><td>Nico Hülkenberg</td><td>97</td><td>345</td><td>3.556701030927835</td></tr></tbody></table></div>"
      ]
     },
     "metadata": {},
     "output_type": "display_data"
    }
   ],
   "source": [
    "SELECT driver_name,\n",
    "       COUNT(1) AS total_races,\n",
    "       SUM(calculated_points) AS total_points,\n",
    "       AVG(calculated_points) AS avg_points\n",
    "  FROM f1_presentation.calculated_race_results\n",
    "GROUP BY driver_name\n",
    "HAVING COUNT(1) >= 50\n",
    "ORDER BY avg_points DESC"
   ]
  },
  {
   "cell_type": "code",
   "execution_count": null,
   "metadata": {
    "vscode": {
     "languageId": "sql"
    }
   },
   "outputs": [
    {
     "data": {
      "text/html": [
       "<style scoped>\n",
       "  .table-result-container {\n",
       "    max-height: 300px;\n",
       "    overflow: auto;\n",
       "  }\n",
       "  table, th, td {\n",
       "    border: 1px solid black;\n",
       "    border-collapse: collapse;\n",
       "  }\n",
       "  th, td {\n",
       "    padding: 5px;\n",
       "  }\n",
       "  th {\n",
       "    text-align: left;\n",
       "  }\n",
       "</style><div class='table-result-container'><table class='table-result'><thead style='background-color: white'><tr><th>driver_name</th><th>total_races</th><th>total_points</th><th>avg_points</th></tr></thead><tbody><tr><td>Lewis Hamilton</td><td>177</td><td>1478</td><td>8.350282485875706</td></tr><tr><td>Sebastian Vettel</td><td>164</td><td>1282</td><td>7.817073170731708</td></tr><tr><td>Nico Rosberg</td><td>93</td><td>673</td><td>7.236559139784946</td></tr><tr><td>Max Verstappen</td><td>88</td><td>605</td><td>6.875</td></tr><tr><td>Valtteri Bottas</td><td>117</td><td>793</td><td>6.777777777777778</td></tr><tr><td>Fernando Alonso</td><td>95</td><td>584</td><td>6.147368421052631</td></tr><tr><td>Kimi Räikkönen</td><td>121</td><td>721</td><td>5.958677685950414</td></tr><tr><td>Daniel Ricciardo</td><td>111</td><td>639</td><td>5.756756756756757</td></tr><tr><td>Jenson Button</td><td>69</td><td>377</td><td>5.463768115942029</td></tr><tr><td>Felipe Massa</td><td>94</td><td>427</td><td>4.542553191489362</td></tr><tr><td>Romain Grosjean</td><td>59</td><td>244</td><td>4.135593220338983</td></tr><tr><td>Sergio Pérez</td><td>116</td><td>446</td><td>3.8448275862068964</td></tr><tr><td>Carlos Sainz</td><td>65</td><td>244</td><td>3.753846153846154</td></tr><tr><td>Nico Hülkenberg</td><td>90</td><td>329</td><td>3.6555555555555554</td></tr></tbody></table></div>"
      ]
     },
     "metadata": {},
     "output_type": "display_data"
    }
   ],
   "source": [
    "SELECT driver_name,\n",
    "       COUNT(1) AS total_races,\n",
    "       SUM(calculated_points) AS total_points,\n",
    "       AVG(calculated_points) AS avg_points\n",
    "  FROM f1_presentation.calculated_race_results\n",
    " WHERE race_year BETWEEN 2011 AND 2020\n",
    "GROUP BY driver_name\n",
    "HAVING COUNT(1) >= 50\n",
    "ORDER BY avg_points DESC"
   ]
  },
  {
   "cell_type": "code",
   "execution_count": null,
   "metadata": {
    "vscode": {
     "languageId": "sql"
    }
   },
   "outputs": [
    {
     "data": {
      "text/html": [
       "<style scoped>\n",
       "  .table-result-container {\n",
       "    max-height: 300px;\n",
       "    overflow: auto;\n",
       "  }\n",
       "  table, th, td {\n",
       "    border: 1px solid black;\n",
       "    border-collapse: collapse;\n",
       "  }\n",
       "  th, td {\n",
       "    padding: 5px;\n",
       "  }\n",
       "  th {\n",
       "    text-align: left;\n",
       "  }\n",
       "</style><div class='table-result-container'><table class='table-result'><thead style='background-color: white'><tr><th>driver_name</th><th>total_races</th><th>total_points</th><th>avg_points</th></tr></thead><tbody><tr><td>Michael Schumacher</td><td>104</td><td>832</td><td>8.0</td></tr><tr><td>Lewis Hamilton</td><td>55</td><td>425</td><td>7.7272727272727275</td></tr><tr><td>Juan Pablo Montoya</td><td>58</td><td>427</td><td>7.362068965517241</td></tr><tr><td>Fernando Alonso</td><td>114</td><td>827</td><td>7.254385964912281</td></tr><tr><td>Kimi Räikkönen</td><td>106</td><td>758</td><td>7.150943396226415</td></tr><tr><td>Rubens Barrichello</td><td>113</td><td>696</td><td>6.15929203539823</td></tr><tr><td>Jenson Button</td><td>102</td><td>601</td><td>5.892156862745098</td></tr><tr><td>Felipe Massa</td><td>93</td><td>533</td><td>5.731182795698925</td></tr><tr><td>Ralf Schumacher</td><td>70</td><td>399</td><td>5.7</td></tr><tr><td>Robert Kubica</td><td>51</td><td>283</td><td>5.549019607843137</td></tr><tr><td>David Coulthard</td><td>79</td><td>424</td><td>5.367088607594937</td></tr><tr><td>Jarno Trulli</td><td>83</td><td>409</td><td>4.927710843373494</td></tr><tr><td>Mark Webber</td><td>84</td><td>411</td><td>4.892857142857143</td></tr><tr><td>Giancarlo Fisichella</td><td>74</td><td>361</td><td>4.878378378378378</td></tr><tr><td>Nick Heidfeld</td><td>92</td><td>418</td><td>4.543478260869565</td></tr><tr><td>Nico Rosberg</td><td>51</td><td>226</td><td>4.431372549019608</td></tr></tbody></table></div>"
      ]
     },
     "metadata": {},
     "output_type": "display_data"
    }
   ],
   "source": [
    "SELECT driver_name,\n",
    "       COUNT(1) AS total_races,\n",
    "       SUM(calculated_points) AS total_points,\n",
    "       AVG(calculated_points) AS avg_points\n",
    "  FROM f1_presentation.calculated_race_results\n",
    " WHERE race_year BETWEEN 2001 AND 2010\n",
    "GROUP BY driver_name\n",
    "HAVING COUNT(1) >= 50\n",
    "ORDER BY avg_points DESC"
   ]
  },
  {
   "cell_type": "markdown",
   "metadata": {},
   "source": [
    "### Análisis de los equipos"
   ]
  },
  {
   "cell_type": "code",
   "execution_count": null,
   "metadata": {
    "vscode": {
     "languageId": "sql"
    }
   },
   "outputs": [
    {
     "data": {
      "text/html": [
       "<style scoped>\n",
       "  .table-result-container {\n",
       "    max-height: 300px;\n",
       "    overflow: auto;\n",
       "  }\n",
       "  table, th, td {\n",
       "    border: 1px solid black;\n",
       "    border-collapse: collapse;\n",
       "  }\n",
       "  th, td {\n",
       "    padding: 5px;\n",
       "  }\n",
       "  th {\n",
       "    text-align: left;\n",
       "  }\n",
       "</style><div class='table-result-container'><table class='table-result'><thead style='background-color: white'><tr><th>team_name</th><th>total_races</th><th>total_points</th><th>avg_points</th></tr></thead><tbody><tr><td>Mercedes</td><td>385</td><td>2931</td><td>7.612987012987013</td></tr><tr><td>Ferrari</td><td>1478</td><td>10500</td><td>7.104194857916103</td></tr><tr><td>McLaren</td><td>1032</td><td>6865</td><td>6.6521317829457365</td></tr><tr><td>Red Bull</td><td>433</td><td>2851</td><td>6.584295612009238</td></tr><tr><td>Williams</td><td>745</td><td>4759</td><td>6.387919463087249</td></tr><tr><td>Benetton</td><td>296</td><td>1806</td><td>6.101351351351352</td></tr><tr><td>Team Lotus</td><td>352</td><td>2100</td><td>5.965909090909091</td></tr><tr><td>Cooper-Climax</td><td>130</td><td>772</td><td>5.938461538461539</td></tr><tr><td>Brabham</td><td>235</td><td>1373</td><td>5.842553191489362</td></tr><tr><td>BRM</td><td>215</td><td>1212</td><td>5.637209302325582</td></tr><tr><td>Renault</td><td>385</td><td>2105</td><td>5.467532467532467</td></tr><tr><td>Maserati</td><td>179</td><td>950</td><td>5.307262569832402</td></tr><tr><td>Tyrrell</td><td>339</td><td>1749</td><td>5.15929203539823</td></tr><tr><td>Jordan</td><td>184</td><td>882</td><td>4.793478260869565</td></tr><tr><td>Ligier</td><td>248</td><td>1134</td><td>4.57258064516129</td></tr><tr><td>BAR</td><td>112</td><td>509</td><td>4.544642857142857</td></tr><tr><td>Toyota</td><td>130</td><td>535</td><td>4.115384615384615</td></tr><tr><td>March</td><td>136</td><td>550</td><td>4.044117647058823</td></tr><tr><td>Arrows</td><td>196</td><td>730</td><td>3.7244897959183674</td></tr><tr><td>Sauber</td><td>298</td><td>1058</td><td>3.5503355704697985</td></tr><tr><td>Force India</td><td>211</td><td>742</td><td>3.5165876777251186</td></tr><tr><td>Minardi</td><td>113</td><td>330</td><td>2.920353982300885</td></tr><tr><td>Toro Rosso</td><td>158</td><td>438</td><td>2.7721518987341773</td></tr></tbody></table></div>"
      ]
     },
     "metadata": {},
     "output_type": "display_data"
    }
   ],
   "source": [
    "SELECT team_name,\n",
    "       COUNT(1) AS total_races,\n",
    "       SUM(calculated_points) AS total_points,\n",
    "       AVG(calculated_points) AS avg_points\n",
    "  FROM f1_presentation.calculated_race_results\n",
    "GROUP BY team_name\n",
    "HAVING COUNT(1) >= 100\n",
    "ORDER BY avg_points DESC"
   ]
  },
  {
   "cell_type": "code",
   "execution_count": null,
   "metadata": {
    "vscode": {
     "languageId": "sql"
    }
   },
   "outputs": [
    {
     "data": {
      "text/html": [
       "<style scoped>\n",
       "  .table-result-container {\n",
       "    max-height: 300px;\n",
       "    overflow: auto;\n",
       "  }\n",
       "  table, th, td {\n",
       "    border: 1px solid black;\n",
       "    border-collapse: collapse;\n",
       "  }\n",
       "  th, td {\n",
       "    padding: 5px;\n",
       "  }\n",
       "  th {\n",
       "    text-align: left;\n",
       "  }\n",
       "</style><div class='table-result-container'><table class='table-result'><thead style='background-color: white'><tr><th>team_name</th><th>total_races</th><th>total_points</th><th>avg_points</th></tr></thead><tbody><tr><td>Mercedes</td><td>331</td><td>2580</td><td>7.794561933534744</td></tr><tr><td>Red Bull</td><td>313</td><td>2201</td><td>7.031948881789138</td></tr><tr><td>Ferrari</td><td>314</td><td>2095</td><td>6.671974522292993</td></tr><tr><td>McLaren</td><td>204</td><td>984</td><td>4.823529411764706</td></tr><tr><td>Williams</td><td>125</td><td>531</td><td>4.248</td></tr><tr><td>Force India</td><td>189</td><td>671</td><td>3.5502645502645502</td></tr><tr><td>Toro Rosso</td><td>119</td><td>316</td><td>2.6554621848739495</td></tr></tbody></table></div>"
      ]
     },
     "metadata": {},
     "output_type": "display_data"
    }
   ],
   "source": [
    "SELECT team_name,\n",
    "       COUNT(1) AS total_races,\n",
    "       SUM(calculated_points) AS total_points,\n",
    "       AVG(calculated_points) AS avg_points\n",
    "  FROM f1_presentation.calculated_race_results\n",
    " WHERE race_year BETWEEN 2011 AND 2020\n",
    "GROUP BY team_name\n",
    "HAVING COUNT(1) >= 100\n",
    "ORDER BY avg_points DESC"
   ]
  },
  {
   "cell_type": "code",
   "execution_count": null,
   "metadata": {
    "vscode": {
     "languageId": "sql"
    }
   },
   "outputs": [
    {
     "data": {
      "text/html": [
       "<style scoped>\n",
       "  .table-result-container {\n",
       "    max-height: 300px;\n",
       "    overflow: auto;\n",
       "  }\n",
       "  table, th, td {\n",
       "    border: 1px solid black;\n",
       "    border-collapse: collapse;\n",
       "  }\n",
       "  th, td {\n",
       "    padding: 5px;\n",
       "  }\n",
       "  th {\n",
       "    text-align: left;\n",
       "  }\n",
       "</style><div class='table-result-container'><table class='table-result'><thead style='background-color: white'><tr><th>team_name</th><th>total_races</th><th>total_points</th><th>avg_points</th></tr></thead><tbody><tr><td>Ferrari</td><td>312</td><td>2335</td><td>7.483974358974359</td></tr><tr><td>McLaren</td><td>277</td><td>1980</td><td>7.148014440433213</td></tr><tr><td>Red Bull</td><td>156</td><td>958</td><td>6.141025641025641</td></tr><tr><td>Renault</td><td>216</td><td>1236</td><td>5.722222222222222</td></tr><tr><td>Williams</td><td>182</td><td>967</td><td>5.313186813186813</td></tr><tr><td>Toyota</td><td>130</td><td>535</td><td>4.115384615384615</td></tr><tr><td>Sauber</td><td>121</td><td>402</td><td>3.322314049586777</td></tr></tbody></table></div>"
      ]
     },
     "metadata": {},
     "output_type": "display_data"
    }
   ],
   "source": [
    "SELECT team_name,\n",
    "       COUNT(1) AS total_races,\n",
    "       SUM(calculated_points) AS total_points,\n",
    "       AVG(calculated_points) AS avg_points\n",
    "  FROM f1_presentation.calculated_race_results\n",
    " WHERE race_year BETWEEN 2001 AND 2011\n",
    "GROUP BY team_name\n",
    "HAVING COUNT(1) >= 100\n",
    "ORDER BY avg_points DESC"
   ]
  }
 ],
 "metadata": {
  "language_info": {
   "name": "python"
  }
 },
 "nbformat": 4,
 "nbformat_minor": 2
}
