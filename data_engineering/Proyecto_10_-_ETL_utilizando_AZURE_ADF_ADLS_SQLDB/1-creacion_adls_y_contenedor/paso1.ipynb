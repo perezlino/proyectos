{
 "cells": [
  {
   "cell_type": "markdown",
   "metadata": {},
   "source": [
    "## **`Paso 1`: Creación ADLS `adlsproyectos` y contenedor `raw`**"
   ]
  },
  {
   "cell_type": "markdown",
   "metadata": {},
   "source": [
    "### **1.2 - Crear una cuenta de almacenamiento**"
   ]
  },
  {
   "cell_type": "markdown",
   "metadata": {},
   "source": [
    "1. En el menú del portal, selecciona **Crear un recurso**.\n",
    "2. Busca **Almacenamiento** y selecciona **Cuenta de almacenamiento**.\n",
    "3. Haz clic en **Crear**."
   ]
  },
  {
   "cell_type": "markdown",
   "metadata": {},
   "source": [
    "[![p496.png](https://i.postimg.cc/hv2SXzPn/p496.png)](https://postimg.cc/kRtrZ5bY)\n",
    "[![p497.png](https://i.postimg.cc/28XkmZKF/p497.png)](https://postimg.cc/hfTW1fgf)\n",
    "[![p498.png](https://i.postimg.cc/Sx2yKK00/p498.png)](https://postimg.cc/XrWMH47x)"
   ]
  },
  {
   "cell_type": "markdown",
   "metadata": {},
   "source": [
    "### **1.3 - Configurar la cuenta de almacenamiento**"
   ]
  },
  {
   "cell_type": "markdown",
   "metadata": {},
   "source": [
    "1. **Suscripción**: Selecciona la suscripción en la que deseas crear la cuenta.\n",
    "2. **Grupo de recursos**: Puedes seleccionar un grupo de recursos existente o crear uno nuevo. Se creó el grupo de recursos **rg-proyectos**.\n",
    "3. **Nombre de la cuenta de almacenamiento**: Proporciona un nombre único (debe ser entre 3 y 24 caracteres, y solo letras y números). Le di el nombre de **adlsproyectos**.\n",
    "4. **Región**: Selecciona la región más cercana a tus usuarios o aplicaciones. Seleccione **East US**.\n",
    "5. **Primary Service**: Selecciona **Azure Blob Storage or Azure Data Lake Storage Gen 2**.\n",
    "6. **Performance**: Puedes elegir entre \"Standard\" o \"Premium\", según tus necesidades. Seleccione **Standard**.\n",
    "7. **Replication**: Elige el tipo de replicación deseado (LRS, GRS, etc.). Seleccione **GRS**."
   ]
  },
  {
   "cell_type": "markdown",
   "metadata": {},
   "source": [
    "[![p499.png](https://i.postimg.cc/G3K37NPf/p499.png)](https://postimg.cc/K4Ky40H7)\n",
    "[![p500.png](https://i.postimg.cc/RV0SjRXZ/p500.png)](https://postimg.cc/dDzcCGbb)"
   ]
  },
  {
   "cell_type": "markdown",
   "metadata": {},
   "source": [
    "### **1.4 - Habilitar características de Data Lake**"
   ]
  },
  {
   "cell_type": "markdown",
   "metadata": {},
   "source": [
    "1. En la sección **Advanced**, asegúrate de habilitar **Habilitar el jerarquía de archivos (Hierarchical Namespace)** para usar características de ADLS Gen2.\n",
    "2. Configura el resto de las opciones según tus necesidades (por ejemplo, cifrado, redes, etc.)."
   ]
  },
  {
   "cell_type": "markdown",
   "metadata": {},
   "source": [
    "[![p501.png](https://i.postimg.cc/2SsCLfm1/p501.png)](https://postimg.cc/pmJw34mv)\n",
    "[![p502.png](https://i.postimg.cc/JhjMbd4P/p502.png)](https://postimg.cc/1gRkSBFq)"
   ]
  },
  {
   "cell_type": "markdown",
   "metadata": {},
   "source": [
    "### **1.5 - Revisión y creación**"
   ]
  },
  {
   "cell_type": "markdown",
   "metadata": {},
   "source": [
    "1. Revisa todas las configuraciones.\n",
    "2. Haz clic en **Crear** para crear la cuenta de almacenamiento."
   ]
  },
  {
   "cell_type": "markdown",
   "metadata": {},
   "source": [
    "[![p503.png](https://i.postimg.cc/d1vvnmhv/p503.png)](https://postimg.cc/d7WzVCRS)\n",
    "[![p504.png](https://i.postimg.cc/3RBhq4GG/p504.png)](https://postimg.cc/BLXRLvMZ)"
   ]
  },
  {
   "cell_type": "markdown",
   "metadata": {},
   "source": [
    "### **1.6 - Acceder a tu Data Lake Storage**"
   ]
  },
  {
   "cell_type": "markdown",
   "metadata": {},
   "source": [
    "1. Una vez que se haya creado la cuenta, ve a **Cuentas de almacenamiento** en el menú del portal.\n",
    "2. Selecciona la cuenta de almacenamiento que acabas de crear **adlsproyectos**."
   ]
  },
  {
   "cell_type": "markdown",
   "metadata": {},
   "source": [
    "[![p505.png](https://i.postimg.cc/kXhbZDNL/p505.png)](https://postimg.cc/dLr3Zsx9)\n",
    "[![p506.png](https://i.postimg.cc/Bnr1SyVg/p506.png)](https://postimg.cc/pmBdk0xh)\n",
    "[![p507.png](https://i.postimg.cc/sXcBJ2D6/p507.png)](https://postimg.cc/JDs4rMXZ)\n",
    "[![p508.png](https://i.postimg.cc/LsjgnDdM/p508.png)](https://postimg.cc/wtTjrhTW)"
   ]
  },
  {
   "cell_type": "markdown",
   "metadata": {},
   "source": [
    "### **1.7 - Crear el Contenedor \"raw\"**"
   ]
  },
  {
   "cell_type": "markdown",
   "metadata": {},
   "source": [
    "1. En la página de la cuenta de almacenamiento, busca y selecciona **Contenedores** en el menú lateral.\n",
    "2. Haz clic en el botón **+ Contenedor** en la parte superior de la página.\n",
    "3. En el cuadro de diálogo que aparece, ingresa el nombre `raw`.\n",
    "4. Le damos un de nivel de acceso  **Privado** para que no sea accesible públicamente.\n",
    "5. Haz clic en **Crear**."
   ]
  },
  {
   "cell_type": "markdown",
   "metadata": {},
   "source": [
    "[![p509.png](https://i.postimg.cc/1tPn6FPV/p509.png)](https://postimg.cc/NyJjv5KQ)\n",
    "[![p510.png](https://i.postimg.cc/HnkrvCrp/p510.png)](https://postimg.cc/xJBjqhG7)\n",
    "[![p511.png](https://i.postimg.cc/hvZfH3mV/p511.png)](https://postimg.cc/YLgrFRbS)"
   ]
  }
 ],
 "metadata": {
  "language_info": {
   "name": "python"
  }
 },
 "nbformat": 4,
 "nbformat_minor": 2
}
