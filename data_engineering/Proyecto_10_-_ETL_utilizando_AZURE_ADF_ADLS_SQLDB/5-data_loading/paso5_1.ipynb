{
 "cells": [
  {
   "attachments": {},
   "cell_type": "markdown",
   "metadata": {},
   "source": [
    "## **`Paso 5.1`: Creación de un Linked Services con referencia hacia Azure SQL Database**"
   ]
  },
  {
   "cell_type": "markdown",
   "metadata": {},
   "source": [
    "### **1. Crear el Linked Service de destino `LS_AzureSqlDatabase_IPL_db` que hace referencia hacia Azure SQL Database.**"
   ]
  },
  {
   "cell_type": "markdown",
   "metadata": {},
   "source": [
    "#### **Paso 1 - Crear un nuevo Linked Service**"
   ]
  },
  {
   "cell_type": "markdown",
   "metadata": {},
   "source": [
    "1. **Seleccionar la pestaña \"Manage\"**: En el menú de la izquierda dentro de tu Data Factory, haz clic en la pestaña **Manage** (Administrar).\n",
    "2. **Seleccionar \"Linked services\"**: En el panel de Manage, haz clic en **Linked services**.\n",
    "3. **Hacer clic en \"+ New\"**: En la parte superior, selecciona el botón **+ New** para crear un nuevo Linked Service."
   ]
  },
  {
   "cell_type": "markdown",
   "metadata": {},
   "source": [
    "[![p631.png](https://i.postimg.cc/YS963jvn/p631.png)](https://postimg.cc/JsfH7rcZ)\n",
    "[![p632.png](https://i.postimg.cc/mr5Q6RMb/p632.png)](https://postimg.cc/hJVzfkpw)"
   ]
  },
  {
   "cell_type": "markdown",
   "metadata": {},
   "source": [
    "#### **Paso 2 - Configurar el Linked Service**"
   ]
  },
  {
   "cell_type": "markdown",
   "metadata": {},
   "source": [
    "1. **Elegir tipo de Linked Service**: En la lista de opciones, busca y selecciona **Azure SQL Database** como el tipo de Linked Service.\n",
    "2. **Hacer clic en \"Continue\"**: Después de seleccionar **Azure SQL Database**, haz clic en **Continue** para continuar con la configuración."
   ]
  },
  {
   "cell_type": "markdown",
   "metadata": {},
   "source": [
    "[![p633.png](https://i.postimg.cc/C5jk1q21/p633.png)](https://postimg.cc/fSRJqJDn)"
   ]
  },
  {
   "cell_type": "markdown",
   "metadata": {},
   "source": [
    "#### **Paso 3 - Configurar los detalles del Linked Service**"
   ]
  },
  {
   "cell_type": "markdown",
   "metadata": {},
   "source": [
    "1. **Nombre del Linked Service**: Proporciona un nombre único para tu Linked Service. En nuestro caso será **LS_AzureSqlDatabase_IPL_db**.\n",
    "3. **Server name**: Selecciona **db-ipl-server**.\n",
    "4. **Database name**: Selecciona **db_IPL**.\n",
    "5. **Authentication type**: Selecciona **SQL authentication**.\n",
    "6. **User name**: Ingresa **dbadmin**.\n",
    "7. **Password**: Ingresa **Admin1234**.\n",
    "8. **Probar la conexión**: Haz clic en el botón **Test connection** (Probar conexión) para asegurarte de que la configuración es correcta. Debería mostrar un mensaje de éxito si todo está bien configurado.\n",
    "9. **Guardar el Linked Service**: Si la conexión se valida correctamente, haz clic en el botón **Create** (Crear) para guardar el Linked Service."
   ]
  },
  {
   "cell_type": "markdown",
   "metadata": {},
   "source": [
    "[![p634.png](https://i.postimg.cc/d3MGwB4p/p634.png)](https://postimg.cc/tZ5szh0N)\n",
    "[![p635.png](https://i.postimg.cc/RFJwk8Qw/p635.png)](https://postimg.cc/ftZ3X8Pb)"
   ]
  },
  {
   "cell_type": "markdown",
   "metadata": {},
   "source": [
    "#### **Paso 4: Verificar el Linked Service**"
   ]
  },
  {
   "cell_type": "markdown",
   "metadata": {},
   "source": [
    "1. **Revisar la lista de Linked Services**: Una vez creado, deberías ver tu nuevo Linked Service en la lista de Linked Services. Puedes hacer clic en él para revisar la configuración."
   ]
  },
  {
   "cell_type": "markdown",
   "metadata": {},
   "source": [
    "[![p641.png](https://i.postimg.cc/pVq2NTrY/p641.png)](https://postimg.cc/6T4snBdy)\n",
    "[![p642.png](https://i.postimg.cc/3JN33TDM/p642.png)](https://postimg.cc/mhvvSKwV)"
   ]
  }
 ],
 "metadata": {
  "language_info": {
   "name": "python"
  },
  "orig_nbformat": 4
 },
 "nbformat": 4,
 "nbformat_minor": 2
}
