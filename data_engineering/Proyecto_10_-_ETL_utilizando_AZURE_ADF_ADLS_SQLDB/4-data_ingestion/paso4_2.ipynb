{
 "cells": [
  {
   "attachments": {},
   "cell_type": "markdown",
   "metadata": {},
   "source": [
    "## **`Paso 4.2`: Creación de Datasets de origen y destino**"
   ]
  },
  {
   "cell_type": "markdown",
   "metadata": {},
   "source": [
    "### **1. Creación del Dataset de origen `ds_IPL_2008_csv` que hará referencia al archivo `ipl 2008.csv` del repositorio Github**"
   ]
  },
  {
   "cell_type": "markdown",
   "metadata": {},
   "source": [
    "#### **Paso 1: Crear un nuevo dataset**"
   ]
  },
  {
   "cell_type": "markdown",
   "metadata": {},
   "source": [
    "1. **Seleccionar la pestaña \"Author\"**: En el menú de la izquierda dentro de tu Data Factory, haz clic en la pestaña **Author** (Autor).\n",
    "2. **Seleccionar \"Datasets\"**: En el panel de **Author**, haz clic en **Datasets**.\n",
    "3. **Hacer clic en los tres puntos**: Junto a la opción **Datasets**, haz clic en los tres puntos (más opciones).\n",
    "4. **Seleccionar \"New dataset\"**: En el menú desplegable, selecciona **New dataset** para crear un nuevo dataset."
   ]
  },
  {
   "cell_type": "markdown",
   "metadata": {},
   "source": [
    "[![p531.png](https://i.postimg.cc/qqzLqxS0/p531.png)](https://postimg.cc/rR2WYxqY)\n",
    "[![p532.png](https://i.postimg.cc/sxqJhZCW/p532.png)](https://postimg.cc/D4QsV0Zf)"
   ]
  },
  {
   "cell_type": "markdown",
   "metadata": {},
   "source": [
    "#### **Paso 2: Configurar el nuevo dataset**"
   ]
  },
  {
   "cell_type": "markdown",
   "metadata": {},
   "source": [
    "1. **Elegir tipo de dataset**: En la ventana de selección, busca y selecciona **HTTP** como el tipo de datastore.\n",
    "2. **Hacer clic en \"Continue\"**: Después de seleccionar HTTP, haz clic en **Continue** para proceder."
   ]
  },
  {
   "cell_type": "markdown",
   "metadata": {},
   "source": [
    "[![p533.png](https://i.postimg.cc/3rc16z0w/p533.png)](https://postimg.cc/Dm114jgV)"
   ]
  },
  {
   "cell_type": "markdown",
   "metadata": {},
   "source": [
    "#### **Paso 3: Configurar el formato del dataset**"
   ]
  },
  {
   "cell_type": "markdown",
   "metadata": {},
   "source": [
    "1. **Seleccionar el formato**: En el campo de selección de formato, elige **DelimitedText**.\n",
    "2. **Hacer clic en \"Continue\"**: Después de seleccionar el formato, haz clic en **Continue**."
   ]
  },
  {
   "cell_type": "markdown",
   "metadata": {},
   "source": [
    "[![p534.png](https://i.postimg.cc/BnxCj6Y8/p534.png)](https://postimg.cc/bZwnMzj8)"
   ]
  },
  {
   "cell_type": "markdown",
   "metadata": {},
   "source": [
    "#### **Paso 4: Configurar las propiedades del dataset**"
   ]
  },
  {
   "cell_type": "markdown",
   "metadata": {},
   "source": [
    "1. **Nombre del dataset**: En el campo de nombre, ingresa `ds_IPL_2008_csv`.\n",
    "2. **Linked Service**: En el menú desplegable, selecciona el Linked Service que creaste previamente, `LS_HttpServer_GitHub`.\n",
    "3. **Relative URL**: En el campo de la URL relativa, ingresa `ipl_2008.csv`.\n",
    "4. **First row as header**: Activa la casilla para indicar que la primera fila contiene los encabezados.\n",
    "5. **Import schema**: Selecciona **None** para no importar un schema.\n",
    "6. **Guardar el dataset**: Haz clic en el botón **OK** para almacenar el nuevo dataset."
   ]
  },
  {
   "cell_type": "markdown",
   "metadata": {},
   "source": [
    "[![p535.png](https://i.postimg.cc/jSVXqNX0/p535.png)](https://postimg.cc/bsTb3ZW3)"
   ]
  },
  {
   "cell_type": "markdown",
   "metadata": {},
   "source": [
    "#### **Paso 5: Verificar el dataset**"
   ]
  },
  {
   "cell_type": "markdown",
   "metadata": {},
   "source": [
    "1. **Revisar la lista de datasets**: Deberías ver tu nuevo dataset `ds_IPL_2008_csv` en la lista de datasets. Puedes hacer clic en él para revisar su configuración."
   ]
  },
  {
   "cell_type": "markdown",
   "metadata": {},
   "source": [
    "[![p536.png](https://i.postimg.cc/bvkKBjRX/p536.png)](https://postimg.cc/SXQTn35V)"
   ]
  },
  {
   "cell_type": "markdown",
   "metadata": {},
   "source": [
    "### 2. **Crear el Dataset de destino `ds_Destination_IPL_2008_json` que hará referencia al archivo `IPL_2008.json` que no existe y que se almacenará en el contenedor `raw`**"
   ]
  },
  {
   "cell_type": "markdown",
   "metadata": {},
   "source": [
    "#### **Paso 1: Crear un nuevo dataset**"
   ]
  },
  {
   "cell_type": "markdown",
   "metadata": {},
   "source": [
    "1. **Seleccionar la pestaña \"Author\"**: En el menú de la izquierda dentro de tu Data Factory, haz clic en la pestaña **Author** (Autor).\n",
    "2. **Seleccionar \"Datasets\"**: En el panel de **Author**, haz clic en **Datasets**.\n",
    "3. **Hacer clic en los tres puntos**: Junto a la opción **Datasets**, haz clic en los tres puntos (más opciones).\n",
    "4. **Seleccionar \"New dataset\"**: En el menú desplegable, selecciona **New dataset** para crear un nuevo dataset."
   ]
  },
  {
   "cell_type": "markdown",
   "metadata": {},
   "source": [
    "[![p537.png](https://i.postimg.cc/6qPKNf2F/p537.png)](https://postimg.cc/64CgrRhh)\n",
    "[![p538.png](https://i.postimg.cc/v82b9bqX/p538.png)](https://postimg.cc/bdn7fcj2)"
   ]
  },
  {
   "cell_type": "markdown",
   "metadata": {},
   "source": [
    "#### **Paso 2: Configurar el nuevo dataset**"
   ]
  },
  {
   "cell_type": "markdown",
   "metadata": {},
   "source": [
    "1. **Elegir tipo de dataset**: En la ventana de selección, busca y selecciona **Azure Data Lake Storage Gen2** como el tipo de datastore.\n",
    "2. **Hacer clic en \"Continue\"**: Después de seleccionar **Azure Data Lake Storage Gen2**, haz clic en **Continue** para proceder."
   ]
  },
  {
   "cell_type": "markdown",
   "metadata": {},
   "source": [
    "[![p539.png](https://i.postimg.cc/7Yp4sXy2/p539.png)](https://postimg.cc/hfbNhLvD)"
   ]
  },
  {
   "cell_type": "markdown",
   "metadata": {},
   "source": [
    "#### **Paso 3: Configurar el formato del dataset**"
   ]
  },
  {
   "cell_type": "markdown",
   "metadata": {},
   "source": [
    "1. **Seleccionar el formato**: En el campo de selección de formato, elige **JSON**.\n",
    "2. **Hacer clic en \"Continue\"**: Después de seleccionar el formato, haz clic en **Continue**."
   ]
  },
  {
   "cell_type": "markdown",
   "metadata": {},
   "source": [
    "[![p540.png](https://i.postimg.cc/rwxkvW8Y/p540.png)](https://postimg.cc/gxzQhxLv)"
   ]
  },
  {
   "cell_type": "markdown",
   "metadata": {},
   "source": [
    "#### **Paso 4: Configurar las propiedades del dataset**"
   ]
  },
  {
   "cell_type": "markdown",
   "metadata": {},
   "source": [
    "- Crearemos un nuevo dataset **ds_IPL_2008_json**, que hará referencia hacia nuestro ADLS y esta vez tendrá un formato de tipo JSON. Hara referencia al archivo **IPL_2008.json** que no existe y que se almacenará en el contenedor **raw**. No importaremos el schema, dado que el archivo aún no existe, no tiene datos."
   ]
  },
  {
   "cell_type": "markdown",
   "metadata": {},
   "source": [
    "1. **Nombre del dataset**: En el campo de nombre, ingresa `ds_IPL_2008_json`.\n",
    "2. **Linked Service**: En el menú desplegable, selecciona el Linked Service que creaste previamente, `LS_AzureDataLakeStorageG2`.\n",
    "3. **File path**: Indiquemos el contenedor **raw** e ingresa `IPL_2008.json`.\n",
    "5. **Import schema**: Selecciona **None** para no importar un schema.\n",
    "6. **Guardar el dataset**: Haz clic en el botón **OK** para almacenar el nuevo dataset."
   ]
  },
  {
   "cell_type": "markdown",
   "metadata": {},
   "source": [
    "[![p541.png](https://i.postimg.cc/dt7vjpgF/p541.png)](https://postimg.cc/7fypxsxt)"
   ]
  },
  {
   "cell_type": "markdown",
   "metadata": {},
   "source": [
    "#### **Paso 5: Verificar el dataset**"
   ]
  },
  {
   "cell_type": "markdown",
   "metadata": {},
   "source": [
    "1. **Revisar la lista de datasets**: Deberías ver tu nuevo dataset `ds_IPL_2008_json` en la lista de datasets. Puedes hacer clic en él para revisar su configuración."
   ]
  },
  {
   "cell_type": "markdown",
   "metadata": {},
   "source": [
    "[![p542.png](https://i.postimg.cc/nLxJZzrV/p542.png)](https://postimg.cc/QFfPJjcv)"
   ]
  },
  {
   "cell_type": "markdown",
   "metadata": {},
   "source": [
    "### **3. Renombrar nuestros datasets**"
   ]
  },
  {
   "attachments": {},
   "cell_type": "markdown",
   "metadata": {},
   "source": [
    "- Dataset de origen: **ds_Source_IPL_2008_csv**\n",
    "- Dataset de destino: **ds_Destination_IPL_2008_json**"
   ]
  },
  {
   "cell_type": "markdown",
   "metadata": {},
   "source": [
    "[![p543.png](https://i.postimg.cc/xCcJGt24/p543.png)](https://postimg.cc/zbYG8w3C)\n",
    "[![p544.png](https://i.postimg.cc/wMN1ZM35/p544.png)](https://postimg.cc/CnFMfFGd)\n",
    "[![p545.png](https://i.postimg.cc/nc8j74w3/p545.png)](https://postimg.cc/PN45nwHD)\n",
    "[![p546.png](https://i.postimg.cc/HxRJ6XWs/p546.png)](https://postimg.cc/cg74HK8V)\n",
    "[![p547.png](https://i.postimg.cc/XNBBpHxZ/p547.png)](https://postimg.cc/CdYx243Y)"
   ]
  }
 ],
 "metadata": {
  "language_info": {
   "name": "python"
  },
  "orig_nbformat": 4
 },
 "nbformat": 4,
 "nbformat_minor": 2
}
