{
 "cells": [
  {
   "cell_type": "markdown",
   "metadata": {},
   "source": [
    "## **`Paso 4.4`: Creación de Pipeline `pl_Copy_FULL_IPL_DATA`**"
   ]
  },
  {
   "cell_type": "markdown",
   "metadata": {},
   "source": [
    "### **1. Uso de `Parámetros` para procesamiento de `múltiples archivos` en Azure Data Factory**"
   ]
  },
  {
   "cell_type": "markdown",
   "metadata": {},
   "source": [
    "<table border=\"1\" cellpadding=\"10\">\n",
    "    <tr>\n",
    "        <td>\n",
    "            Una forma eficiente de trabajar con múltiples archivos es utilizando <strong>PARÁMETROS</strong>. Para ello trabajaremos solo con 2 datasets, uno de origen y de destino y crearemos dos parámetros, ambos a nivel de dataset, uno en cada dataset. Reutilizaremos los datasets <strong>ds_Source_IPL_2008_csv</strong> y <strong>ds_Destination_IPL_2008_json</strong> los cuales harán referencia a un parámetro y no a un archivo. Modificaremos sus nombres:<br><br>\n",
    "            <strong>- ds_Source_IPL_csv</strong><br>\n",
    "            <strong>- ds_Destination_IPL_json</strong><br><br>\n",
    "            Crearemos el pipeline <strong>pl_Copy_FULL_IPL_DATA</strong> el cual utilizará las actividades <strong>Lookup</strong> y <strong>For Each</strong>.\n",
    "        </td>\n",
    "    </tr>\n",
    "</table>\n"
   ]
  },
  {
   "cell_type": "markdown",
   "metadata": {},
   "source": [
    "#### **Paso 1: Renombrar datasets**"
   ]
  },
  {
   "cell_type": "markdown",
   "metadata": {},
   "source": [
    "1. **Acceder a los Datasets**:\n",
    "   - En Azure Data Factory, ve a la pestaña **Author** y selecciona **Datasets**.\n",
    "\n",
    "2. **Renombrar el Dataset de Origen**:\n",
    "   - Busca **ds_Source_IPL_2008_csv**.\n",
    "   - Haz clic derecho sobre él y selecciona **Rename**.\n",
    "   - Cambia el nombre a **ds_Source_IPL_csv**.\n",
    "\n",
    "3. **Renombrar el Dataset de Destino**:\n",
    "   - Busca **ds_Destination_IPL_2008_json**.\n",
    "   - Haz clic derecho sobre él y selecciona **Rename**.\n",
    "   - Cambia el nombre a **ds_Destination_IPL_json**."
   ]
  },
  {
   "cell_type": "markdown",
   "metadata": {},
   "source": [
    "[![p566.png](https://i.postimg.cc/xC6SSJsr/p566.png)](https://postimg.cc/BLPzT69N)\n",
    "[![p567.png](https://i.postimg.cc/90zHXmSD/p567.png)](https://postimg.cc/WqRHXvsV)\n",
    "[![p568.png](https://i.postimg.cc/kGZ32r3f/p568.png)](https://postimg.cc/4HzF0S39)\n",
    "[![p569.png](https://i.postimg.cc/MZr8PBMV/p569.png)](https://postimg.cc/Sj85jJGx)\n",
    "[![p570.png](https://i.postimg.cc/tCZGLgWf/p570.png)](https://postimg.cc/mtsn9BdN)\n",
    "[![p571.png](https://i.postimg.cc/8P2gDVbC/p571.png)](https://postimg.cc/fJfrjpp4)"
   ]
  },
  {
   "cell_type": "markdown",
   "metadata": {},
   "source": [
    "#### **Paso 2: Agregar parámetros a los datasets**"
   ]
  },
  {
   "cell_type": "markdown",
   "metadata": {},
   "source": [
    "1. **Agregar Parámetro al Dataset de Origen**:\n",
    "   - Selecciona **ds_Source_IPL_csv** y ve a la pestaña **Parameters**.\n",
    "   - Haz clic en **+ New** para agregar un parámetro.\n",
    "   - Configura:\n",
    "     - **Name**: `SourceFileName`\n",
    "     - **Type**: `String`\n",
    "\n",
    "2. **Configurar Conexiones del Dataset de Origen**:\n",
    "   - Ve a la pestaña **Connections**.\n",
    "   - Establece:\n",
    "     - **Relative URL**: `@dataset().SourceFileName`\n",
    "\n",
    "3. **Agregar Parámetro al Dataset de Destino**:\n",
    "   - Selecciona **ds_Destination_IPL_json** y ve a la pestaña **Parameters**.\n",
    "   - Haz clic en **+ New** para agregar un parámetro.\n",
    "   - Configura:\n",
    "     - **Name**: `DestinationFileName`\n",
    "     - **Type**: `String`\n",
    "\n",
    "4. **Configurar Conexiones del Dataset de Destino**:\n",
    "   - Ve a la pestaña **Connections**.\n",
    "   - Establece:\n",
    "     - **File path**:\n",
    "       - **contenedor**: `raw`\n",
    "       - **archivo**: `@dataset().DestinationFileName`"
   ]
  },
  {
   "cell_type": "markdown",
   "metadata": {},
   "source": [
    "[![p572.png](https://i.postimg.cc/TP63QbLf/p572.png)](https://postimg.cc/Mn9wpvmF)\n",
    "[![p573.png](https://i.postimg.cc/YSzqPSYg/p573.png)](https://postimg.cc/8FsSJNyP)\n",
    "[![p574.png](https://i.postimg.cc/1Xfm4cTc/p574.png)](https://postimg.cc/SYbFv8mJ)\n",
    "[![p575.png](https://i.postimg.cc/SsZQytZx/p575.png)](https://postimg.cc/DJX365k9)\n",
    "[![p576.png](https://i.postimg.cc/vB8HwdtK/p576.png)](https://postimg.cc/8F3VL93d)\n",
    "[![p577.png](https://i.postimg.cc/6qg9Z4xs/p577.png)](https://postimg.cc/LgkKKXsv)\n",
    "[![p578.png](https://i.postimg.cc/MZFZNNMs/p578.png)](https://postimg.cc/pyKtn0B8)\n",
    "[![p579.png](https://i.postimg.cc/pX5VHCKP/p579.png)](https://postimg.cc/SJqbLWZP)\n",
    "[![p580.png](https://i.postimg.cc/nh8Fcm1B/p580.png)](https://postimg.cc/6y0JMygp)\n",
    "[![p581.png](https://i.postimg.cc/Jzb1yhTg/p581.png)](https://postimg.cc/DSwVH73d)"
   ]
  },
  {
   "cell_type": "markdown",
   "metadata": {},
   "source": [
    "#### **Paso 3: Gestionar archivos en el contenedor `raw`**"
   ]
  },
  {
   "cell_type": "markdown",
   "metadata": {},
   "source": [
    "1. **Eliminar Archivos Existentes**:\n",
    "   - Acceder al Azure Data Lake Storage **adlsproyectos** y navegar al contenedor **raw**.\n",
    "   - Eliminar todos los archivos.\n",
    "\n",
    "2. **Cargar el Archivo \"Files.txt\"**:\n",
    "   - Subir el archivo **Files.txt** que contiene los nombres de los archivos que deseamos extraer desde el repositorio de GitHub."
   ]
  },
  {
   "cell_type": "markdown",
   "metadata": {},
   "source": [
    "[![p582.png](https://i.postimg.cc/hPNLD2ws/p582.png)](https://postimg.cc/nCYjTGn9)\n",
    "[![p583.png](https://i.postimg.cc/25DnvVCB/p583.png)](https://postimg.cc/CRcZpMBF)\n",
    "[![p584.png](https://i.postimg.cc/mryCSBrp/p584.png)](https://postimg.cc/v1D4YRf5)\n",
    "[![p585.png](https://i.postimg.cc/mDZMXJzL/p585.png)](https://postimg.cc/94SrzxYK)"
   ]
  },
  {
   "cell_type": "markdown",
   "metadata": {},
   "source": [
    "#### **Paso 4: Crear nuevo dataset para `Files.txt`**"
   ]
  },
  {
   "cell_type": "markdown",
   "metadata": {},
   "source": [
    "1. **Crear un Nuevo Dataset**:\n",
    "    - En la pestaña **Author**, selecciona **Datasets** y haz clic en los tres puntos para **New dataset**.\n",
    "    - Selecciona **Azure Data Lake Storage Gen2** y el tipo de formato **DelimitedText**.\n",
    "\n",
    "2. **Configurar el Dataset \"ds_listOfFiles\"**:\n",
    "    - Configura las propiedades:\n",
    "      - **Name**: `ds_listOfFiles`\n",
    "      - **Linked service**: `LS_AzureDataLakeStorageG2`\n",
    "      - **File path**:\n",
    "        - **contenedor**: `raw`\n",
    "        - **archivo**: `Files.txt`\n",
    "      - **First row as header**: Activa la casilla.\n",
    "      - **Import schema**: Selecciona **From connection/store**."
   ]
  },
  {
   "cell_type": "markdown",
   "metadata": {},
   "source": [
    "[![p586.png](https://i.postimg.cc/59C82hcr/p586.png)](https://postimg.cc/4nXY8Fxv)\n",
    "[![p587.png](https://i.postimg.cc/qMHyh14v/p587.png)](https://postimg.cc/BtNXRcjr)\n",
    "[![p588.png](https://i.postimg.cc/13JqdP68/p588.png)](https://postimg.cc/ZWvn9Gwm)\n",
    "[![p589.png](https://i.postimg.cc/zXwWnTGS/p589.png)](https://postimg.cc/5606JYv6)\n",
    "[![p590.png](https://i.postimg.cc/T3RbQhy8/p590.png)](https://postimg.cc/2VK3SkFT)"
   ]
  },
  {
   "cell_type": "markdown",
   "metadata": {},
   "source": [
    "#### **Paso 5: Crear un nuevo pipeline**"
   ]
  },
  {
   "cell_type": "markdown",
   "metadata": {},
   "source": [
    "1. **Crear un Pipeline**:\n",
    "\n",
    "    - Ve a la pestaña **Author** y selecciona **Pipelines**.\n",
    "    - Haz clic en los tres puntos junto a **Pipelines** y selecciona **New pipeline**.\n",
    "    - Asigna el nombre **pl_Copy_Full_IPL_DATA**."
   ]
  },
  {
   "cell_type": "markdown",
   "metadata": {},
   "source": [
    "[![p591.png](https://i.postimg.cc/15y412yw/p591.png)](https://postimg.cc/s103pnQg)\n",
    "[![p592.png](https://i.postimg.cc/pXkrWCd7/p592.png)](https://postimg.cc/0bMPZpDd)"
   ]
  },
  {
   "cell_type": "markdown",
   "metadata": {},
   "source": [
    "#### **Paso 6: Agregar actividad `Lookup`**"
   ]
  },
  {
   "cell_type": "markdown",
   "metadata": {},
   "source": [
    "1. **Agregar Actividad \"Lookup\"**:\n",
    "\n",
    "    - Busca **Lookup** en el panel de actividades y arrástralo al canvas.\n",
    "    - En la pestaña **General** configura lo siguiente:\n",
    "      - **Name**: `Lookup All Files Name`\n",
    "      - **Source dataset**: `ds_listOfFiles`\n",
    "    - En la pestaña **Settings** desactiva la casilla **First row only**, con el fin de obtener múltiples filas del archivo y no solo la primera fila."
   ]
  },
  {
   "cell_type": "markdown",
   "metadata": {},
   "source": [
    "[![p593.png](https://i.postimg.cc/WzHy8xnC/p593.png)](https://postimg.cc/tnFDCS8N)\n",
    "[![p594.png](https://i.postimg.cc/66jFBGXc/p594.png)](https://postimg.cc/kDSTcGDR)"
   ]
  },
  {
   "cell_type": "markdown",
   "metadata": {},
   "source": [
    "#### **Paso 7: Validar y Ejecutar el Pipeline**"
   ]
  },
  {
   "cell_type": "markdown",
   "metadata": {},
   "source": [
    "1. **Validar y Ejecutar**:\n",
    "\n",
    "    - Ejecuta el pipeline utilizando **Debug** y revisa el **Output**."
   ]
  },
  {
   "cell_type": "markdown",
   "metadata": {},
   "source": [
    "[![p595.png](https://i.postimg.cc/wBqS657W/p595.png)](https://postimg.cc/TKsk0Djm)\n",
    "[![p596.png](https://i.postimg.cc/1zvb4gFy/p596.png)](https://postimg.cc/yJSLb8nG)"
   ]
  },
  {
   "cell_type": "markdown",
   "metadata": {},
   "source": [
    "Este es el resultado del **`Output`**:\n",
    "\n",
    "```json\n",
    "{\n",
    "\t\"count\": 15,\n",
    "\t\"value\": [\n",
    "\t\t{\n",
    "\t\t\t\"Files\": \"ipl 2008.csv\"\n",
    "\t\t},\n",
    "\t\t{\n",
    "\t\t\t\"Files\": \"ipl 2009.csv\"\n",
    "\t\t},\n",
    "\t\t{\n",
    "\t\t\t\"Files\": \"ipl 2010.csv\"\n",
    "\t\t},\n",
    "\t\t{\n",
    "\t\t\t\"Files\": \"ipl 2011.csv\"\n",
    "\t\t},\n",
    "\t\t{\n",
    "\t\t\t\"Files\": \"ipl 2012.csv\"\n",
    "\t\t},\n",
    "\t\t{\n",
    "\t\t\t\"Files\": \"ipl 2013.csv\"\n",
    "\t\t},\n",
    "\t\t{\n",
    "\t\t\t\"Files\": \"ipl 2014.csv\"\n",
    "\t\t},\n",
    "\t\t{\n",
    "\t\t\t\"Files\": \"ipl 2015.csv\"\n",
    "\t\t},\n",
    "\t\t{\n",
    "\t\t\t\"Files\": \"IPL 2016.csv\"\n",
    "\t\t},\n",
    "\t\t{\n",
    "\t\t\t\"Files\": \"ipl 2017.csv\"\n",
    "\t\t},\n",
    "\t\t{\n",
    "\t\t\t\"Files\": \"ipl 2018.csv\"\n",
    "\t\t},\n",
    "\t\t{\n",
    "\t\t\t\"Files\": \"IPL 2019.csv\"\n",
    "\t\t},\n",
    "\t\t{\n",
    "\t\t\t\"Files\": \"IPL 2020.csv\"\n",
    "\t\t},\n",
    "\t\t{\n",
    "\t\t\t\"Files\": \"ipl 2021.csv\"\n",
    "\t\t},\n",
    "\t\t{\n",
    "\t\t\t\"Files\": \"ipl 2022.csv\"\n",
    "\t\t}\n",
    "\t],\n",
    "\t\"effectiveIntegrationRuntime\": \"AutoResolveIntegrationRuntime (East US)\",\n",
    "\t\"billingReference\": {\n",
    "\t\t\"activityType\": \"PipelineActivity\",\n",
    "\t\t\"billableDuration\": [\n",
    "\t\t\t{\n",
    "\t\t\t\t\"meterType\": \"AzureIR\",\n",
    "\t\t\t\t\"duration\": 0.016666666666666666,\n",
    "\t\t\t\t\"unit\": \"Hours\"\n",
    "\t\t\t}\n",
    "\t\t],\n",
    "\t\t\"totalBillableDuration\": [\n",
    "\t\t\t{\n",
    "\t\t\t\t\"meterType\": \"AzureIR\",\n",
    "\t\t\t\t\"duration\": 0.016666666666666666,\n",
    "\t\t\t\t\"unit\": \"Hours\"\n",
    "\t\t\t}\n",
    "\t\t]\n",
    "\t}\n",
    "}\n",
    "```"
   ]
  },
  {
   "cell_type": "markdown",
   "metadata": {},
   "source": [
    "#### **Paso 8: Agregar actividad `ForEach`**"
   ]
  },
  {
   "cell_type": "markdown",
   "metadata": {},
   "source": [
    "1. **Agregar Actividad \"ForEach\"**:\n",
    "\n",
    "    - Busca **ForEach** en el panel de actividades y arrástralo al canvas.\n",
    "    - Conecta la actividad **Lookup** con la actividad **ForEach**\n",
    "    - En la pestaña **General** configura lo siguiente:\n",
    "      - **Name**: `For Each Files`\n",
    "    - En la pestaña **Settings** configura lo siguiente:\n",
    "      - En **Items**, selecciona **Add dynamic content**.\n",
    "      - Utiliza el contenido dinámico: `@activity('Lookup All Files Name').output.value`."
   ]
  },
  {
   "cell_type": "markdown",
   "metadata": {},
   "source": [
    "- Utilizaremos el contenido dinámico **@activity('Lookup All File Names').output.value** en la configuración\n",
    "de la actividad ForEach, esto quiere decir, que de la actividad previa **Lookup All File Name** extraera\n",
    "solo **value**. Corresponde al array que contiene los nombres de los archivos que utilizaremos. Por lo tanto, **Items** esta capturando el array."
   ]
  },
  {
   "cell_type": "markdown",
   "metadata": {},
   "source": [
    "[![p597.png](https://i.postimg.cc/1XrG5FgH/p597.png)](https://postimg.cc/T5hLtpJL)\n",
    "[![p598.png](https://i.postimg.cc/59BqmhPC/p598.png)](https://postimg.cc/dD0ysxcs)\n",
    "[![p599.png](https://i.postimg.cc/dtn2b8cQ/p599.png)](https://postimg.cc/vcgx9xmC)\n",
    "[![p600.png](https://i.postimg.cc/8z5RNjTR/p600.png)](https://postimg.cc/56hYm9Yy)\n",
    "[![p601.png](https://i.postimg.cc/FshbCTqn/p601.png)](https://postimg.cc/JtdBG5Rb)"
   ]
  },
  {
   "cell_type": "markdown",
   "metadata": {},
   "source": [
    "#### **Paso 9: Agregar actividad `Copy Data` en `ForEach`**"
   ]
  },
  {
   "cell_type": "markdown",
   "metadata": {},
   "source": [
    "11. **Agregar actividad `Copy Data`**:\n",
    "\n",
    "    - Dentro de la actividad **ForEach**, busca **Copy Data** y arrástralo.\n",
    "    - En la pestaña **General**:\n",
    "      - **Name**: `Copy All IPL Data`\n",
    "    - En la pestaña **Source**:\n",
    "      - **Source dataset**: `ds_Source_IPL_csv`\n",
    "      - **Dataset properties**:\n",
    "        - **Name**: `SourceFileName`\n",
    "        - **Value**: `@item().Files`\n",
    "    - En la pestaña **Sink**:\n",
    "        - **Sink dataset**: `ds_Destination_IPL_json`\n",
    "        - **Dataset properties**:\n",
    "          - **Name**: `DestinationFileName`\n",
    "          - **Value**: `@replace(item().Files, '.csv', '.json')`."
   ]
  },
  {
   "cell_type": "markdown",
   "metadata": {},
   "source": [
    "Para la configuración del origen **Source** se creará el contenido dinámico **@items().Files** que captura los valores de **Files**. Esto es el **Output** capturado por **Items** en **ForEach**, de la actividad previa **Lookup**.\n",
    "```json\n",
    "    \"value\": [\n",
    "        {\n",
    "            \"Files\":\"ipl 2008.csv\"\n",
    "        }\n",
    "        {\n",
    "            \"Files\":\"ipl 2009.csv\"            \n",
    "        }\n",
    "        ...\n",
    "        ...\n",
    "    ]\n",
    "```\n",
    "En la pestaña **Source** en **Dataset properties** estamos dando valor al parámetro `SourceFileName` de manera iterativa con cada uno de los valores de `Files` extraidos del array devuelto por **Items** que obtuvo de la actividad previa **Lookup**.\n",
    "\n",
    "Por cada valor de **File** que se tenga, se irá heredando al parámetro del dataset de origen **dataset().SourceFileName**,\n",
    "por tanto, se irá heredando cada valor de **File** como nombres de archivos para el dataset de origen\n",
    "\n",
    "En la pestaña **Sink** en **Dataset properties** estamos dando valor al parámetro `DestinationFileName` de manera iterativa con cada uno de los valores de `Files` extraidos del array devuelto por **Items** que obtuvo de la actividad previa **Lookup**. Pero en esta oportunidad estamos reemplazando la extensión `.csv` por `.json`."
   ]
  },
  {
   "cell_type": "markdown",
   "metadata": {},
   "source": [
    "[![p602.png](https://i.postimg.cc/15LFhMYQ/p602.png)](https://postimg.cc/rKNs5Gkn)\n",
    "[![p603.png](https://i.postimg.cc/VknCYM3b/p603.png)](https://postimg.cc/gxcJswcY)\n",
    "[![p604.png](https://i.postimg.cc/Hxsc4NjQ/p604.png)](https://postimg.cc/t1w4923T)\n",
    "[![p605.png](https://i.postimg.cc/YSxLF72r/p605.png)](https://postimg.cc/qtz7f9CS)\n",
    "[![p606.png](https://i.postimg.cc/Dzhbm0Tp/p606.png)](https://postimg.cc/87yC01sL)\n",
    "[![p607.png](https://i.postimg.cc/507HPmFD/p607.png)](https://postimg.cc/8JvPcM4b)\n",
    "[![p608.png](https://i.postimg.cc/x8XXBbv8/p608.png)](https://postimg.cc/xNSjz8FV)"
   ]
  },
  {
   "cell_type": "markdown",
   "metadata": {},
   "source": [
    "#### **Paso 10: Ejecutar el Pipeline**"
   ]
  },
  {
   "cell_type": "markdown",
   "metadata": {},
   "source": [
    "17. **Ejecutar el Pipeline**:\n",
    "\n",
    "    - Ejecuta el pipeline utilizando **Debug**."
   ]
  },
  {
   "cell_type": "markdown",
   "metadata": {},
   "source": [
    "[![p609.png](https://i.postimg.cc/HLJsYCJv/p609.png)](https://postimg.cc/R3BzdyLw)\n",
    "[![p610.png](https://i.postimg.cc/1twmFcrp/p610.png)](https://postimg.cc/XGN6S5hJ)\n",
    "[![p611.png](https://i.postimg.cc/NFtgk9dZ/p611.png)](https://postimg.cc/Pp6stxsM)"
   ]
  },
  {
   "cell_type": "markdown",
   "metadata": {},
   "source": [
    "#### **Paso 11: Revisar el contenedor `raw` en ADLS**"
   ]
  },
  {
   "cell_type": "markdown",
   "metadata": {},
   "source": [
    "1. **Verificar el Contenedor**:\n",
    "\n",
    "    - Accede a tu Azure Data Lake Storage y revisa el contenedor **raw** para confirmar que los archivos se han cargado correctamente."
   ]
  },
  {
   "cell_type": "markdown",
   "metadata": {},
   "source": [
    "[![p612.png](https://i.postimg.cc/wBSx3bLq/p612.png)](https://postimg.cc/Lq3FbDxw)\n",
    "[![p613.png](https://i.postimg.cc/cCcd9xjC/p613.png)](https://postimg.cc/Fk7t14hX)"
   ]
  }
 ],
 "metadata": {
  "language_info": {
   "name": "python"
  },
  "orig_nbformat": 4
 },
 "nbformat": 4,
 "nbformat_minor": 2
}
