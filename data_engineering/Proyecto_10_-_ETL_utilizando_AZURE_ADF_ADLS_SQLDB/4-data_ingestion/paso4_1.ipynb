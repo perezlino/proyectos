{
 "cells": [
  {
   "attachments": {},
   "cell_type": "markdown",
   "metadata": {},
   "source": [
    "## **`Paso 4.1`: Creación de Linked Services de origen y destino**"
   ]
  },
  {
   "cell_type": "markdown",
   "metadata": {},
   "source": [
    "### **1. Crear el Linked Service de origen `LS_HttpServer_GitHub` que hace referencia al repositorio Github**"
   ]
  },
  {
   "cell_type": "markdown",
   "metadata": {},
   "source": [
    "#### **Paso 1 - Crear un nuevo Linked Service**"
   ]
  },
  {
   "cell_type": "markdown",
   "metadata": {},
   "source": [
    "1. **Seleccionar la pestaña \"Manage\"**: En el menú de la izquierda dentro de tu Data Factory, haz clic en la pestaña **Manage** (Administrar).\n",
    "2. **Seleccionar \"Linked services\"**: En el panel de Manage, haz clic en **Linked services**.\n",
    "3. **Hacer clic en \"+ New\"**: En la parte superior, selecciona el botón **+ New** para crear un nuevo Linked Service."
   ]
  },
  {
   "cell_type": "markdown",
   "metadata": {},
   "source": [
    "[![p520.png](https://i.postimg.cc/8kM5LSHQ/p520.png)](https://postimg.cc/G93d16Vq)\n",
    "[![p521.png](https://i.postimg.cc/sDz2cN6B/p521.png)](https://postimg.cc/XX23NQ03)"
   ]
  },
  {
   "cell_type": "markdown",
   "metadata": {},
   "source": [
    "#### **Paso 2 - Configurar el Linked Service**"
   ]
  },
  {
   "cell_type": "markdown",
   "metadata": {},
   "source": [
    "1. **Elegir tipo de Linked Service**: En la lista de opciones, busca y selecciona **HTTP** como el tipo de Linked Service.\n",
    "2. **Hacer clic en \"Continue\"**: Después de seleccionar HTTP, haz clic en **Continue** para continuar con la configuración."
   ]
  },
  {
   "cell_type": "markdown",
   "metadata": {},
   "source": [
    "[![p522.png](https://i.postimg.cc/NfxjPkSd/p522.png)](https://postimg.cc/4mmGYVJc)"
   ]
  },
  {
   "cell_type": "markdown",
   "metadata": {},
   "source": [
    "#### **Paso 3 - Configurar los detalles del Linked Service**"
   ]
  },
  {
   "cell_type": "markdown",
   "metadata": {},
   "source": [
    "1. **Nombre del Linked Service**: Proporciona un nombre único para tu Linked Service. En nuestro caso será **LS_HttpServer_GitHub**.\n",
    "2. **Base URL**: \n",
    "\n",
    "   - Trabajaremos con el siguiente repositorio de Github: https://github.com/perezlino/data_fake/raw/main/adf1/\n",
    "\n",
    "   - Para ello, crearemos un Linked Service que utilice un conector **HTTP** para conectarnos al repositorio de GitHub. Es importante que solo utilicemos la URL de la ruta del repositorio, sin incluir el nombre del archivo. Por ejemplo, si tenemos un repositorio llamado **data_fake** y un directorio **data_fake/adf1** y dentro de él se encuentra el archivo **IPL 2016.csv**, debemos acceder a este archivo desde la opción **Raw**. Si la URL completa es: https://github.com/perezlino/data_fake/raw/main/adf1/IPL%202016.csv\n",
    "\n",
    "   - Por lo tanto, en el campo correspondiente, ingresa la base URL: https://github.com/perezlino/data_fake/raw/main/adf1/\n",
    "   \n",
    "3. **Authentication type**: Selecciona **Anonymous** como el tipo de autenticación.\n",
    "4. **Probar la conexión**: Haz clic en el botón **Test connection** (Probar conexión) para asegurarte de que la configuración es correcta. Debería mostrar un mensaje de éxito si todo está bien configurado.\n",
    "5. **Guardar el Linked Service**: Si la conexión se valida correctamente, haz clic en el botón **Create** (Crear) para guardar el Linked Service."
   ]
  },
  {
   "cell_type": "markdown",
   "metadata": {},
   "source": [
    "[![p523.png](https://i.postimg.cc/L868dZM2/p523.png)](https://postimg.cc/bsWhkrJB)\n",
    "[![p524.png](https://i.postimg.cc/SxTNmNy8/p524.png)](https://postimg.cc/bZnjTPSN)"
   ]
  },
  {
   "cell_type": "markdown",
   "metadata": {},
   "source": [
    "#### **Paso 4: Verificar el Linked Service**"
   ]
  },
  {
   "cell_type": "markdown",
   "metadata": {},
   "source": [
    "1. **Revisar la lista de Linked Services**: Una vez creado, deberías ver tu nuevo Linked Service en la lista de Linked Services. Puedes hacer clic en él para revisar la configuración."
   ]
  },
  {
   "cell_type": "markdown",
   "metadata": {},
   "source": [
    "[![p525.png](https://i.postimg.cc/k52MG34H/p525.png)](https://postimg.cc/wtdY4rD5)"
   ]
  },
  {
   "cell_type": "markdown",
   "metadata": {},
   "source": [
    "### **2. Crear el Linked Service de destino `LS_AzureDataLakeStorageG2` que hace referencia a nuestro ADLS**"
   ]
  },
  {
   "cell_type": "markdown",
   "metadata": {},
   "source": [
    "#### **Paso 1 - Crear un nuevo Linked Service**"
   ]
  },
  {
   "cell_type": "markdown",
   "metadata": {},
   "source": [
    "1. **Seleccionar la pestaña \"Manage\"**: En el menú de la izquierda dentro de tu Data Factory, haz clic en la pestaña **Manage** (Administrar).\n",
    "2. **Seleccionar \"Linked services\"**: En el panel de Manage, haz clic en **Linked services**.\n",
    "3. **Hacer clic en \"+ New\"**: En la parte superior, selecciona el botón **+ New** para crear un nuevo Linked Service."
   ]
  },
  {
   "cell_type": "markdown",
   "metadata": {},
   "source": [
    "[![p520.png](https://i.postimg.cc/8kM5LSHQ/p520.png)](https://postimg.cc/G93d16Vq)\n",
    "[![p526.png](https://i.postimg.cc/TPkzyC1H/p526.png)](https://postimg.cc/B8KYk5xx)"
   ]
  },
  {
   "cell_type": "markdown",
   "metadata": {},
   "source": [
    "#### **Paso 2 - Configurar el Linked Service**"
   ]
  },
  {
   "cell_type": "markdown",
   "metadata": {},
   "source": [
    "1. **Elegir tipo de Linked Service**: En la lista de opciones, busca y selecciona **Azure Data Lake Storage Gen2** como el tipo de Linked Service.\n",
    "2. **Hacer clic en \"Continue\"**: Después de seleccionar **Azure Data Lake Storage Gen2**, haz clic en **Continue** para continuar con la configuración."
   ]
  },
  {
   "cell_type": "markdown",
   "metadata": {},
   "source": [
    "[![p527.png](https://i.postimg.cc/Y2L59NHb/p527.png)](https://postimg.cc/qg0bD3g3)"
   ]
  },
  {
   "cell_type": "markdown",
   "metadata": {},
   "source": [
    "#### **Paso 3 - Configurar los detalles del Linked Service**"
   ]
  },
  {
   "cell_type": "markdown",
   "metadata": {},
   "source": [
    "1. **Nombre del Linked Service**: Proporciona un nombre único para tu Linked Service. En nuestro caso será **LS_AzureDataLakeStorageG2**.   \n",
    "2. **Authentication type**: Selecciona **Account key** como el tipo de autenticación.\n",
    "3. **Azure subscription**: Selecciona la subscripción de Azure.\n",
    "4. **Storage account name**: Selecciona el ADLS que creamos **adlsproyectos**.\n",
    "5. **Probar la conexión**: Haz clic en el botón **Test connection** (Probar conexión) para asegurarte de que la configuración es correcta. Debería mostrar un mensaje de éxito si todo está bien configurado.\n",
    "6. **Guardar el Linked Service**: Si la conexión se valida correctamente, haz clic en el botón **Create** (Crear) para guardar el Linked Service."
   ]
  },
  {
   "cell_type": "markdown",
   "metadata": {},
   "source": [
    "[![p528.png](https://i.postimg.cc/qRSWwq8s/p528.png)](https://postimg.cc/G8PMhcgt)\n",
    "[![p529.png](https://i.postimg.cc/MHBNFwDh/p529.png)](https://postimg.cc/LgHxJrGT)"
   ]
  },
  {
   "cell_type": "markdown",
   "metadata": {},
   "source": [
    "#### **Paso 4: Verificar el Linked Service**"
   ]
  },
  {
   "cell_type": "markdown",
   "metadata": {},
   "source": [
    "1. **Revisar la lista de Linked Services**: Una vez creado, deberías ver tu nuevo Linked Service en la lista de Linked Services. Puedes hacer clic en él para revisar la configuración."
   ]
  },
  {
   "cell_type": "markdown",
   "metadata": {},
   "source": [
    "[![p530.png](https://i.postimg.cc/DZ8t1Lbf/p530.png)](https://postimg.cc/BLfY08gR)"
   ]
  }
 ],
 "metadata": {
  "language_info": {
   "name": "python"
  },
  "orig_nbformat": 4
 },
 "nbformat": 4,
 "nbformat_minor": 2
}
