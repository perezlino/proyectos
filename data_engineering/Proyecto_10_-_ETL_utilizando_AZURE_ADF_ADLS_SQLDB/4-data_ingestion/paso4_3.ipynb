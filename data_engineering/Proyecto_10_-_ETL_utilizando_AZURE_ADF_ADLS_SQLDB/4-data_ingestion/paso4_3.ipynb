{
 "cells": [
  {
   "cell_type": "markdown",
   "metadata": {},
   "source": [
    "## **`Paso 4.3`: Creación de Pipeline `pl_copy_IPL_DATA_2008`**"
   ]
  },
  {
   "attachments": {},
   "cell_type": "markdown",
   "metadata": {},
   "source": [
    "### **1. Crear el Pipeline de ingesta de datos `pl_copy_IPL_DATA_2008`, el cual contendrá una actividad `Copy data` y este copiará el archivo `ipl 2008.csv` ubicado en el repositorio Github, en la ruta ADLS `raw/IPL_2008.json`, almacenandolo en formato `JSON`**"
   ]
  },
  {
   "cell_type": "markdown",
   "metadata": {},
   "source": [
    "#### **Paso 1: Crear un nuevo Pipeline**"
   ]
  },
  {
   "cell_type": "markdown",
   "metadata": {},
   "source": [
    "1. **Seleccionar la pestaña \"Author\"**: En el menú de la izquierda dentro de tu Data Factory, haz clic en la pestaña **Author** (Autor).\n",
    "2. **Seleccionar \"Pipelines\"**: En el panel de Authoring, haz clic en **Pipelines**.\n",
    "3. **Hacer clic en los tres puntos**: Junto a la opción **Pipelines**, haz clic en los tres puntos (más opciones).\n",
    "4. **Seleccionar \"New pipeline\"**: En el menú desplegable, selecciona **New pipeline** para crear un nuevo pipeline."
   ]
  },
  {
   "cell_type": "markdown",
   "metadata": {},
   "source": [
    "[![p549.png](https://i.postimg.cc/KvB1G1fC/p549.png)](https://postimg.cc/mtZLV20S)\n",
    "[![p550.png](https://i.postimg.cc/cLWrrd5C/p550.png)](https://postimg.cc/tYrXcGbG)"
   ]
  },
  {
   "cell_type": "markdown",
   "metadata": {},
   "source": [
    "#### **Paso 2: Configurar el nuevo Pipeline**"
   ]
  },
  {
   "cell_type": "markdown",
   "metadata": {},
   "source": [
    "1. **Asignar un nombre al Pipeline**: En la parte superior derecha, cambia el nombre del pipeline a `pl_copy_IPL_DATA_2008`."
   ]
  },
  {
   "cell_type": "markdown",
   "metadata": {},
   "source": [
    "[![p551.png](https://i.postimg.cc/7ZNbzjpV/p551.png)](https://postimg.cc/k2Bn3YM6)"
   ]
  },
  {
   "cell_type": "markdown",
   "metadata": {},
   "source": [
    "#### **Paso 3: Agregar la Actividad `Copy Data`**"
   ]
  },
  {
   "cell_type": "markdown",
   "metadata": {},
   "source": [
    "1. **Buscar la actividad \"Copy Data\"**: En el panel de actividades a la izquierda, busca **Copy Data** en la sección de **Move and transform**.\n",
    "2. **Arrastrar la actividad al canvas**: Arrastra la actividad **Copy Data** al canvas del pipeline."
   ]
  },
  {
   "cell_type": "markdown",
   "metadata": {},
   "source": [
    "[![p552.png](https://i.postimg.cc/jjd24ZTr/p552.png)](https://postimg.cc/ZW2JTP0f)"
   ]
  },
  {
   "cell_type": "markdown",
   "metadata": {},
   "source": [
    "#### **Paso 4: Configurar la Actividad `Copy Data`**"
   ]
  },
  {
   "cell_type": "markdown",
   "metadata": {},
   "source": [
    "1. **Seleccionar la actividad \"Copy Data\"**: Haz clic en la actividad que agregaste para abrir el panel de configuración.\n",
    "2. **Pestaña General**:\n",
    "   - En **Name**, ingresa `Copy data 2008 IPL`.\n",
    "\n",
    "3. **Pestaña Source**:\n",
    "   - Cambia a la pestaña **Source**.\n",
    "   - En **Source dataset**, selecciona `ds_Source_IPL_2008_csv`. \n",
    "\n",
    "4. **Pestaña Sink**:\n",
    "   - Cambia a la pestaña **Sink**.\n",
    "   - En **Sink dataset**, selecciona `ds_Destination_IPL_2008_json`."
   ]
  },
  {
   "cell_type": "markdown",
   "metadata": {},
   "source": [
    "[![p553.png](https://i.postimg.cc/5t707L9Q/p553.png)](https://postimg.cc/p9jRy9FP)\n",
    "[![p554.png](https://i.postimg.cc/sXM2tx16/p554.png)](https://postimg.cc/Q9rs7XQ1)\n",
    "[![p555.png](https://i.postimg.cc/RF209mHM/p555.png)](https://postimg.cc/ftjsj6CF)"
   ]
  },
  {
   "cell_type": "markdown",
   "metadata": {},
   "source": [
    "#### **Paso 5: Validar el Pipeline**"
   ]
  },
  {
   "cell_type": "markdown",
   "metadata": {},
   "source": [
    "1. **Validar la Configuración**: En la parte superior del panel, haz clic en el botón **\"Validate All\"** para comprobar que no haya errores en la configuración del pipeline."
   ]
  },
  {
   "cell_type": "markdown",
   "metadata": {},
   "source": [
    "[![p556.png](https://i.postimg.cc/FzcHH6y0/p556.png)](https://postimg.cc/dZsYW4S0)\n",
    "[![p557.png](https://i.postimg.cc/DfbZ6S9m/p557.png)](https://postimg.cc/fkDDTRTh)"
   ]
  },
  {
   "cell_type": "markdown",
   "metadata": {},
   "source": [
    "#### **Paso 6: Ejecutar el Pipeline**"
   ]
  },
  {
   "cell_type": "markdown",
   "metadata": {},
   "source": [
    "1. **Ejecutar el Pipeline**: Haz clic en el botón **\"Debug\"** en la parte superior para ejecutar el pipeline en modo de depuración."
   ]
  },
  {
   "cell_type": "markdown",
   "metadata": {},
   "source": [
    "[![p558.png](https://i.postimg.cc/3J5wcKh1/p558.png)](https://postimg.cc/dD6v7cLZ)\n",
    "[![p559.png](https://i.postimg.cc/WbG4RQbv/p559.png)](https://postimg.cc/hfGnTZdy)"
   ]
  },
  {
   "cell_type": "markdown",
   "metadata": {},
   "source": [
    "#### **Paso 7: Revisar los Resultados**"
   ]
  },
  {
   "cell_type": "markdown",
   "metadata": {},
   "source": [
    "1. **Verificar \"Input\" y \"Output\"**:\n",
    "   - Después de que el pipeline se ejecute, podrás ver los resultados en la sección de **Output**.\n",
    "   - Haz clic en la ejecución del pipeline para ver el **Input** y el **Output** que se generaron."
   ]
  },
  {
   "cell_type": "markdown",
   "metadata": {},
   "source": [
    "[![p560.png](https://i.postimg.cc/dVJVJ4LT/p560.png)](https://postimg.cc/XpDb8KKV)\n",
    "[![p561.png](https://i.postimg.cc/3x9JNmvf/p561.png)](https://postimg.cc/mPzG6cV7)\n",
    "[![p562.png](https://i.postimg.cc/Tw5RtsHB/p562.png)](https://postimg.cc/7GD86K4N)\n",
    "[![p563.png](https://i.postimg.cc/0NQ5wjGk/p563.png)](https://postimg.cc/gxCP9YBQ)"
   ]
  },
  {
   "cell_type": "markdown",
   "metadata": {},
   "source": [
    "#### **Paso 8: Verificar la creación del archivo en el contenedor `raw`en el ADLS**"
   ]
  },
  {
   "cell_type": "markdown",
   "metadata": {},
   "source": [
    "1. Nos dirigimos al ADLS y revisamos el contenedor **raw** para ver si se creó el archivo `IPL_2008.json`"
   ]
  },
  {
   "cell_type": "markdown",
   "metadata": {},
   "source": [
    "[![p564.png](https://i.postimg.cc/xd4fyQgK/p564.png)](https://postimg.cc/2qnNrPs6)\n",
    "[![p565.png](https://i.postimg.cc/sxF3qJkx/p565.png)](https://postimg.cc/TL98WnYv)"
   ]
  }
 ],
 "metadata": {
  "language_info": {
   "name": "python"
  },
  "orig_nbformat": 4
 },
 "nbformat": 4,
 "nbformat_minor": 2
}
