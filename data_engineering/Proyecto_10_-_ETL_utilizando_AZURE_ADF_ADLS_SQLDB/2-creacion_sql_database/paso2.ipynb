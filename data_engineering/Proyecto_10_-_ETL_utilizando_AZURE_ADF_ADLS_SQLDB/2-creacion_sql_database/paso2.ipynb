{
 "cells": [
  {
   "cell_type": "markdown",
   "metadata": {},
   "source": [
    "## **`Paso 2`: Creación del recurso Azure SQL Database**"
   ]
  },
  {
   "cell_type": "markdown",
   "metadata": {},
   "source": [
    "### **2.1 - Crear un recurso de SQL Database**"
   ]
  },
  {
   "cell_type": "markdown",
   "metadata": {},
   "source": [
    "1. En el menú del portal, selecciona **Crear un recurso**.\n",
    "2. Busca **SQL Database** y selecciona la opción.\n",
    "3. Haz clic en **Crear**."
   ]
  },
  {
   "cell_type": "markdown",
   "metadata": {},
   "source": [
    "[![p614.png](https://i.postimg.cc/qRJtpFTN/p614.png)](https://postimg.cc/t1cR527b)\n",
    "[![p615.png](https://i.postimg.cc/2jXqfTX5/p615.png)](https://postimg.cc/bdkYx0PX)"
   ]
  },
  {
   "cell_type": "markdown",
   "metadata": {},
   "source": [
    "### **2.2 - Configurar la base de datos**"
   ]
  },
  {
   "cell_type": "markdown",
   "metadata": {},
   "source": [
    "1. **Suscripción**: Selecciona la suscripción donde deseas crear la base de datos.\n",
    "2. **Grupo de recursos**: Puedes seleccionar un grupo de recursos existente o crear uno nuevo. Selecciona **rg-proyectos** que creamos anteriormente.\n",
    "3. **Nombre de la base de datos**: Escribe un nombre único para tu base de datos. Le di el nombre de **db_IPL**.\n",
    "4. **Seleccionar el servidor**: \n",
    "   - Si ya tienes un servidor SQL creado, selecciona uno de la lista.\n",
    "   - Si no tienes un servidor, haz clic en **Crear nuevo**.\n",
    "     - Proporciona un nombre para el servidor. Le di el nombre de **db-ipl-server**.\n",
    "     - Elige una ubicación (región) para el servidor. Para mi subscripción de estudiante no me permitió elegir **East US**, por lo tanto, elegi **Central US**.\n",
    "     - Configura el nombre de usuario y la contraseña del administrador del servidor. El usuario es **dbadmin** y la contraseña **Admin1234**."
   ]
  },
  {
   "cell_type": "markdown",
   "metadata": {},
   "source": [
    "[![p616.png](https://i.postimg.cc/D0m8XbmF/p616.png)](https://postimg.cc/CnThy5j6)\n",
    "[![p617.png](https://i.postimg.cc/j29CQdJf/p617.png)](https://postimg.cc/QKQXjDmN)\n",
    "[![p618.png](https://i.postimg.cc/DZxS0cvB/p618.png)](https://postimg.cc/xJbfFMbz)"
   ]
  },
  {
   "cell_type": "markdown",
   "metadata": {},
   "source": [
    "### **2.3 - Configurar el nivel de rendimiento**"
   ]
  },
  {
   "cell_type": "markdown",
   "metadata": {},
   "source": [
    "1. **Seleccionar un plan**: En la sección **Compute + storage**, elige el tipo de plan que deseas.\n",
    "\n",
    "   - Puedes seleccionar entre opciones como **Basic**, **Standard** o **Premium** según tus necesidades.\n",
    "2. **Configurar el almacenamiento**: Ajusta el almacenamiento según los requisitos de tu aplicación."
   ]
  },
  {
   "cell_type": "markdown",
   "metadata": {},
   "source": [
    "[![p619.png](https://i.postimg.cc/DyJSfstP/p619.png)](https://postimg.cc/Cz0hmZMR)\n",
    "[![p620.png](https://i.postimg.cc/J4fGs08V/p620.png)](https://postimg.cc/1fK9T94J)\n",
    "[![p621.png](https://i.postimg.cc/Bn2tH3Z8/p621.png)](https://postimg.cc/218zNPZm)\n",
    "[![p622.png](https://i.postimg.cc/KYFj5W40/p622.png)](https://postimg.cc/QF4j80Q7)"
   ]
  },
  {
   "cell_type": "markdown",
   "metadata": {},
   "source": [
    "### **2.4 - Configuraciones adicionales (opcional)**"
   ]
  },
  {
   "cell_type": "markdown",
   "metadata": {},
   "source": [
    "1. **Opciones de configuración**: Configura las opciones adicionales según sea necesario, como el cifrado, la supervisión, etc.\n",
    "2. **Firewall**: Asegúrate de configurar las reglas de firewall para permitir conexiones desde tu dirección IP o aplicaciones específicas."
   ]
  },
  {
   "cell_type": "markdown",
   "metadata": {},
   "source": [
    "[![p623.png](https://i.postimg.cc/4NWR0F88/p623.png)](https://postimg.cc/9rwkR1HT)\n",
    "[![p624.png](https://i.postimg.cc/Vk5PPBpz/p624.png)](https://postimg.cc/BjWVxDJz)"
   ]
  },
  {
   "cell_type": "markdown",
   "metadata": {},
   "source": [
    "### **2.5 - Revisión y creación**"
   ]
  },
  {
   "cell_type": "markdown",
   "metadata": {},
   "source": [
    "1. Revisa todas las configuraciones que has realizado.\n",
    "2. Haz clic en **Crear** para iniciar el proceso de creación de la base de datos."
   ]
  },
  {
   "cell_type": "markdown",
   "metadata": {},
   "source": [
    "[![p625.png](https://i.postimg.cc/xCDwHrCd/p625.png)](https://postimg.cc/hJsZW5VF)\n",
    "[![p626.png](https://i.postimg.cc/t4fQqnGW/p626.png)](https://postimg.cc/ZWrDjRR5)\n",
    "[![p627.png](https://i.postimg.cc/DzXV8f7D/p627.png)](https://postimg.cc/WDTYyvF6)\n",
    "[![p628.png](https://i.postimg.cc/nrnNRvqb/p628.png)](https://postimg.cc/jwk8Cn8Z)"
   ]
  },
  {
   "cell_type": "markdown",
   "metadata": {},
   "source": [
    "### **2.6 - Acceso a la base de datos**"
   ]
  },
  {
   "cell_type": "markdown",
   "metadata": {},
   "source": [
    "1. Una vez creada la base de datos, puedes acceder a ella desde el panel de Azure.\n",
    "2. Para conectarte a la base de datos, utiliza herramientas como **SQL Server Management Studio** (SSMS) o **Azure Data Studio** con las credenciales de administrador que proporcionaste al crear el servidor."
   ]
  },
  {
   "cell_type": "markdown",
   "metadata": {},
   "source": [
    "[![p629.png](https://i.postimg.cc/xCvW3sJ3/p629.png)](https://postimg.cc/0MNW80Cz)\n",
    "[![p630.png](https://i.postimg.cc/fy5p6Jv3/p630.png)](https://postimg.cc/zHbxhD65)"
   ]
  },
  {
   "cell_type": "markdown",
   "metadata": {},
   "source": [
    "### **2.7 - Crear una regla de firewall para permitir acceso público a la base de datos**"
   ]
  },
  {
   "cell_type": "markdown",
   "metadata": {},
   "source": [
    "1. Busca y selecciona tu **SQL Server** en la lista de recursos.\n",
    "2. En el menú lateral, selecciona **Overview** y luego seleccionar el servidor\n",
    "3. Busca la sección **Networking** y selecciona la pestaña **Public access**\n",
    "4. Activa la casilla **Selected networks**\n",
    "5. Vamos a agregar una Regla de Firewall para todas las IPs, haz clic en **Agregar regla de firewall**.\n",
    "6. En el campo **Nombre**, ingresa un nombre descriptivo para la regla.\n",
    "7. Para **Dirección IP de inicio** y **Dirección IP de fin**, ingresa `0.0.0.0` para permitir acceso desde cualquier dirección IP.\n",
    "8. Haz clic en **Save** para aplicar los cambios.\n",
    "\n",
    "Permitir acceso desde todas las direcciones IP puede presentar riesgos de seguridad. Se recomienda limitar el acceso a direcciones IP específicas siempre que sea posible. Considera usar otras medidas de seguridad, como autenticación multifactor o un VPN, si decides abrir el acceso público."
   ]
  },
  {
   "cell_type": "markdown",
   "metadata": {},
   "source": [
    "[![p636.png](https://i.postimg.cc/kM8xw05m/p636.png)](https://postimg.cc/YjrGCygn)\n",
    "[![p637.png](https://i.postimg.cc/jdby1MWJ/p637.png)](https://postimg.cc/G9XB8Jxc)\n",
    "[![p638.png](https://i.postimg.cc/5NS8W8vK/p638.png)](https://postimg.cc/qzgN8h12)\n",
    "[![p639.png](https://i.postimg.cc/L84L9h39/p639.png)](https://postimg.cc/2VJVTktM)\n",
    "[![p640.png](https://i.postimg.cc/zGdWV5xn/p640.png)](https://postimg.cc/dhyDfMP1)"
   ]
  },
  {
   "cell_type": "markdown",
   "metadata": {},
   "source": [
    "### **2.8 - Crear la tabla `dbo.tbl_IPLData`**"
   ]
  },
  {
   "cell_type": "markdown",
   "metadata": {},
   "source": [
    "Para crear una tabla en SQL Server basada en el diccionario JSON que proporcionaste: \n",
    "```json\n",
    "{\n",
    "    \"Match ID\":\"1\",\n",
    "    \"Date\":\"18-Apr-08\",\n",
    "    \"Venue\":\"M. Chinnaswamy Stadium, Bangalore\",\n",
    "    \"Team1\":\"Kolkata Knight Riders\",\n",
    "    \"Team2\":\"Royal Challengers Bangalore\",\n",
    "    \"Toss winner\":\"Royal Challengers Bangalore\",\n",
    "    \"Toss decision\":\"Field\",\n",
    "    \"Stage\":\"Group\",\n",
    "    \"First innings score\":\"222\",\n",
    "    \"First innings wicket\":\"3\",\n",
    "    \"Second innings score\":\"82\",\n",
    "    \"Second innings wicket\":\"10\",\n",
    "    \"Match winner\":\"Kolkata Knight Riders\",\n",
    "    \"Won by\":\"Runs\",\n",
    "    \"Margin\":\"140\",\n",
    "    \"Player of the match\":\"Brendon McCullum\"\n",
    "}\n",
    "```\n",
    "Puedes usar el siguiente script SQL. Este script define una tabla llamada `tbl_IPLData` con las columnas apropiadas y sus tipos de datos.\n",
    "\n",
    "```sql\n",
    "CREATE TABLE tbl_IPLData (\n",
    "    MatchID INT,\n",
    "    MatchDate DATE,\n",
    "    Venue NVARCHAR(255),\n",
    "    Team1 NVARCHAR(50),\n",
    "    Team2 NVARCHAR(50),\n",
    "    TossWinner NVARCHAR(50),\n",
    "    TossDecision NVARCHAR(50),\n",
    "    Stage NVARCHAR(50),\n",
    "    FirstInningsScore INT,\n",
    "    FirstInningsWicket INT,\n",
    "    SecondInningsScore INT,\n",
    "    SecondInningsWicket INT,\n",
    "    MatchWinner NVARCHAR(50),\n",
    "    WonBy NVARCHAR(50),\n",
    "    Margin INT,\n",
    "    PlayerOfTheMatch NVARCHAR(50),\n",
    "\tFileName NVARCHAR(50)\n",
    ");\n",
    "```\n",
    "\n",
    "Descripción de las columnas:\n",
    "\n",
    "- **MatchID**: Identificador único del partido (tipo `INT`).\n",
    "- **MatchDate**: Fecha del partido (tipo `DATE`).\n",
    "- **Venue**: Lugar donde se llevó a cabo el partido (tipo `NVARCHAR`).\n",
    "- **Team1**: Primer equipo (tipo `NVARCHAR`).\n",
    "- **Team2**: Segundo equipo (tipo `NVARCHAR`).\n",
    "- **TossWinner**: Equipo que ganó el sorteo (tipo `NVARCHAR`).\n",
    "- **TossDecision**: Decisión del sorteo (tipo `NVARCHAR`).\n",
    "- **Stage**: Etapa del torneo (tipo `NVARCHAR`).\n",
    "- **FirstInningsScore**: Puntuación de la primera entrada (tipo `INT`).\n",
    "- **FirstInningsWicket**: Wickets perdidos en la primera entrada (tipo `INT`).\n",
    "- **SecondInningsScore**: Puntuación de la segunda entrada (tipo `INT`).\n",
    "- **SecondInningsWicket**: Wickets perdidos en la segunda entrada (tipo `INT`).\n",
    "- **MatchWinner**: Equipo ganador (tipo `NVARCHAR`).\n",
    "- **WonBy**: Método de victoria (tipo `NVARCHAR`).\n",
    "- **Margin**: Margen de victoria (tipo `INT`).\n",
    "- **PlayerOfTheMatch**: Jugador del partido (tipo `NVARCHAR`)."
   ]
  },
  {
   "cell_type": "markdown",
   "metadata": {},
   "source": [
    "[![p652.png](https://i.postimg.cc/FK48G7wQ/p652.png)](https://postimg.cc/fV88RTwH)\n",
    "[![p653.png](https://i.postimg.cc/k4ZP4Vbk/p653.png)](https://postimg.cc/WFMHY1Sn)"
   ]
  }
 ],
 "metadata": {
  "language_info": {
   "name": "python"
  }
 },
 "nbformat": 4,
 "nbformat_minor": 2
}
