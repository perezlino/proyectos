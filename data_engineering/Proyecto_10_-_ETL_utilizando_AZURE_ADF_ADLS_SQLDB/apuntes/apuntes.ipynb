{
 "cells": [
  {
   "cell_type": "markdown",
   "metadata": {},
   "source": [
    "## **Apuntes**"
   ]
  },
  {
   "cell_type": "markdown",
   "metadata": {},
   "source": [
    "### Apuntes #0: Estructura de objetos en Azure"
   ]
  },
  {
   "cell_type": "markdown",
   "metadata": {},
   "source": [
    "```plaintext\n",
    "/Suscripción\n",
    "    /Grupo de Recursos\n",
    "        /Cuenta de Almacenamiento\n",
    "            /Contenedor (ADLS Gen2)\n",
    "                /Directorio\n",
    "                    /Archivo\n",
    "                /Directorio\n",
    "                    /Archivo\n",
    "        /Azure Data Factory\n",
    "            /Pipeline\n",
    "            /Data Flow\n",
    "            /Dataset\n",
    "        /Azure Databricks\n",
    "            /Workspace\n",
    "                /Notebook\n",
    "                /Cluster\n",
    "                /Job\n",
    "```"
   ]
  }
 ],
 "metadata": {
  "language_info": {
   "name": "python"
  }
 },
 "nbformat": 4,
 "nbformat_minor": 2
}
