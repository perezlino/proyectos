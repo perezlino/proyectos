{
 "cells": [
  {
   "attachments": {},
   "cell_type": "markdown",
   "metadata": {},
   "source": [
    "## **`Paso 3`: Carga de datos**"
   ]
  },
  {
   "cell_type": "markdown",
   "metadata": {},
   "source": [
    "### **1. Carga de datos en el contenedor `raw` ubicado en el Azure Data Lake `adlsproyectos`**"
   ]
  },
  {
   "cell_type": "markdown",
   "metadata": {},
   "source": [
    "#### **Paso 1 - Cargar archivo en el contenedor \"raw\"**"
   ]
  },
  {
   "cell_type": "markdown",
   "metadata": {},
   "source": [
    "|Nuestro Data Lake `adlsproyectos` corresponde a la cuenta de almacenamiento principal. Synapse Analytics tiene acceso a este almacenamiento como `Storage Blob Data Contributor`, por lo que no necesitamos ningun tipo de credencial para acceder a los archivos que se encuentren en cualquier contenedor creado dentro de este Data Lake|\n",
    "|---|"
   ]
  },
  {
   "cell_type": "markdown",
   "metadata": {},
   "source": [
    "1. **Acceder a tu Azure Data Lake Storage**: En el panel de navegación, busca y selecciona `All resources`. Busca tu cuenta de almacenamiento de Data Lake denominada **adlsproyectos**. Haz clic en la cuenta **adlsproyectos** para abrir su panel de administración y luego seleccionar la opción **Data Lake Storage**.\n",
    "2. **Acceder al contenedor \"raw\"**: En el panel de la cuenta de almacenamiento, selecciona `Contenedores` bajo la sección \"Data Storage\". Busca y selecciona el contenedor llamado `raw`.\n",
    "3. **Cargar el archivo**: Dentro del contenedor `raw`, haz clic en `Cargar` (o `Upload` si está en inglés). En la ventana que aparece, selecciona el archivo `Unemployment.csv` desde tu equipo. Haz clic en `Cargar` para cargar el archivo en el contenedor."
   ]
  },
  {
   "cell_type": "markdown",
   "metadata": {},
   "source": [
    "[![p1192.png](https://i.postimg.cc/TPGgF6hw/p1192.png)](https://postimg.cc/9D8Dwsd5)\n",
    "[![p1186.png](https://i.postimg.cc/RhqcdLhL/p1186.png)](https://postimg.cc/kR36X8x2)\n",
    "[![p1187.png](https://i.postimg.cc/FFnbR8CW/p1187.png)](https://postimg.cc/HjX8vZgX)\n",
    "[![p1188.png](https://i.postimg.cc/fTkkw4C8/p1188.png)](https://postimg.cc/ZCtJcM1N)"
   ]
  },
  {
   "cell_type": "markdown",
   "metadata": {},
   "source": [
    "#### **Paso 2 - Acceder a Azure Synapse Studio**"
   ]
  },
  {
   "cell_type": "markdown",
   "metadata": {},
   "source": [
    "1. **Abrir Azure Synapse Studio**: \n",
    "    - Regresa al Azure Portal y busca `All resources`.\n",
    "    - Selecciona tu instancia de **Azure Synapse Workspace**.\n",
    "    - Haz clic en `Abrir Synapse Studio` para acceder a la interfaz de usuario de Synapse Studio."
   ]
  },
  {
   "cell_type": "markdown",
   "metadata": {},
   "source": [
    "[![p1193.png](https://i.postimg.cc/VLZz2B6b/p1193.png)](https://postimg.cc/KRLXMTtZ)\n",
    "[![p1191.png](https://i.postimg.cc/dVGG51sp/p1191.png)](https://postimg.cc/tsC1T9VN)"
   ]
  },
  {
   "cell_type": "markdown",
   "metadata": {},
   "source": [
    "#### **Paso 3 - Revisar el contenedor \"raw\" en Synapse Studio**"
   ]
  },
  {
   "cell_type": "markdown",
   "metadata": {},
   "source": [
    "1. **Acceder al contenedor \"raw\"**:\n",
    "    - Una vez dentro de Synapse Studio, en el panel izquierdo, selecciona la sección `Data`.\n",
    "    - Dentro de la sección `Data`, expande la opción `Linked` y selecciona **Azure Data Lake Storage Gen2**.\n",
    "    - Navega por los directorios hasta encontrar el contenedor `raw`.\n",
    "    - Haz clic en el contenedor `raw` para ver su contenido."
   ]
  },
  {
   "cell_type": "markdown",
   "metadata": {},
   "source": [
    "[![p1194.png](https://i.postimg.cc/xT788sFn/p1194.png)](https://postimg.cc/nC4pw1JP)"
   ]
  },
  {
   "cell_type": "markdown",
   "metadata": {},
   "source": [
    "#### **Paso 4: Hacer un Preview del archivo \"Unemployment.csv\"**"
   ]
  },
  {
   "cell_type": "markdown",
   "metadata": {},
   "source": [
    "1. **Seleccionar el archivo**:\n",
    "    - Dentro del contenedor `raw`, haz clic sobre el archivo `Unemployment.csv`.\n",
    "    - En el panel de detalles, selecciona la opción `Preview`.\n",
    "\n",
    "2. **Visualizar el archivo**:\n",
    "    - Synapse Studio cargará una vista previa del archivo CSV.\n",
    "    - Puedes revisar las primeras filas del archivo para asegurarte de que se cargó correctamente y de que los datos son legibles."
   ]
  },
  {
   "cell_type": "markdown",
   "metadata": {},
   "source": [
    "[![p1189.png](https://i.postimg.cc/K82ztKFH/p1189.png)](https://postimg.cc/YhdMHCv6)\n",
    "[![p1190.png](https://i.postimg.cc/L83sDH86/p1190.png)](https://postimg.cc/sM1yDCWt)"
   ]
  }
 ],
 "metadata": {
  "language_info": {
   "name": "python"
  },
  "orig_nbformat": 4
 },
 "nbformat": 4,
 "nbformat_minor": 2
}
