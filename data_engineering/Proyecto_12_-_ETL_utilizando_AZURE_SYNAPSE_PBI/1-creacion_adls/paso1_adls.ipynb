{
 "cells": [
  {
   "cell_type": "markdown",
   "metadata": {},
   "source": [
    "## **`Paso 1`: Creación ADLS `adlsproyectos` y contenedores**"
   ]
  },
  {
   "cell_type": "markdown",
   "metadata": {},
   "source": [
    "### **1.2 - Crear una cuenta de almacenamiento**"
   ]
  },
  {
   "cell_type": "markdown",
   "metadata": {},
   "source": [
    "1. En el menú del portal, selecciona **Crear un recurso**.\n",
    "2. Busca **Almacenamiento** y selecciona **Cuenta de almacenamiento**.\n",
    "3. Haz clic en **Crear**."
   ]
  },
  {
   "cell_type": "markdown",
   "metadata": {},
   "source": [
    "[![p496.png](https://i.postimg.cc/hv2SXzPn/p496.png)](https://postimg.cc/kRtrZ5bY)\n",
    "[![p497.png](https://i.postimg.cc/28XkmZKF/p497.png)](https://postimg.cc/hfTW1fgf)\n",
    "[![p498.png](https://i.postimg.cc/Sx2yKK00/p498.png)](https://postimg.cc/XrWMH47x)"
   ]
  },
  {
   "cell_type": "markdown",
   "metadata": {},
   "source": [
    "### **1.3 - Configurar la cuenta de almacenamiento**"
   ]
  },
  {
   "cell_type": "markdown",
   "metadata": {},
   "source": [
    "1. **Suscripción**: Selecciona la suscripción en la que deseas crear la cuenta.\n",
    "2. **Grupo de recursos**: Puedes seleccionar un grupo de recursos existente o crear uno nuevo. Se creó el grupo de recursos **rg-proyectos**.\n",
    "3. **Nombre de la cuenta de almacenamiento**: Proporciona un nombre único (debe ser entre 3 y 24 caracteres, y solo letras y números). Le di el nombre de **adlsproyectos**.\n",
    "4. **Región**: Selecciona la región más cercana a tus usuarios o aplicaciones. Seleccione **East US**.\n",
    "5. **Primary Service**: Selecciona **Azure Blob Storage or Azure Data Lake Storage Gen 2**.\n",
    "6. **Performance**: Puedes elegir entre \"Standard\" o \"Premium\", según tus necesidades. Seleccione **Standard**.\n",
    "7. **Replication**: Elige el tipo de replicación deseado (LRS, GRS, etc.). Seleccione **GRS**."
   ]
  },
  {
   "cell_type": "markdown",
   "metadata": {},
   "source": [
    "[![p499.png](https://i.postimg.cc/G3K37NPf/p499.png)](https://postimg.cc/K4Ky40H7)\n",
    "[![p500.png](https://i.postimg.cc/RV0SjRXZ/p500.png)](https://postimg.cc/dDzcCGbb)"
   ]
  },
  {
   "cell_type": "markdown",
   "metadata": {},
   "source": [
    "### **1.4 - Habilitar características de Data Lake**"
   ]
  },
  {
   "cell_type": "markdown",
   "metadata": {},
   "source": [
    "1. En la sección **Advanced**, asegúrate de habilitar **Habilitar el jerarquía de archivos (Hierarchical Namespace)** para usar características de ADLS Gen2.\n",
    "2. Configura el resto de las opciones según tus necesidades (por ejemplo, cifrado, redes, etc.)."
   ]
  },
  {
   "cell_type": "markdown",
   "metadata": {},
   "source": [
    "[![p501.png](https://i.postimg.cc/2SsCLfm1/p501.png)](https://postimg.cc/pmJw34mv)\n",
    "[![p502.png](https://i.postimg.cc/JhjMbd4P/p502.png)](https://postimg.cc/1gRkSBFq)"
   ]
  },
  {
   "cell_type": "markdown",
   "metadata": {},
   "source": [
    "### **1.5 - Revisión y creación**"
   ]
  },
  {
   "cell_type": "markdown",
   "metadata": {},
   "source": [
    "1. Revisa todas las configuraciones.\n",
    "2. Haz clic en **Crear** para crear la cuenta de almacenamiento."
   ]
  },
  {
   "cell_type": "markdown",
   "metadata": {},
   "source": [
    "[![p503.png](https://i.postimg.cc/d1vvnmhv/p503.png)](https://postimg.cc/d7WzVCRS)\n",
    "[![p504.png](https://i.postimg.cc/3RBhq4GG/p504.png)](https://postimg.cc/BLXRLvMZ)"
   ]
  },
  {
   "cell_type": "markdown",
   "metadata": {},
   "source": [
    "### **1.6 - Acceder a tu Data Lake Storage**"
   ]
  },
  {
   "cell_type": "markdown",
   "metadata": {},
   "source": [
    "1. Una vez que se haya creado la cuenta, ve a **Cuentas de almacenamiento** en el menú del portal.\n",
    "2. Selecciona la cuenta de almacenamiento que acabas de crear **adlsproyectos**."
   ]
  },
  {
   "cell_type": "markdown",
   "metadata": {},
   "source": [
    "[![p505.png](https://i.postimg.cc/kXhbZDNL/p505.png)](https://postimg.cc/dLr3Zsx9)\n",
    "[![p506.png](https://i.postimg.cc/Bnr1SyVg/p506.png)](https://postimg.cc/pmBdk0xh)\n",
    "[![p507.png](https://i.postimg.cc/sXcBJ2D6/p507.png)](https://postimg.cc/JDs4rMXZ)\n",
    "[![p508.png](https://i.postimg.cc/LsjgnDdM/p508.png)](https://postimg.cc/wtTjrhTW)"
   ]
  },
  {
   "cell_type": "markdown",
   "metadata": {},
   "source": [
    "### **1.7 - Crear el Contenedor \"proyectosasa\"**"
   ]
  },
  {
   "cell_type": "markdown",
   "metadata": {},
   "source": [
    "1. En la página de la cuenta de almacenamiento, busca y selecciona **Contenedores** en el menú lateral.\n",
    "2. Haz clic en el botón **+ Contenedor** en la parte superior de la página.\n",
    "3. En el cuadro de diálogo que aparece, ingresa el nombre `proyectosasa`.\n",
    "4. Le damos un de nivel de acceso  **Privado** para que no sea accesible públicamente.\n",
    "5. Haz clic en **Crear**."
   ]
  },
  {
   "cell_type": "markdown",
   "metadata": {},
   "source": [
    "[![p509.png](https://i.postimg.cc/1tPn6FPV/p509.png)](https://postimg.cc/NyJjv5KQ)\n",
    "[![p1166.png](https://i.postimg.cc/7ZmGbTm3/p1166.png)](https://postimg.cc/G4Th590t)\n",
    "[![p1167.png](https://i.postimg.cc/HLnJMshf/p1167.png)](https://postimg.cc/WDRbLjjn)"
   ]
  },
  {
   "cell_type": "markdown",
   "metadata": {},
   "source": [
    "### **1.8 - Crear el Contenedor \"raw\"**"
   ]
  },
  {
   "cell_type": "markdown",
   "metadata": {},
   "source": [
    "1. En la página de la cuenta de almacenamiento, busca y selecciona **Contenedores** en el menú lateral.\n",
    "2. Haz clic en el botón **+ Contenedor** en la parte superior de la página.\n",
    "3. En el cuadro de diálogo que aparece, ingresa el nombre `raw`.\n",
    "4. Le damos un de nivel de acceso  **Privado** para que no sea accesible públicamente.\n",
    "5. Haz clic en **Crear**."
   ]
  },
  {
   "cell_type": "markdown",
   "metadata": {},
   "source": [
    "[![p1168.png](https://i.postimg.cc/5trXSWcj/p1168.png)](https://postimg.cc/HJQWTKkC)\n",
    "[![p1169.png](https://i.postimg.cc/xCbcspY5/p1169.png)](https://postimg.cc/WFTNzndq)\n",
    "[![p1170.png](https://i.postimg.cc/5ydjD52V/p1170.png)](https://postimg.cc/LYDH11PC)"
   ]
  },
  {
   "cell_type": "markdown",
   "metadata": {},
   "source": [
    "### **1.9 - Crear el Contenedor \"refined\"**"
   ]
  },
  {
   "cell_type": "markdown",
   "metadata": {},
   "source": [
    "1. En la página de la cuenta de almacenamiento, busca y selecciona **Contenedores** en el menú lateral.\n",
    "2. Haz clic en el botón **+ Contenedor** en la parte superior de la página.\n",
    "3. En el cuadro de diálogo que aparece, ingresa el nombre `refined`.\n",
    "4. Le damos un de nivel de acceso  **Privado** para que no sea accesible públicamente.\n",
    "5. Haz clic en **Crear**."
   ]
  },
  {
   "cell_type": "markdown",
   "metadata": {},
   "source": [
    "[![p1171.png](https://i.postimg.cc/5yBjJHXF/p1171.png)](https://postimg.cc/fSbMjRjw)\n",
    "[![p1172.png](https://i.postimg.cc/Yq7h3xPN/p1172.png)](https://postimg.cc/py0WVKRy)\n",
    "[![p1173.png](https://i.postimg.cc/xjMXMZ6T/p1173.png)](https://postimg.cc/WtppP5RQ)"
   ]
  },
  {
   "cell_type": "markdown",
   "metadata": {},
   "source": [
    "### **1.10 - Crear el Contenedor \"processed\"**"
   ]
  },
  {
   "cell_type": "markdown",
   "metadata": {},
   "source": [
    "1. En la página de la cuenta de almacenamiento, busca y selecciona **Contenedores** en el menú lateral.\n",
    "2. Haz clic en el botón **+ Contenedor** en la parte superior de la página.\n",
    "3. En el cuadro de diálogo que aparece, ingresa el nombre `processed`.\n",
    "4. Le damos un de nivel de acceso  **Privado** para que no sea accesible públicamente.\n",
    "5. Haz clic en **Crear**."
   ]
  },
  {
   "cell_type": "markdown",
   "metadata": {},
   "source": [
    "[![p1174.png](https://i.postimg.cc/xTPqFzrw/p1174.png)](https://postimg.cc/N55gKLjD)\n",
    "[![p1175.png](https://i.postimg.cc/527yfW2p/p1175.png)](https://postimg.cc/DSGncDsb)\n",
    "[![p1176.png](https://i.postimg.cc/qvMgfv4z/p1176.png)](https://postimg.cc/Vdpzn1S8)"
   ]
  }
 ],
 "metadata": {
  "language_info": {
   "name": "python"
  }
 },
 "nbformat": 4,
 "nbformat_minor": 2
}
