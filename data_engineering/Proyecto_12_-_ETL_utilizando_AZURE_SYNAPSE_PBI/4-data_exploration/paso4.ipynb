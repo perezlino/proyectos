{
 "cells": [
  {
   "cell_type": "markdown",
   "metadata": {},
   "source": [
    "## **`Paso 4`: Exploración de datos**"
   ]
  },
  {
   "cell_type": "markdown",
   "metadata": {},
   "source": [
    "### **1. Exploración inicial del archivo `Unemployment.csv`**"
   ]
  },
  {
   "cell_type": "markdown",
   "metadata": {},
   "source": [
    "#### **Paso 1 - Acceder a Azure Synapse Studio**"
   ]
  },
  {
   "cell_type": "markdown",
   "metadata": {},
   "source": [
    "1. **Abrir Azure Synapse Studio**: \n",
    "    - Regresa al Azure Portal y busca `All resources`.\n",
    "    - Selecciona tu instancia de **Azure Synapse Workspace**.\n",
    "    - Haz clic en `Abrir Synapse Studio` para acceder a la interfaz de usuario de Synapse Studio."
   ]
  },
  {
   "cell_type": "markdown",
   "metadata": {},
   "source": [
    "[![p1193.png](https://i.postimg.cc/VLZz2B6b/p1193.png)](https://postimg.cc/KRLXMTtZ)\n",
    "[![p1185.png](https://i.postimg.cc/tTYnPCYs/p1185.png)](https://postimg.cc/tZGgGbdb)"
   ]
  },
  {
   "cell_type": "markdown",
   "metadata": {},
   "source": [
    "#### **Paso 2 - Navegar a la sección \"Develop\"**"
   ]
  },
  {
   "cell_type": "markdown",
   "metadata": {},
   "source": [
    "1. En el panel izquierdo de Synapse Studio, selecciona la pestaña **Develop**.\n",
    "2. Dentro de la sección **Develop**, haz clic en el botón `+ New` y selecciona `SQL Script`. Esto abrirá un editor de SQL donde podrás escribir tus consultas.\n",
    "3. Renombremos el SQL Script como **1_Data_Exploration**.\n",
    "4. En el lado derecho, puedes ver que está conectado a **Built-in**. Este es el **Serverless SQL pool** que obtenemos por defecto. Si ves la base de datos en el lado derecho, verás algo llamado **master**. Esta es la base de datos predeterminada que obtenemos de **Serverless SQL pool**. Cuando creo un nuevo script SQL, por defecto se conecta al **Serverless SQL pool**"
   ]
  },
  {
   "cell_type": "markdown",
   "metadata": {},
   "source": [
    "[![p1195.png](https://i.postimg.cc/t4rD3JBb/p1195.png)](https://postimg.cc/yDZFB1qp)\n",
    "[![p1196.png](https://i.postimg.cc/QxvG1cqQ/p1196.png)](https://postimg.cc/ZCPMhB2n)"
   ]
  },
  {
   "cell_type": "markdown",
   "metadata": {},
   "source": [
    "#### **Paso 3 - Obtener la ruta del archivo**"
   ]
  },
  {
   "cell_type": "markdown",
   "metadata": {},
   "source": [
    "1. **Seleccionar el archivo**:\n",
    "    - Desde la sección **Data** dentro del contenedor `raw`, haz clic sobre el archivo `Unemployment.csv`.\n",
    "    - En el panel de detalles, selecciona la opción `Properties`.\n",
    "\n",
    "2. **Propiedades del archivo**:\n",
    "    - Nos muestra las rutas `URL` y `ABFSS`."
   ]
  },
  {
   "cell_type": "markdown",
   "metadata": {},
   "source": [
    "[![p1197.png](https://i.postimg.cc/h4sMkmZ9/p1197.png)](https://postimg.cc/14gp68Qt)\n",
    "[![p1198.png](https://i.postimg.cc/MKGtqGgg/p1198.png)](https://postimg.cc/9zvyBcmB)"
   ]
  },
  {
   "cell_type": "markdown",
   "metadata": {},
   "source": [
    "#### **Paso 4 - Exploración del archivo utilizando `OPENROWSET()`**"
   ]
  },
  {
   "cell_type": "markdown",
   "metadata": {},
   "source": [
    "Vamos a analizar el archivo utilizando la ruta **HTTPS**:"
   ]
  },
  {
   "cell_type": "markdown",
   "metadata": {},
   "source": [
    "[![p1199.png](https://i.postimg.cc/ydTVsj2h/p1199.png)](https://postimg.cc/2bVpxQk3)"
   ]
  },
  {
   "cell_type": "markdown",
   "metadata": {},
   "source": [
    "Vamos a analizar el archivo utilizando la ruta **ABFSS**:"
   ]
  },
  {
   "cell_type": "markdown",
   "metadata": {},
   "source": [
    "[![p1201.png](https://i.postimg.cc/FzWNJRr7/p1201.png)](https://postimg.cc/PvwBgd8j)"
   ]
  },
  {
   "cell_type": "markdown",
   "metadata": {},
   "source": [
    "Para obtener la fila de encabezado, vamos a mencionar el parámetro **HEADER_ROW** y necesitamos decir que es verdadero, indicar **TRUE**. En caso de que estés usando **PARSER_VERSION = 1.0**, no podras usar la función de **HEADER_ROW**. Por otro lado, Microsoft recomienda usar **PARSER_VERSION = 2.0** porque es mucho más eficiente. "
   ]
  },
  {
   "cell_type": "markdown",
   "metadata": {},
   "source": [
    "[![p1202.png](https://i.postimg.cc/G3qcfMFd/p1202.png)](https://postimg.cc/s1GdQ4HN)"
   ]
  },
  {
   "cell_type": "markdown",
   "metadata": {},
   "source": [
    "En lugar de obtener todas las columnas, también podemos seleccionar solo columnas específicas. En lugar de usar `*` puedo definir directamente cualquiera de las columnas que quiero. Intentemos consultar el campo `Line Number` y `Month`. Dado que tengo espacios en el nombre del campo es preferible usar corchetes. "
   ]
  },
  {
   "cell_type": "markdown",
   "metadata": {},
   "source": [
    "[![p1203.png](https://i.postimg.cc/VvLz6Mcx/p1203.png)](https://postimg.cc/yg5MpDxj)"
   ]
  },
  {
   "cell_type": "markdown",
   "metadata": {},
   "source": [
    "Luego, también podemos definir esto usando `alias`."
   ]
  },
  {
   "cell_type": "markdown",
   "metadata": {},
   "source": [
    "[![p1204.png](https://i.postimg.cc/GhtcnkKY/p1204.png)](https://postimg.cc/ZCkkrv1K)"
   ]
  },
  {
   "cell_type": "markdown",
   "metadata": {},
   "source": [
    "Podemos usar la cláusula **WITH** para definir un schema externo, por ahora solo vamos a consultar dos campos: `Line Number` y `Month`. El primero lo definimos como tipo **INT** y el segundo como tipo **VARCHAR**, así que vamos a definir estos externamente."
   ]
  },
  {
   "cell_type": "markdown",
   "metadata": {},
   "source": [
    "[![p1205.png](https://i.postimg.cc/m2nTLtpn/p1205.png)](https://postimg.cc/0b7TZ2sG)"
   ]
  },
  {
   "cell_type": "markdown",
   "metadata": {},
   "source": [
    "El uso de la opción **FIRSTROW** es en caso de que no estés usando **HEADER_ROW**. El uso de la función **FIRSTROW** es indicarle a la función **OPENROWSET()** que mi primera fila comenzará desde el número de línea 2."
   ]
  },
  {
   "cell_type": "markdown",
   "metadata": {},
   "source": [
    "[![p1206.png](https://i.postimg.cc/qvC4z49v/p1206.png)](https://postimg.cc/NKYWnqs3)"
   ]
  },
  {
   "cell_type": "markdown",
   "metadata": {},
   "source": [
    "También tenemos una opción más llamada **FIELDTERMINATOR** al cual le indicamos el simbolo que se utiliza en el archivo para  separar las columnas. En nuestro caso, cada campo está separado por una coma. "
   ]
  },
  {
   "cell_type": "markdown",
   "metadata": {},
   "source": [
    "[![p1207.png](https://i.postimg.cc/HLDHMFg4/p1207.png)](https://postimg.cc/QFbRG4VH)"
   ]
  },
  {
   "cell_type": "markdown",
   "metadata": {},
   "source": [
    "#### **Paso 5 - Arreglar el `Collation Warning`**"
   ]
  },
  {
   "cell_type": "markdown",
   "metadata": {},
   "source": [
    "1. Crear un nuevo script SQL, solo debes hacer clic en los tres puntos y luego hacer clic en `New Script SQL`. Le daremos el nombre de **2_Fixing_collation_warning**"
   ]
  },
  {
   "cell_type": "markdown",
   "metadata": {},
   "source": [
    "[![p1208.png](https://i.postimg.cc/Gmr61Dkr/p1208.png)](https://postimg.cc/dLH52LHS)"
   ]
  },
  {
   "cell_type": "markdown",
   "metadata": {},
   "source": [
    "2. Ahora, si haces clic en `Messages`, verás una advertencia que indica un posible error de conversión al leer las columnas VARCHAR desde un texto codificado en UTF-8. \n",
    "3. Esto significa que obtuvimos estos datos de un archivo CSV que está codificado en UTF-8. Esta es una codificación común que veremos también en escenarios reales cuando tomemos los datos de cualquier archivo CSV. Para solucionar esto, nos sugiere dos posibles soluciones: \n",
    "    - Cambiar la collation de la base de datos a una que sea compatible con UTF8 \n",
    "    - Especificar explícitamente el schema de la columna en la cláusula **WITH** y asignar la `UTF-8 collation` para cada columna **VARCHAR**. Actualmente, enfrentaremos este error con las columnas **VARCHAR**."
   ]
  },
  {
   "cell_type": "markdown",
   "metadata": {},
   "source": [
    "[![p1209.png](https://i.postimg.cc/s2g8MR6N/p1209.png)](https://postimg.cc/21gTtgfQ)"
   ]
  },
  {
   "cell_type": "markdown",
   "metadata": {},
   "source": [
    "4. **Para corregirlo, primero vamos a crear una base de datos**. Actualmente, estamos usando la base de datos **master**, así que vamos a crear una nueva base de datos, ya que no se recomienda alterar la base de datos **master** si queremos cambiar la `collation` para toda la base de datos. La base de datos se llamará `ProjectDB`.\n",
    "5. En la sección `Data` en la pestaña `Workspace` se mostrarán todos los metadatos relacionados con nuestro workspace en Synapse. Así que si estamos creando una base de datos, aparecerá en esta pestaña bajo `SQL Database`. Para esto es necesario publicar todo (`Publish all`). Necesitamos publicar para que todos los cambios se sincronicen, y luego actualizar la página. "
   ]
  },
  {
   "cell_type": "markdown",
   "metadata": {},
   "source": [
    "[![p1210.png](https://i.postimg.cc/Z5c2YqcN/p1210.png)](https://postimg.cc/VJJDDm2s)\n",
    "[![p1211.png](https://i.postimg.cc/nhHSWJJh/p1211.png)](https://postimg.cc/2VKxqgys)\n",
    "[![p1212.png](https://i.postimg.cc/1zXC9r4x/p1212.png)](https://postimg.cc/p9NYC8Dk)\n",
    "[![p1213.png](https://i.postimg.cc/L5tvyyQP/p1213.png)](https://postimg.cc/5QtwymV9)"
   ]
  },
  {
   "cell_type": "markdown",
   "metadata": {},
   "source": [
    "6. Ahora abordemos nuestros problemas corrigiendo la `collation`. Usamos la base de datos **ProjectDB**. Para corregir las advertencias de `collation`, se nos dice que podemos usar dos métodos: \n",
    "\n",
    "- Uno es definir explícitamente la `collation` para las columnas \n",
    "- El otro es definir la `collation` para toda la base de datos\n",
    "\n",
    "Vamos a ver ambos enfoques, así que empecemos con el primero, que es definir explícitamente la `collation` para cada columna. Necesitamos definir `collation` en la cláusula **WITH**. Ahora, para definir `collation`, después de definir **VARCHAR** se debe ingresar **COLLATE**: \n",
    "```sql\n",
    "-- USAR EXPLICITAMENTE COLLATION SOBRE LAS COLUMNAS\n",
    "\n",
    "SELECT [data].[Line Number],[data].[Month]\n",
    "FROM \n",
    "    OPENROWSET(\n",
    "        BULK 'abfss://raw@adlsproyectos.dfs.core.windows.net/Unemployment.csv',\n",
    "        FORMAT = 'CSV',\n",
    "        HEADER_ROW = TRUE,\n",
    "        PARSER_VERSION = '2.0'\n",
    "    ) \n",
    "    WITH (\n",
    "        [Line Number] VARCHAR(10) COLLATE Latin1_General_100_CI_AS_KS_SC_UTF8,\n",
    "        [Month] VARCHAR(10) COLLATE Latin1_General_100_CI_AS_KS_SC_UTF8\n",
    "    ) AS [data]\n",
    "```\n",
    "Ahora puedes ver que este es el tipo de `collation` con el que definimos las columnas. Vamos a ejecutarlo y vemos que lo hizo correctamente. Volvamos y hagamos clic en `Messages`. Ahora no estamos viendo ninguna advertencia de posibles problemas de `collation`. Solo nos dice que nuestra declaración se ejecutó y cuántas filas fueron afectadas. Esto solo es una confirmación de que nuestra consulta se ha ejecutado correctamente. Así es como podemos manejar los mensajes de `collation`, manejándolos explícitamente. "
   ]
  },
  {
   "cell_type": "markdown",
   "metadata": {},
   "source": [
    "[![p1214.png](https://i.postimg.cc/DfxSGQwp/p1214.png)](https://postimg.cc/qgCBV3n2)\n",
    "[![p1215.png](https://i.postimg.cc/Kv4RDKKG/p1215.png)](https://postimg.cc/BX9Sqnck)"
   ]
  },
  {
   "cell_type": "markdown",
   "metadata": {},
   "source": [
    "7. <mark>**Ahora veamos cómo manejar esto a nivel de toda la base de datos**</mark>. Para eso, necesitamos hacer un **ALTER DATABASE**. \n",
    "\n",
    "|La razón por la que creamos una base de datos es que si deseas cambiar la `collation` para toda la base de datos, no puedes hacerlo en la base de datos **master**|\n",
    "|---| \n",
    "\n",
    "Así que vamos a cambiar la `collation` y vamos a alterar la base de datos para habilitar la `collation`. \n",
    "```sql\n",
    "-- CAMBIAR COLLATION PARA TODA LA BASE DE DATOS\n",
    "\n",
    "ALTER DATABASE ProjectDB\n",
    "COLLATE Latin1_General_100_CI_AS_KS_SC_UTF8\n",
    "```"
   ]
  },
  {
   "cell_type": "markdown",
   "metadata": {},
   "source": [
    "[![p1216.png](https://i.postimg.cc/vTCMzZjT/p1216.png)](https://postimg.cc/sGPtfs3C)"
   ]
  },
  {
   "cell_type": "markdown",
   "metadata": {},
   "source": [
    "Aquí no hemos definido explícitamente ninguna `collation` para las columnas:"
   ]
  },
  {
   "cell_type": "markdown",
   "metadata": {},
   "source": [
    "[![p1217.png](https://i.postimg.cc/NGngYdMt/p1217.png)](https://postimg.cc/6TdsfLnb)\n",
    "[![p1218.png](https://i.postimg.cc/3JD3w24v/p1218.png)](https://postimg.cc/8jD2KJbp)"
   ]
  },
  {
   "cell_type": "markdown",
   "metadata": {},
   "source": [
    "#### **Paso 6 - Crear una `EXTERNAL TABLE` utilizando la sintáxis `CETAS`**"
   ]
  },
  {
   "cell_type": "markdown",
   "metadata": {},
   "source": [
    "1. Crear un nuevo script SQL, solo debes hacer clic en los tres puntos y luego hacer clic en `New Script SQL`. Le daremos el nombre de **3_Creating_External_table**\n",
    "2. Debemos mover los datos del contenedor `raw` al contenedor `refined`. Tenemos el dataset `Unemployment.csv`, que está en el contenedor `raw` y queremos llevarlo a un formato `parquet` en el contenedor `refined`.\n",
    "3. Vamos a crear una **EXTERNAL TABLE** utilizando el resultado de una consulta **SELECT** (`CETAS`) donde no vamos a utilizar las columnas `InsertSource`, `Data Version`, `Access Permission` y `Update Frequency`\n",
    "4. Esta **EXTERNAL TABLE** se creará en el contenedor `refined`\n",
    "5. Para crear una **EXTERNAL TABLE** necesitamos crear **EXTERNAL FILE FORMAT** que indicará el formato `parquet` y **EXTERNAL DATA SOURCE** que hará referencia al contenedor `refined`"
   ]
  },
  {
   "cell_type": "markdown",
   "metadata": {},
   "source": [
    "[![p1219.png](https://i.postimg.cc/NjBtvRkT/p1219.png)](https://postimg.cc/ykQtFg5Y)\n",
    "[![p1220.png](https://i.postimg.cc/cLhSx6Fz/p1220.png)](https://postimg.cc/k22ZwM3N)"
   ]
  },
  {
   "cell_type": "markdown",
   "metadata": {},
   "source": [
    "Veamos qué hicimos exactamente: \n",
    "\n",
    "- Escribimos una instrucción **SELECT** que solo traerá las filas específicas que necesitamos.\n",
    "- Luego estamos creando una **EXTERNAL TABLE** usando `DATA_SOURCE` como `refined_path` que hace referencia al contenedor `refined`, `LOCATION` como `ExtNew` y FILE_FORMAT como `parquet_format`, donde definimos el formato de archivo como el formato `parquet`.\n",
    "- Al escribir esto, se creará una nueva carpeta llamada `ExtNew`, dentro del contenedor `refined`, y dentro de esa carpeta se almacenará la información. \n",
    "\n",
    "En resumen:\n",
    "\n",
    "Las opciones necesarias para crear la **EXTERNAL TABLE** son: \n",
    "- `DATA_SOURCE`: guarda la ruta del almacenamiento (en este caso, el contenedor `refined`)\n",
    "- `LOCATION`: ruta que define en qué carpeta quieres almacenar los datos\n",
    "- `FILE_FORMAT` que hace referencia al **EXTERNAL FILE FORMAT**, que define el formato en el que quieres almacenar la **EXTERNAL TABLE** en el almacenamiento de datos. "
   ]
  },
  {
   "cell_type": "markdown",
   "metadata": {},
   "source": [
    "[![p1221.png](https://i.postimg.cc/DzY3GHkd/p1221.png)](https://postimg.cc/KKLWS9YR)\n",
    "[![p1222.png](https://i.postimg.cc/yNNzkB58/p1222.png)](https://postimg.cc/nXNWW8py)\n",
    "[![p1223.png](https://i.postimg.cc/PxpsQydG/p1223.png)](https://postimg.cc/sQrNVpBK)"
   ]
  },
  {
   "cell_type": "markdown",
   "metadata": {},
   "source": [
    "Si vamos a la sección `Data` y luego a la pestaña `Workspace` y desplegamos `External tables`, luego actualizamos y veremos que se muestra la **EXTERNAL TABLE** `dbo.Ext_Table`. Si actualizamos también las `External data sources`, podemos ver `refined_path`, y si actualizamos también los `External file formats`, veremos que aparece `parquet_format`. "
   ]
  },
  {
   "cell_type": "markdown",
   "metadata": {},
   "source": [
    "[![p1224.png](https://i.postimg.cc/xTWkvpYQ/p1224.png)](https://postimg.cc/Yhzqk3hD)"
   ]
  },
  {
   "cell_type": "markdown",
   "metadata": {},
   "source": [
    "#### **Paso 7 - Verificar resultado**"
   ]
  },
  {
   "cell_type": "markdown",
   "metadata": {},
   "source": [
    "1. Verificamos que se haya creado un archivo `parquet` en el directorio `ExtNew` dentro del contenedor `refined`."
   ]
  },
  {
   "cell_type": "markdown",
   "metadata": {},
   "source": [
    "[![p1225.png](https://i.postimg.cc/59gTQDBH/p1225.png)](https://postimg.cc/NLypWJPY)\n",
    "[![p1226.png](https://i.postimg.cc/CLKtGJ7c/p1226.png)](https://postimg.cc/PNB2hWBD)"
   ]
  }
 ],
 "metadata": {
  "language_info": {
   "name": "python"
  }
 },
 "nbformat": 4,
 "nbformat_minor": 2
}
