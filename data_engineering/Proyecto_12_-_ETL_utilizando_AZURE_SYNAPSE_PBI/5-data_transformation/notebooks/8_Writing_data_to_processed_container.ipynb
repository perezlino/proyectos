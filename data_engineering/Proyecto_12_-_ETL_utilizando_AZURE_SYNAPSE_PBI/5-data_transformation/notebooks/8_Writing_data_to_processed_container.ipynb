{
  "cells": [
    {
      "cell_type": "code",
      "source": [
        "# Lectura de los datos transformados de la transformación anterior\r\n",
        "\r\n",
        "df = spark.read.format('parquet')\\\r\n",
        "                        .load('abfss://refined@adlsproyectos.dfs.core.windows.net/SchemaManagement/*.parquet')"
      ],
      "outputs": [
        {
          "output_type": "display_data",
          "data": {
            "application/vnd.livy.statement-meta+json": {
              "spark_pool": "sparkpool",
              "statement_id": 2,
              "statement_ids": [
                2
              ],
              "state": "finished",
              "livy_statement_state": "available",
              "spark_jobs": null,
              "session_id": "10",
              "normalized_state": "finished",
              "queued_time": "2024-11-22T03:10:20.3138146Z",
              "session_start_time": null,
              "execution_start_time": "2024-11-22T03:10:20.4635229Z",
              "execution_finish_time": "2024-11-22T03:10:27.2962716Z",
              "parent_msg_id": "87f94834-ac0e-410b-8364-a7f22f6b9888"
            },
            "text/plain": "StatementMeta(sparkpool, 10, 2, Finished, Available, Finished)"
          },
          "metadata": {}
        }
      ],
      "execution_count": 2,
      "metadata": {
        "jupyter": {
          "source_hidden": false,
          "outputs_hidden": false
        },
        "nteract": {
          "transient": {
            "deleting": false
          }
        }
      }
    },
    {
      "cell_type": "code",
      "source": [
        "# Escritura del dataframe transformado en Data Lake\r\n",
        "\r\n",
        "df.write.format('parquet')\\\r\n",
        "        .mode('overwrite')\\\r\n",
        "        .save('abfss://processed@adlsproyectos.dfs.core.windows.net/processed/')"
      ],
      "outputs": [
        {
          "output_type": "display_data",
          "data": {
            "application/vnd.livy.statement-meta+json": {
              "spark_pool": "sparkpool",
              "statement_id": 3,
              "statement_ids": [
                3
              ],
              "state": "finished",
              "livy_statement_state": "available",
              "spark_jobs": null,
              "session_id": "10",
              "normalized_state": "finished",
              "queued_time": "2024-11-22T03:10:20.3872049Z",
              "session_start_time": null,
              "execution_start_time": "2024-11-22T03:10:27.4135566Z",
              "execution_finish_time": "2024-11-22T03:10:39.9400292Z",
              "parent_msg_id": "a37b825a-1450-4efd-9cf1-2058fcca8ad0"
            },
            "text/plain": "StatementMeta(sparkpool, 10, 3, Finished, Available, Finished)"
          },
          "metadata": {}
        }
      ],
      "execution_count": 3,
      "metadata": {}
    }
  ],
  "metadata": {
    "language_info": {
      "name": "python"
    },
    "kernelspec": {
      "name": "synapse_pyspark",
      "language": "Python",
      "display_name": "Synapse PySpark"
    },
    "kernel_info": {
      "name": "synapse_pyspark"
    },
    "save_output": true,
    "synapse_widget": {
      "version": "0.1",
      "state": {}
    }
  },
  "nbformat": 4,
  "nbformat_minor": 2
}