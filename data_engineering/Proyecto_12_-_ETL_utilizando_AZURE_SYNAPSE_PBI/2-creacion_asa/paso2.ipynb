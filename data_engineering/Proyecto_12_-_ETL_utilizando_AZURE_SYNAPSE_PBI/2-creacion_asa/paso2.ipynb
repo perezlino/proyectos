{
 "cells": [
  {
   "cell_type": "markdown",
   "metadata": {},
   "source": [
    "## **`Paso 2`: Creación del recurso Azure Synapse Analytics**"
   ]
  },
  {
   "cell_type": "markdown",
   "metadata": {},
   "source": [
    "### **2.1 - Crear un nuevo recurso ASA**"
   ]
  },
  {
   "cell_type": "markdown",
   "metadata": {},
   "source": [
    "1. En el menú del portal, selecciona **Crear un recurso**.\n",
    "2. Busca **Azure Synapse Analytics** y en Marketplace selecciona **Azure Synapse Analytics**.\n",
    "3. Haz clic en **Crear**."
   ]
  },
  {
   "cell_type": "markdown",
   "metadata": {},
   "source": [
    "[![p737.png](https://i.postimg.cc/3rFrSHbd/p737.png)](https://postimg.cc/5jjMyDJV)\n",
    "[![p1162.png](https://i.postimg.cc/PrFGMqph/p1162.png)](https://postimg.cc/PPZFXTQF)\n",
    "[![p1163.png](https://i.postimg.cc/cLVVV5Bb/p1163.png)](https://postimg.cc/9DY89bSd)\n",
    "[![p1164.png](https://i.postimg.cc/wjtC4dLN/p1164.png)](https://postimg.cc/68XbTgH6)"
   ]
  },
  {
   "cell_type": "markdown",
   "metadata": {},
   "source": [
    "### **2.2 - Configurar ASA**"
   ]
  },
  {
   "cell_type": "markdown",
   "metadata": {},
   "source": [
    "1. **Seleccionar suscripción**: Escoge la suscripción de Azure que deseas utilizar.\n",
    "2. **Grupo de recursos**: Selecciona **rg-proyectos** que creamos anteriormente.\n",
    "3. **Managed resource group**: este es un contenedor que contiene todos los recursos auxiliares creados por Synapse Analytics para tu workspace. En caso de que no proporciones un nombre para el **Managed resource group**, Synapse creará su propio **Managed resource group**. Si tienes políticas estrictas a nivel organizacional, puedes mencionar el nombre de acuerdo a esas políticas, si no, puedes dejarlo en blanco y Synapse creará el suyo propio. Le dejaremos en blanco.\n",
    "4. **Nombre del Workspace**: Le di el nombre de **asa-proyectos**.\n",
    "5. **Región**: Selecciona la región donde deseas que se ubique el recurso. Seleccione **East US 2**. (En mi suscripción de Azure Student no me permitió crear en la región **East US**)\n",
    "6. **Seleccionar un Data Lake Storage Gen2**: Seleccionamos la cuenta de almacenamiento **adlsproyectos** y el contenedor **proyectosasa**. Tanto la cuenta de almacenamiento como el contenedor se convertiran en servicios **principales** del workspace.\n",
    "\n",
    "|Mientras creamos este contenedor, se nos dará el rol de `Storage Blob Data Contributor` para consultas interactivas en el workspace. Esto otorgará permisos tanto para Synapse Analytics como para la cuenta de usuario que estés usando.|\n",
    "|---|"
   ]
  },
  {
   "cell_type": "markdown",
   "metadata": {},
   "source": [
    "[![p1165.png](https://i.postimg.cc/J7SZNJ3M/p1165.png)](https://postimg.cc/23F1m1XK)\n",
    "[![p1177.png](https://i.postimg.cc/J4JJPnKJ/p1177.png)](https://postimg.cc/JGrGhRf4)"
   ]
  },
  {
   "cell_type": "markdown",
   "metadata": {},
   "source": [
    "### **2.3 - Configurar ASA: Security**"
   ]
  },
  {
   "cell_type": "markdown",
   "metadata": {},
   "source": [
    "1. **Método de autenticación**: Aquí nos pregunta si deseamos usar `solo la autenticación de Azure AD (Azure Active Directory)` o `usar tanto la autenticación local como la de Azure Active Directory`. Esto es porque tenemos algo llamado **Serverless SQL Pool** que en el backend es una **SQL Database** o un **SQL Server**. Seleccionamos `Use both local and Microsoft Entra ID authentication`.\n",
    "2. **SQL Server admin login** y **SQL Password**: Necesitamos proporcionar un nombre de usuario y una contraseña. Vamos a configurar `sqladmin` y establecer una contraseña que será `Admin1234`. No vamos a cambiar ninguna de las otras opciones."
   ]
  },
  {
   "cell_type": "markdown",
   "metadata": {},
   "source": [
    "[![p1178.png](https://i.postimg.cc/3JrDhBZ8/p1178.png)](https://postimg.cc/CdtKHbtX)"
   ]
  },
  {
   "cell_type": "markdown",
   "metadata": {},
   "source": [
    "### **2.4 - Configurar ASA: Otras opciones de configuración**"
   ]
  },
  {
   "cell_type": "markdown",
   "metadata": {},
   "source": [
    "Pasemos a la siguiente sección, **Networking**. No vamos a crear ninguna red administrada, así que hacemos clic en siguiente. No añadiremos **Tags**, así que hacemos clic en **Review + create**."
   ]
  },
  {
   "cell_type": "markdown",
   "metadata": {},
   "source": [
    "[![p1179.png](https://i.postimg.cc/cL2KQNGC/p1179.png)](https://postimg.cc/yDhYHtdC)"
   ]
  },
  {
   "cell_type": "markdown",
   "metadata": {},
   "source": [
    "### **2.5 - Revisar y crear**"
   ]
  },
  {
   "cell_type": "markdown",
   "metadata": {},
   "source": [
    "1. **Revisión**: Verifica que toda la información ingresada sea correcta.\n",
    "2. **Crear**: Haz clic en el botón **Crear** para provisionar el recurso.\n",
    "3. En **Product Details** puedes ver que dice `Azure Synapse Analytics workspace by Microsoft` y el costo estimado del **Serverless SQL Pool** es `5.00 USD`. Al crear el servicio de Azure Synapse Analytics no se te cobrará, solo se te cobrará si usas el **Serverless SQL Pool**. Esta es la cantidad que se te cobrará por TB y este es el costo estimado. No se te cobrará al crear, solo si usas ese recurso. Vamos a hacer clic en `Create`, esto debería crear nuestro workspace de Azure Synapse Analytics."
   ]
  },
  {
   "cell_type": "markdown",
   "metadata": {},
   "source": [
    "[![p1180.png](https://i.postimg.cc/y8HR5HrG/p1180.png)](https://postimg.cc/9rLzRv2P)\n",
    "[![p1181.png](https://i.postimg.cc/P5QDnRg5/p1181.png)](https://postimg.cc/ts7Jh2RK)"
   ]
  },
  {
   "cell_type": "markdown",
   "metadata": {},
   "source": [
    "### **2.6 - Acceder a Azure Synapse Analytics**"
   ]
  },
  {
   "cell_type": "markdown",
   "metadata": {},
   "source": [
    "1. **Ir al recurso**: Una vez que la implementación se complete, puedes acceder a tu Azure Synapse Analytics haciendo clic en **Ir al recurso** o buscando el nombre de tu Azure Synapse Analytics en el menú de **Todos los recursos**."
   ]
  },
  {
   "cell_type": "markdown",
   "metadata": {},
   "source": [
    "[![p1182.png](https://i.postimg.cc/3wrv8ZhC/p1182.png)](https://postimg.cc/gx5J48nn)\n",
    "[![p1183.png](https://i.postimg.cc/7LBTfTYv/p1183.png)](https://postimg.cc/Y4WSP0W8)\n",
    "[![p1184.png](https://i.postimg.cc/qRShGV3j/p1184.png)](https://postimg.cc/47vxJ0w9)\n",
    "[![p1185.png](https://i.postimg.cc/tTYnPCYs/p1185.png)](https://postimg.cc/tZGgGbdb)"
   ]
  }
 ],
 "metadata": {
  "language_info": {
   "name": "python"
  }
 },
 "nbformat": 4,
 "nbformat_minor": 2
}
