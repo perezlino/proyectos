{
 "cells": [
  {
   "cell_type": "markdown",
   "metadata": {},
   "source": [
    "## **`Paso 6`: Preparación y visualización de datos**"
   ]
  },
  {
   "cell_type": "markdown",
   "metadata": {},
   "source": [
    "### **1. Creación y carga de datos en `Dedicated SQL Pool`**"
   ]
  },
  {
   "cell_type": "markdown",
   "metadata": {},
   "source": [
    "#### **Paso 1 - Acceder a Azure Synapse Studio**"
   ]
  },
  {
   "cell_type": "markdown",
   "metadata": {},
   "source": [
    "1. **Abrir Azure Synapse Studio**: \n",
    "    - Regresa al Azure Portal y busca `All resources`.\n",
    "    - Selecciona tu instancia de **Azure Synapse Workspace**.\n",
    "    - Haz clic en `Abrir Synapse Studio` para acceder a la interfaz de usuario de Synapse Studio."
   ]
  },
  {
   "cell_type": "markdown",
   "metadata": {},
   "source": [
    "[![p1193.png](https://i.postimg.cc/VLZz2B6b/p1193.png)](https://postimg.cc/KRLXMTtZ)\n",
    "[![p1185.png](https://i.postimg.cc/tTYnPCYs/p1185.png)](https://postimg.cc/tZGgGbdb)"
   ]
  },
  {
   "cell_type": "markdown",
   "metadata": {},
   "source": [
    "#### **Paso 2: Crear el Dedicated SQL Pool**"
   ]
  },
  {
   "cell_type": "markdown",
   "metadata": {},
   "source": [
    "1. Una vez abierto Azure Synapse Studio, dirígete a la sección **Manage**.\n",
    "2. Selecciona **SQL Pools** en el menú de la izquierda.\n",
    "3. Haz clic en **+ New** para crear un nuevo **Dedicated SQL Pool**.\n",
    "   - Se abrirá un formulario donde necesitarás configurar las opciones siguientes:\n",
    "      - **Dedicated SQL pool name**: Ingresa un nombre para tu pool. Se llamará `dedicated`.\n",
    "      - **Performance level**: Elige el nivel de rendimiento (DWU - Data Warehouse Units) adecuado para tu caso de uso. Puedes seleccionar entre valores como 100, 200, 400, etc. Ten en cuenta que a mayor DWU, mayor capacidad de procesamiento y más costoso será. Seleccionamos lo más sencillo que es `DW100c`. `DW100c` nos dará solo un nodo de cómputo, y ese único nodo de cómputo tendrá las 60 distribuciones dentro de él.\n",
    "      - **Review + Create**: Los siguientes ajustes adicionales los dejaremos por defecto. Finalmente haz clic en **Create**."
   ]
  },
  {
   "cell_type": "markdown",
   "metadata": {},
   "source": [
    "[![p1316.png](https://i.postimg.cc/c1DhzBXP/p1316.png)](https://postimg.cc/DmX1JLVc)\n",
    "[![p1317.png](https://i.postimg.cc/Qxwb8xLb/p1317.png)](https://postimg.cc/qzcnQrvh)\n",
    "[![p1318.png](https://i.postimg.cc/4xc1mksT/p1318.png)](https://postimg.cc/XrV5zPr2)\n",
    "[![p1319.png](https://i.postimg.cc/VNcWtGk0/p1319.png)](https://postimg.cc/ZWVNtL3J)\n",
    "[![p1320.png](https://i.postimg.cc/Dy8634N0/p1320.png)](https://postimg.cc/jLYPz2tY)"
   ]
  },
  {
   "cell_type": "markdown",
   "metadata": {},
   "source": [
    "#### **Paso 3: Crear la tabla \"SQLPool_Table\"**"
   ]
  },
  {
   "cell_type": "markdown",
   "metadata": {},
   "source": [
    "1. En el panel izquierdo de Synapse Studio, selecciona la opción **Develop**.\n",
    "2. En la parte superior, haz clic en **+** y selecciona **SQL Script**. El script se llamará `4_Creating_dedicated_table`.\n",
    "3. Luego, seleccionar el **Dedicated SQL Pool** que creamos anteriormente.\n",
    "4. Ejecutar la consulta SQL para crear la tabla `SQLPool_Table`."
   ]
  },
  {
   "cell_type": "markdown",
   "metadata": {},
   "source": [
    "[![p1323.png](https://i.postimg.cc/fLWdD18Z/p1323.png)](https://postimg.cc/KKVj5pXs)\n",
    "[![p1324.png](https://i.postimg.cc/Ls3fdmBN/p1324.png)](https://postimg.cc/p9yyzbSF)\n",
    "[![p1325.png](https://i.postimg.cc/C5zffkyQ/p1325.png)](https://postimg.cc/GTnpWBmF)"
   ]
  },
  {
   "cell_type": "markdown",
   "metadata": {},
   "source": [
    "#### **Paso 4: Carga de datos en la tabla \"SQLPool_Table\"**"
   ]
  },
  {
   "cell_type": "markdown",
   "metadata": {},
   "source": [
    "1. La sentencia `COPY INTO` requiere que se indique la ruta HTTP de los datos que se van a cargar desde Azure Data Lake Storage.\n",
    "2. En el panel izquierdo de Synapse Studio, selecciona la opción **Data**.\n",
    "3. Navega hasta **Azure Data Lake Gen2 Storage** y abre el contenedor **\"processed\"**.\n",
    "4. Busca el archivo `parquet` que deseas cargar.\n",
    "5. Obtén la `URL` completa del archivo.\n",
    "6. Una vez que tienes la ruta completa del archivo, puedes usar la sentencia `COPY INTO` para cargar los datos en la tabla `SQLPool_Table` desde el archivo en Azure Data Lake Storage. Regresa a la opción **Develop**.\n",
    "7. En la parte superior, haz clic en **+** y selecciona **SQL Script**. El script se llamará `5_Copy_data_into_dedicated_table`."
   ]
  },
  {
   "cell_type": "markdown",
   "metadata": {},
   "source": [
    "[![p1321.png](https://i.postimg.cc/zfrWPyWy/p1321.png)](https://postimg.cc/bZmsZNmP)\n",
    "[![p1322.png](https://i.postimg.cc/Kz9MzQWT/p1322.png)](https://postimg.cc/qh3RDc4B)\n",
    "[![p1326.png](https://i.postimg.cc/nVPmfRBb/p1326.png)](https://postimg.cc/t7FJhzB2)\n",
    "[![p1327.png](https://i.postimg.cc/Vvp09vmL/p1327.png)](https://postimg.cc/n9KLpHX6)\n",
    "[![p1328.png](https://i.postimg.cc/02KwkY06/p1328.png)](https://postimg.cc/RN9FGn89)\n",
    "[![p1329.png](https://i.postimg.cc/qvfCzN11/p1329.png)](https://postimg.cc/zVjfQGZh)"
   ]
  },
  {
   "cell_type": "markdown",
   "metadata": {},
   "source": [
    "### **2. Creación de reporte en `Power BI` importando datos desde `Dedicated SQL Pool`, publicarlo en `Power BI Service` y luego acceder al reporte desde `Azure Synapse Analytics`**"
   ]
  },
  {
   "cell_type": "markdown",
   "metadata": {},
   "source": [
    "#### **Paso 1: Conectar Power BI Desktop a Dedicated SQL Pool de Azure**"
   ]
  },
  {
   "cell_type": "markdown",
   "metadata": {},
   "source": [
    "1. **Abrir Power BI Desktop**: Inicia Power BI Desktop en tu máquina local.\n",
    "  \n",
    "2. **Conectar a Dedicated SQL Pool en Azure**:\n",
    "   - Haz clic en **Obtener datos** en la barra de herramientas.\n",
    "   - Selecciona **Azure** y luego **Azure Synapse Analytics SQL**.\n",
    "  \n",
    "3. **Configurar la Conexión**:\n",
    "   - **Server**: En el campo **Server**, ingresa el **Workspace SQL Endpoint** de tu Azure Synapse Workspace. Puedes obtener el Workspace SQL Endpoint de forma rápida desde la sección `Manage` y seleccionando `SQL pools` en el menú lateral. Luego damos clic sobre nuestro **Dedicated SQL Pool** `dedicated desde donde podemos obtener la información requerida.\n",
    "   - **Data Connection Mode**: Selecciona la opción **Import** para importar los datos directamente desde el Dedicated SQL Pool a Power BI.\n",
    "\n",
    "4. **Autenticación**:\n",
    "   - Elige **Microsoft Account** como método de autenticación.\n",
    "   - Ingresa tus credenciales de cuenta de Microsoft (si no has iniciado sesión previamente en Power BI Desktop).\n",
    "\n",
    "5. **Seleccionar la tabla de Dedicated SQL Pool**:\n",
    "   - En el **Navigator**, navega a la base de datos de tu Dedicated SQL Pool.\n",
    "   - Selecciona la tabla **SQLPool_Table** y haz clic en **Cargar** para cargar los datos en Power BI."
   ]
  },
  {
   "cell_type": "markdown",
   "metadata": {},
   "source": [
    "[![p1330.png](https://i.postimg.cc/Fzy4rFGn/p1330.png)](https://postimg.cc/CnxtJg3j)\n",
    "[![p1331.png](https://i.postimg.cc/WbVV9r1R/p1331.png)](https://postimg.cc/7bKjh5zX)\n",
    "[![p1332.png](https://i.postimg.cc/8zPSGSvt/p1332.png)](https://postimg.cc/tYffd82x)\n",
    "[![p1333.png](https://i.postimg.cc/sf7y9Ky9/p1333.png)](https://postimg.cc/PNXBdWCP)\n",
    "[![p1334.png](https://i.postimg.cc/vHvsCB44/p1334.png)](https://postimg.cc/mthJHTN4)\n",
    "[![p1335.png](https://i.postimg.cc/FHWQsBgm/p1335.png)](https://postimg.cc/xXzZ6g4F)\n",
    "[![p1336.png](https://i.postimg.cc/d0hc7j4C/p1336.png)](https://postimg.cc/d7cxprMQ)\n",
    "[![p1337.png](https://i.postimg.cc/Ss80dN0N/p1337.png)](https://postimg.cc/sQV0DzDt)\n",
    "[![p1338.png](https://i.postimg.cc/DzRk14MM/p1338.png)](https://postimg.cc/xkG428Yv)\n",
    "[![p1339.png](https://i.postimg.cc/zv1scZ5w/p1339.png)](https://postimg.cc/sQwHMLM1)"
   ]
  },
  {
   "cell_type": "markdown",
   "metadata": {},
   "source": [
    "#### **Paso 2: Crear Visualizaciones en Power BI Desktop**"
   ]
  },
  {
   "cell_type": "markdown",
   "metadata": {},
   "source": [
    "1. **Crear visualizaciones**:\n",
    "   - Una vez que la tabla **SQLPool_Table** esté cargada, puedes comenzar a crear visualizaciones utilizando los campos disponibles.\n",
    "   - Utiliza gráficos de barras, líneas, mapas, tablas y otros elementos visuales para representar la información según tus necesidades.\n",
    "\n",
    "2. **Diseñar el reporte**:\n",
    "   - Organiza las visualizaciones en el lienzo de Power BI Desktop.\n",
    "   - Personaliza los gráficos y filtros según sea necesario para una mejor presentación de los datos."
   ]
  },
  {
   "cell_type": "markdown",
   "metadata": {},
   "source": [
    "[![p1340.png](https://i.postimg.cc/prYwNGXw/p1340.png)](https://postimg.cc/JH06ZQXx)"
   ]
  },
  {
   "cell_type": "markdown",
   "metadata": {},
   "source": [
    "#### **Paso 3: Crear un Workspace Compartido en Power BI Service**"
   ]
  },
  {
   "cell_type": "markdown",
   "metadata": {},
   "source": [
    "1. **Acceder a Power BI Service**:\n",
    "   - Ve a [Power BI Service](https://app.powerbi.com) en tu navegador y accede con tu cuenta de Microsoft.\n",
    "\n",
    "2. **Crear un Workspace**:\n",
    "   - En Power BI Service, haz clic en **Workspaces (Areas de trabajo)** desde el menú izquierdo.\n",
    "   - Ingresa un nombre para el Workspace. Se llamará `Synapse Project`.\n",
    "   - Configura las opciones de privacidad y permisos para el workspace según sea necesario.\n",
    "   - Haz clic en **Aplicar**."
   ]
  },
  {
   "cell_type": "markdown",
   "metadata": {},
   "source": [
    "[![p1341.png](https://i.postimg.cc/k5NXsd0C/p1341.png)](https://postimg.cc/Y49H2T2D)\n",
    "[![p1342.png](https://i.postimg.cc/SsyQtv4M/p1342.png)](https://postimg.cc/cKbNvTrx)\n",
    "[![p1343.png](https://i.postimg.cc/JnP7w57d/p1343.png)](https://postimg.cc/2bLNhvZ4)"
   ]
  },
  {
   "cell_type": "markdown",
   "metadata": {},
   "source": [
    "#### **Paso 4: Publicar el Reporte en Power BI Service**"
   ]
  },
  {
   "cell_type": "markdown",
   "metadata": {},
   "source": [
    "1. **Publicar desde Power BI Desktop**:\n",
    "   - Regresa a Power BI Desktop.\n",
    "   - Haz clic en **Publicar** en la barra de herramientas.\n",
    "   - Selecciona el **Workspace compartido** que creaste en el paso anterior.\n",
    "   - Confirma la publicación. Esto cargará el reporte en el Workspace compartido de Power BI Service."
   ]
  },
  {
   "cell_type": "markdown",
   "metadata": {},
   "source": [
    "[![p1344.png](https://i.postimg.cc/VkdKXfbS/p1344.png)](https://postimg.cc/yDChHzjB)\n",
    "[![p1345.png](https://i.postimg.cc/qRdQf2Dn/p1345.png)](https://postimg.cc/gwN38LWk)\n",
    "[![p1346.png](https://i.postimg.cc/GpDzSXKd/p1346.png)](https://postimg.cc/wt6h1cnG)\n",
    "[![p1347.png](https://i.postimg.cc/6pgY0kdM/p1347.png)](https://postimg.cc/hX8L43Zm)"
   ]
  },
  {
   "cell_type": "markdown",
   "metadata": {},
   "source": [
    "#### **Paso 5: Crear Linked Service que haga referencia a Power BI desde Azure Synapse Analytics**"
   ]
  },
  {
   "cell_type": "markdown",
   "metadata": {},
   "source": [
    "1. **Crear un Linked Service en Synapse**:\n",
    "   - Ve al portal de Azure y accede a tu recurso de **Azure Synapse Analytics**.\n",
    "   - Dentro del Synapse Studio, ve a la sección **Manage** en el menú izquierdo.\n",
    "   - En la sección **Linked Services**, haz clic en **+ New**.\n",
    "   - Selecciona **Power BI** como tipo de Linked Service.\n",
    "   - Configura la conexión con Power BI Service y selecciona el Workspace donde se encuentra tu reporte.\n",
    "   - Por último selecciona **Create**."
   ]
  },
  {
   "cell_type": "markdown",
   "metadata": {},
   "source": [
    "[![p1348.png](https://i.postimg.cc/DwTqw7Pk/p1348.png)](https://postimg.cc/7fKCB8Rm)\n",
    "[![p1349.png](https://i.postimg.cc/6Q6nCzPM/p1349.png)](https://postimg.cc/75c5k1wz)\n",
    "[![p1350.png](https://i.postimg.cc/mrdMjCfB/p1350.png)](https://postimg.cc/gwZnkw2T)\n",
    "[![p1351.png](https://i.postimg.cc/cLBfKPFK/p1351.png)](https://postimg.cc/RWqWyp59)"
   ]
  },
  {
   "cell_type": "markdown",
   "metadata": {},
   "source": [
    "#### **Paso 6: Acceder al Workspace Compartido de Power BI desde Synapse Analytics**"
   ]
  },
  {
   "cell_type": "markdown",
   "metadata": {},
   "source": [
    "1. **Acceder a Power BI desde Synapse Studio**:\n",
    "   - En Synapse Studio, ve a la pestaña **Develop** en el menú izquierdo.\n",
    "   - Ahora deberías ver una sección llamada **Power BI**.\n",
    "   - Haz clic en **Power BI** para acceder a tu Workspace compartido en Power BI Service directamente desde Synapse Studio.\n",
    "\n",
    "2. **Interacción con Power BI**:\n",
    "   - Desde aquí, puedes explorar el reporte que has publicado y trabajar con los datos visualizados sin salir de Synapse Studio, facilitando la integración de los informes dentro del entorno de trabajo de Synapse Analytics."
   ]
  },
  {
   "cell_type": "markdown",
   "metadata": {},
   "source": [
    "[![p1352.png](https://i.postimg.cc/k4BSpGq8/p1352.png)](https://postimg.cc/xJVqk0kT)"
   ]
  }
 ],
 "metadata": {
  "language_info": {
   "name": "python"
  }
 },
 "nbformat": 4,
 "nbformat_minor": 2
}
