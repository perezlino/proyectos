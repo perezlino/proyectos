{
 "cells": [
  {
   "cell_type": "markdown",
   "id": "bd413550",
   "metadata": {},
   "source": [
    "## **Consumo de datos desde un topico de Kafka y almacenados en HDFS utilizando Kafka Connect y Spark Structured Streaming**"
   ]
  },
  {
   "cell_type": "code",
   "execution_count": 4,
   "id": "ef1534ce-bcff-498c-b72d-83f9e1b8f1d3",
   "metadata": {
    "tags": []
   },
   "outputs": [
    {
     "name": "stderr",
     "output_type": "stream",
     "text": [
      "Ivy Default Cache set to: /root/.ivy2/cache\n",
      "The jars for the packages stored in: /root/.ivy2/jars\n",
      ":: loading settings :: url = jar:file:/usr/local/spark/jars/ivy-2.4.0.jar!/org/apache/ivy/core/settings/ivysettings.xml\n",
      "org.apache.spark#spark-sql-kafka-0-10_2.12 added as a dependency\n",
      ":: resolving dependencies :: org.apache.spark#spark-submit-parent-c38ec09b-f57f-4e9e-a632-ea05dc96f3b3;1.0\n",
      "\tconfs: [default]\n",
      "\tfound org.apache.spark#spark-sql-kafka-0-10_2.12;3.0.1 in central\n",
      "\tfound org.apache.spark#spark-token-provider-kafka-0-10_2.12;3.0.1 in central\n",
      "\tfound org.apache.kafka#kafka-clients;2.4.1 in central\n",
      "\tfound com.github.luben#zstd-jni;1.4.4-3 in central\n",
      "\tfound org.lz4#lz4-java;1.7.1 in central\n",
      "\tfound org.xerial.snappy#snappy-java;1.1.7.5 in central\n",
      "\tfound org.slf4j#slf4j-api;1.7.30 in central\n",
      "\tfound org.spark-project.spark#unused;1.0.0 in central\n",
      "\tfound org.apache.commons#commons-pool2;2.6.2 in central\n",
      "downloading https://repo1.maven.org/maven2/org/apache/spark/spark-sql-kafka-0-10_2.12/3.0.1/spark-sql-kafka-0-10_2.12-3.0.1.jar ...\n",
      "\t[SUCCESSFUL ] org.apache.spark#spark-sql-kafka-0-10_2.12;3.0.1!spark-sql-kafka-0-10_2.12.jar (339ms)\n",
      "downloading https://repo1.maven.org/maven2/org/apache/spark/spark-token-provider-kafka-0-10_2.12/3.0.1/spark-token-provider-kafka-0-10_2.12-3.0.1.jar ...\n",
      "\t[SUCCESSFUL ] org.apache.spark#spark-token-provider-kafka-0-10_2.12;3.0.1!spark-token-provider-kafka-0-10_2.12.jar (153ms)\n",
      "downloading https://repo1.maven.org/maven2/org/apache/kafka/kafka-clients/2.4.1/kafka-clients-2.4.1.jar ...\n",
      "\t[SUCCESSFUL ] org.apache.kafka#kafka-clients;2.4.1!kafka-clients.jar (1071ms)\n",
      "downloading https://repo1.maven.org/maven2/org/apache/commons/commons-pool2/2.6.2/commons-pool2-2.6.2.jar ...\n",
      "\t[SUCCESSFUL ] org.apache.commons#commons-pool2;2.6.2!commons-pool2.jar (164ms)\n",
      "downloading https://repo1.maven.org/maven2/org/spark-project/spark/unused/1.0.0/unused-1.0.0.jar ...\n",
      "\t[SUCCESSFUL ] org.spark-project.spark#unused;1.0.0!unused.jar (147ms)\n",
      "downloading https://repo1.maven.org/maven2/com/github/luben/zstd-jni/1.4.4-3/zstd-jni-1.4.4-3.jar ...\n",
      "\t[SUCCESSFUL ] com.github.luben#zstd-jni;1.4.4-3!zstd-jni.jar (2521ms)\n",
      "downloading https://repo1.maven.org/maven2/org/lz4/lz4-java/1.7.1/lz4-java-1.7.1.jar ...\n",
      "\t[SUCCESSFUL ] org.lz4#lz4-java;1.7.1!lz4-java.jar (346ms)\n",
      "downloading https://repo1.maven.org/maven2/org/xerial/snappy/snappy-java/1.1.7.5/snappy-java-1.1.7.5.jar ...\n",
      "\t[SUCCESSFUL ] org.xerial.snappy#snappy-java;1.1.7.5!snappy-java.jar(bundle) (669ms)\n",
      "downloading https://repo1.maven.org/maven2/org/slf4j/slf4j-api/1.7.30/slf4j-api-1.7.30.jar ...\n",
      "\t[SUCCESSFUL ] org.slf4j#slf4j-api;1.7.30!slf4j-api.jar (151ms)\n",
      ":: resolution report :: resolve 13595ms :: artifacts dl 5592ms\n",
      "\t:: modules in use:\n",
      "\tcom.github.luben#zstd-jni;1.4.4-3 from central in [default]\n",
      "\torg.apache.commons#commons-pool2;2.6.2 from central in [default]\n",
      "\torg.apache.kafka#kafka-clients;2.4.1 from central in [default]\n",
      "\torg.apache.spark#spark-sql-kafka-0-10_2.12;3.0.1 from central in [default]\n",
      "\torg.apache.spark#spark-token-provider-kafka-0-10_2.12;3.0.1 from central in [default]\n",
      "\torg.lz4#lz4-java;1.7.1 from central in [default]\n",
      "\torg.slf4j#slf4j-api;1.7.30 from central in [default]\n",
      "\torg.spark-project.spark#unused;1.0.0 from central in [default]\n",
      "\torg.xerial.snappy#snappy-java;1.1.7.5 from central in [default]\n",
      "\t---------------------------------------------------------------------\n",
      "\t|                  |            modules            ||   artifacts   |\n",
      "\t|       conf       | number| search|dwnlded|evicted|| number|dwnlded|\n",
      "\t---------------------------------------------------------------------\n",
      "\t|      default     |   9   |   9   |   9   |   0   ||   9   |   9   |\n",
      "\t---------------------------------------------------------------------\n",
      "\n",
      ":: problems summary ::\n",
      ":::: ERRORS\n",
      "\tunknown resolver null\n",
      "\n",
      "\tunknown resolver null\n",
      "\n",
      "\tunknown resolver null\n",
      "\n",
      "\tunknown resolver null\n",
      "\n",
      "\n",
      ":: USE VERBOSE OR DEBUG MESSAGE LEVEL FOR MORE DETAILS\n",
      ":: retrieving :: org.apache.spark#spark-submit-parent-c38ec09b-f57f-4e9e-a632-ea05dc96f3b3\n",
      "\tconfs: [default]\n",
      "\t9 artifacts copied, 0 already retrieved (10393kB/54ms)\n",
      "2024-10-08 23:00:11,224 WARN util.NativeCodeLoader: Unable to load native-hadoop library for your platform... using builtin-java classes where applicable\n",
      "Setting default log level to \"WARN\".\n",
      "To adjust logging level use sc.setLogLevel(newLevel). For SparkR, use setLogLevel(newLevel).\n"
     ]
    }
   ],
   "source": [
    "from pyspark.sql import SparkSession\n",
    "\n",
    "spark = SparkSession. \\\n",
    "    builder. \\\n",
    "    config('spark.jars.packages', 'org.apache.spark:spark-sql-kafka-0-10_2.12:3.0.1'). \\\n",
    "    config('spark.sql.warehouse.dir', '/user/local/spark/warehouse'). \\\n",
    "    enableHiveSupport(). \\\n",
    "    appName('Python - Integracion de Kafka y Spark'). \\\n",
    "    getOrCreate()"
   ]
  },
  {
   "cell_type": "code",
   "execution_count": 5,
   "id": "b04bce3d-34ca-4f9a-b9ce-f5e08868c48b",
   "metadata": {
    "tags": []
   },
   "outputs": [],
   "source": [
    "kafka_bootstrap_servers = 'localhost:9092'"
   ]
  },
  {
   "cell_type": "code",
   "execution_count": 6,
   "id": "33be2403-2668-4817-ac51-39b6d1106691",
   "metadata": {
    "tags": []
   },
   "outputs": [],
   "source": [
    "df = spark. \\\n",
    "  readStream. \\\n",
    "  format('kafka'). \\\n",
    "  option('kafka.bootstrap.servers', kafka_bootstrap_servers). \\\n",
    "  option('subscribe', 'retaildg'). \\\n",
    "  load()"
   ]
  },
  {
   "cell_type": "code",
   "execution_count": 7,
   "id": "5aa71e17-1d34-4686-a5d7-96a7f06dbe42",
   "metadata": {
    "tags": []
   },
   "outputs": [],
   "source": [
    "from pyspark.sql.functions import date_format, to_date, split, substring"
   ]
  },
  {
   "cell_type": "code",
   "execution_count": 8,
   "id": "6d923393-759b-4a85-922d-9f56e3c775ff",
   "metadata": {
    "tags": []
   },
   "outputs": [
    {
     "data": {
      "text/plain": [
       "<pyspark.sql.streaming.StreamingQuery at 0x7fd5a405d048>"
      ]
     },
     "execution_count": 8,
     "metadata": {},
     "output_type": "execute_result"
    },
    {
     "name": "stderr",
     "output_type": "stream",
     "text": [
      "                                                                                \r"
     ]
    }
   ],
   "source": [
    "df.selectExpr(\"CAST(value AS STRING)\"). \\\n",
    "    withColumn('log_date', to_date(substring(split('value', ' ')[3], 2, 21), '[dd/MMM/yyyy:HH:mm:ss')). \\\n",
    "    withColumn('year', date_format('log_date', 'yyyy')). \\\n",
    "    withColumn('month', date_format('log_date', 'MM')). \\\n",
    "    withColumn('dayofmonth', date_format('log_date', 'dd')). \\\n",
    "    writeStream. \\\n",
    "    partitionBy('year', 'month', 'dayofmonth'). \\\n",
    "    format('csv'). \\\n",
    "    option(\"checkpointLocation\", '/proyecto/kafka/retail_logs/gen_logs/checkpoint'). \\\n",
    "    option('path', '/proyecto/kafka/retail_logs/gen_logs/data'). \\\n",
    "    option('header', True). \\\n",
    "    option('sep', '\\t'). \\\n",
    "    trigger(processingTime='30 seconds'). \\\n",
    "    start()"
   ]
  },
  {
   "cell_type": "code",
   "execution_count": 9,
   "id": "72932813-c417-4c5c-bf7a-9da03a3a8a70",
   "metadata": {
    "tags": []
   },
   "outputs": [
    {
     "name": "stderr",
     "output_type": "stream",
     "text": [
      "                                                                                \r"
     ]
    },
    {
     "name": "stdout",
     "output_type": "stream",
     "text": [
      "Found 2 items\n",
      "drwxr-xr-x   - root supergroup          0 2024-10-08 23:01 /proyecto/kafka/retail_logs/gen_logs/checkpoint\n",
      "drwxr-xr-x   - root supergroup          0 2024-10-08 23:01 /proyecto/kafka/retail_logs/gen_logs/data\n"
     ]
    }
   ],
   "source": [
    "!hdfs dfs -ls /proyecto/kafka/retail_logs/gen_logs"
   ]
  },
  {
   "cell_type": "code",
   "execution_count": 10,
   "id": "3dab3732-ec48-428c-81b6-152d26d36aee",
   "metadata": {
    "tags": []
   },
   "outputs": [
    {
     "name": "stdout",
     "output_type": "stream",
     "text": [
      "drwxr-xr-x   - root supergroup          0 2024-10-08 23:02 /proyecto/kafka/retail_logs/gen_logs/data/_spark_metadata\n",
      "-rw-r--r--   3 root supergroup          2 2024-10-08 23:01 /proyecto/kafka/retail_logs/gen_logs/data/_spark_metadata/0\n",
      "-rw-r--r--   3 root supergroup        839 2024-10-08 23:01 /proyecto/kafka/retail_logs/gen_logs/data/_spark_metadata/1\n",
      "-rw-r--r--   3 root supergroup        842 2024-10-08 23:02 /proyecto/kafka/retail_logs/gen_logs/data/_spark_metadata/2\n",
      "drwxr-xr-x   - root supergroup          0 2024-10-08 23:01 /proyecto/kafka/retail_logs/gen_logs/data/year=2024\n",
      "drwxr-xr-x   - root supergroup          0 2024-10-08 23:01 /proyecto/kafka/retail_logs/gen_logs/data/year=2024/month=10\n",
      "drwxr-xr-x   - root supergroup          0 2024-10-08 23:02 /proyecto/kafka/retail_logs/gen_logs/data/year=2024/month=10/dayofmonth=08\n",
      "-rw-r--r--   3 root supergroup        685 2024-10-08 23:01 /proyecto/kafka/retail_logs/gen_logs/data/year=2024/month=10/dayofmonth=08/part-00000-66f42a44-f551-4375-a677-4ac3533a3027.c000.csv\n",
      "-rw-r--r--   3 root supergroup       1925 2024-10-08 23:02 /proyecto/kafka/retail_logs/gen_logs/data/year=2024/month=10/dayofmonth=08/part-00000-672514c0-ded6-42ef-a910-07cdef063591.c000.csv\n",
      "-rw-r--r--   3 root supergroup        428 2024-10-08 23:01 /proyecto/kafka/retail_logs/gen_logs/data/year=2024/month=10/dayofmonth=08/part-00001-8dea4af0-69c1-4f71-8ca4-ebca7ae65fad.c000.csv\n",
      "-rw-r--r--   3 root supergroup       2125 2024-10-08 23:02 /proyecto/kafka/retail_logs/gen_logs/data/year=2024/month=10/dayofmonth=08/part-00001-99ffd0dd-3484-4c04-8cfc-b077224cf9e3.c000.csv\n",
      "-rw-r--r--   3 root supergroup       1896 2024-10-08 23:02 /proyecto/kafka/retail_logs/gen_logs/data/year=2024/month=10/dayofmonth=08/part-00002-d7f48250-d46a-4395-a79a-ab36260b99b5.c000.csv\n",
      "-rw-r--r--   3 root supergroup        469 2024-10-08 23:01 /proyecto/kafka/retail_logs/gen_logs/data/year=2024/month=10/dayofmonth=08/part-00002-f2405594-9ce9-42d9-9813-81e81d8c1b91.c000.csv\n"
     ]
    }
   ],
   "source": [
    "!hdfs dfs -ls -R /proyecto/kafka/retail_logs/gen_logs/data"
   ]
  },
  {
   "cell_type": "code",
   "execution_count": 11,
   "id": "24bb0f6e-45ef-423e-960d-d5c4eabb3d5d",
   "metadata": {
    "tags": []
   },
   "outputs": [
    {
     "name": "stdout",
     "output_type": "stream",
     "text": [
      "Found 4 items\n",
      "drwxr-xr-x   - root supergroup          0 2024-10-08 23:02 /proyecto/kafka/retail_logs/gen_logs/checkpoint/commits\n",
      "-rw-r--r--   3 root supergroup         45 2024-10-08 23:01 /proyecto/kafka/retail_logs/gen_logs/checkpoint/metadata\n",
      "drwxr-xr-x   - root supergroup          0 2024-10-08 23:02 /proyecto/kafka/retail_logs/gen_logs/checkpoint/offsets\n",
      "drwxr-xr-x   - root supergroup          0 2024-10-08 23:01 /proyecto/kafka/retail_logs/gen_logs/checkpoint/sources\n"
     ]
    }
   ],
   "source": [
    "!hdfs dfs -ls /proyecto/kafka/retail_logs/gen_logs/checkpoint"
   ]
  },
  {
   "cell_type": "code",
   "execution_count": 12,
   "id": "c805b6ff-dbb3-40e4-871d-8dbcd19821b6",
   "metadata": {
    "tags": []
   },
   "outputs": [
    {
     "name": "stdout",
     "output_type": "stream",
     "text": [
      "drwxr-xr-x   - root supergroup          0 2024-10-08 23:01 /proyecto/kafka/retail_logs/gen_logs/checkpoint/sources/0\n",
      "-rw-r--r--   3 root supergroup         42 2024-10-08 23:01 /proyecto/kafka/retail_logs/gen_logs/checkpoint/sources/0/0\n"
     ]
    }
   ],
   "source": [
    "!hdfs dfs -ls -R /proyecto/kafka/retail_logs/gen_logs/checkpoint/sources"
   ]
  },
  {
   "cell_type": "code",
   "execution_count": 14,
   "id": "777d8317-1e79-462d-bd6e-f0677c371bfd",
   "metadata": {
    "tags": []
   },
   "outputs": [
    {
     "name": "stdout",
     "output_type": "stream",
     "text": [
      "\u0000v1\n",
      "{\"retaildg\":{\"2\":187,\"1\":131,\"0\":138}}"
     ]
    },
    {
     "name": "stderr",
     "output_type": "stream",
     "text": [
      "                                                                                \r"
     ]
    }
   ],
   "source": [
    "!hdfs dfs -cat /proyecto/kafka/retail_logs/gen_logs/checkpoint/sources/0/0"
   ]
  },
  {
   "cell_type": "code",
   "execution_count": 15,
   "id": "be70af52-4694-4084-be4f-011708fea05a",
   "metadata": {
    "tags": []
   },
   "outputs": [
    {
     "name": "stdout",
     "output_type": "stream",
     "text": [
      "-rw-r--r--   3 root supergroup        495 2024-10-08 23:01 /proyecto/kafka/retail_logs/gen_logs/checkpoint/offsets/0\n",
      "-rw-r--r--   3 root supergroup        495 2024-10-08 23:01 /proyecto/kafka/retail_logs/gen_logs/checkpoint/offsets/1\n",
      "-rw-r--r--   3 root supergroup        495 2024-10-08 23:02 /proyecto/kafka/retail_logs/gen_logs/checkpoint/offsets/2\n",
      "-rw-r--r--   3 root supergroup        495 2024-10-08 23:02 /proyecto/kafka/retail_logs/gen_logs/checkpoint/offsets/3\n",
      "-rw-r--r--   3 root supergroup        495 2024-10-08 23:03 /proyecto/kafka/retail_logs/gen_logs/checkpoint/offsets/4\n",
      "-rw-r--r--   3 root supergroup        495 2024-10-08 23:03 /proyecto/kafka/retail_logs/gen_logs/checkpoint/offsets/5\n"
     ]
    }
   ],
   "source": [
    "!hdfs dfs -ls -R /proyecto/kafka/retail_logs/gen_logs/checkpoint/offsets"
   ]
  },
  {
   "cell_type": "code",
   "execution_count": 17,
   "id": "c66c8f73-fcca-4e60-a829-8784b48c960e",
   "metadata": {
    "tags": []
   },
   "outputs": [
    {
     "name": "stdout",
     "output_type": "stream",
     "text": [
      "v1\n",
      "{\"batchWatermarkMs\":0,\"batchTimestampMs\":1728428486756,\"conf\":{\"spark.sql.streaming.stateStore.providerClass\":\"org.apache.spark.sql.execution.streaming.state.HDFSBackedStateStoreProvider\",\"spark.sql.streaming.join.stateFormatVersion\":\"2\",\"spark.sql.streaming.flatMapGroupsWithState.stateFormatVersion\":\"2\",\"spark.sql.streaming.multipleWatermarkPolicy\":\"min\",\"spark.sql.streaming.aggregation.stateFormatVersion\":\"2\",\"spark.sql.shuffle.partitions\":\"200\"}}\n",
      "{\"retaildg\":{\"2\":187,\"1\":131,\"0\":138}}"
     ]
    }
   ],
   "source": [
    "!hdfs dfs -cat /proyecto/kafka/retail_logs/gen_logs/checkpoint/offsets/0"
   ]
  },
  {
   "cell_type": "code",
   "execution_count": 18,
   "id": "4fa8beba-9fc3-46bf-a75e-9a8e23908314",
   "metadata": {
    "tags": []
   },
   "outputs": [
    {
     "name": "stdout",
     "output_type": "stream",
     "text": [
      "v1\n",
      "{\"batchWatermarkMs\":0,\"batchTimestampMs\":1728428492929,\"conf\":{\"spark.sql.streaming.stateStore.providerClass\":\"org.apache.spark.sql.execution.streaming.state.HDFSBackedStateStoreProvider\",\"spark.sql.streaming.join.stateFormatVersion\":\"2\",\"spark.sql.streaming.flatMapGroupsWithState.stateFormatVersion\":\"2\",\"spark.sql.streaming.multipleWatermarkPolicy\":\"min\",\"spark.sql.streaming.aggregation.stateFormatVersion\":\"2\",\"spark.sql.shuffle.partitions\":\"200\"}}\n",
      "{\"retaildg\":{\"2\":189,\"1\":134,\"0\":140}}"
     ]
    }
   ],
   "source": [
    "!hdfs dfs -cat /proyecto/kafka/retail_logs/gen_logs/checkpoint/offsets/1"
   ]
  },
  {
   "cell_type": "code",
   "execution_count": 19,
   "id": "dcdf4e82-7be4-4bbf-b978-2c5b93b42f8c",
   "metadata": {
    "tags": []
   },
   "outputs": [
    {
     "name": "stdout",
     "output_type": "stream",
     "text": [
      "v1\n",
      "{\"batchWatermarkMs\":0,\"batchTimestampMs\":1728428520039,\"conf\":{\"spark.sql.streaming.stateStore.providerClass\":\"org.apache.spark.sql.execution.streaming.state.HDFSBackedStateStoreProvider\",\"spark.sql.streaming.join.stateFormatVersion\":\"2\",\"spark.sql.streaming.flatMapGroupsWithState.stateFormatVersion\":\"2\",\"spark.sql.streaming.multipleWatermarkPolicy\":\"min\",\"spark.sql.streaming.aggregation.stateFormatVersion\":\"2\",\"spark.sql.shuffle.partitions\":\"200\"}}\n",
      "{\"retaildg\":{\"2\":197,\"1\":143,\"0\":150}}"
     ]
    },
    {
     "name": "stderr",
     "output_type": "stream",
     "text": [
      "                                                                                \r"
     ]
    }
   ],
   "source": [
    "!hdfs dfs -cat /proyecto/kafka/retail_logs/gen_logs/checkpoint/offsets/2"
   ]
  },
  {
   "cell_type": "code",
   "execution_count": 20,
   "id": "9c442f6a-5f22-44b4-9d2c-8ecd3941fd89",
   "metadata": {
    "tags": []
   },
   "outputs": [
    {
     "name": "stdout",
     "output_type": "stream",
     "text": [
      "v1\n",
      "{\"batchWatermarkMs\":0,\"batchTimestampMs\":1728428550009,\"conf\":{\"spark.sql.streaming.stateStore.providerClass\":\"org.apache.spark.sql.execution.streaming.state.HDFSBackedStateStoreProvider\",\"spark.sql.streaming.join.stateFormatVersion\":\"2\",\"spark.sql.streaming.flatMapGroupsWithState.stateFormatVersion\":\"2\",\"spark.sql.streaming.multipleWatermarkPolicy\":\"min\",\"spark.sql.streaming.aggregation.stateFormatVersion\":\"2\",\"spark.sql.shuffle.partitions\":\"200\"}}\n",
      "{\"retaildg\":{\"2\":206,\"1\":153,\"0\":161}}"
     ]
    }
   ],
   "source": [
    "!hdfs dfs -cat /proyecto/kafka/retail_logs/gen_logs/checkpoint/offsets/3"
   ]
  },
  {
   "cell_type": "code",
   "execution_count": 21,
   "id": "555f381e-deda-4df8-837b-4f3a81ebbf19",
   "metadata": {
    "tags": []
   },
   "outputs": [
    {
     "name": "stdout",
     "output_type": "stream",
     "text": [
      "v1\n",
      "{\"batchWatermarkMs\":0,\"batchTimestampMs\":1728428580011,\"conf\":{\"spark.sql.streaming.stateStore.providerClass\":\"org.apache.spark.sql.execution.streaming.state.HDFSBackedStateStoreProvider\",\"spark.sql.streaming.join.stateFormatVersion\":\"2\",\"spark.sql.streaming.flatMapGroupsWithState.stateFormatVersion\":\"2\",\"spark.sql.streaming.multipleWatermarkPolicy\":\"min\",\"spark.sql.streaming.aggregation.stateFormatVersion\":\"2\",\"spark.sql.shuffle.partitions\":\"200\"}}\n",
      "{\"retaildg\":{\"2\":215,\"1\":162,\"0\":173}}"
     ]
    }
   ],
   "source": [
    "!hdfs dfs -cat /proyecto/kafka/retail_logs/gen_logs/checkpoint/offsets/4"
   ]
  },
  {
   "cell_type": "code",
   "execution_count": 26,
   "id": "869021e9-5eb7-4ae9-a16f-8b1ffa0ab4df",
   "metadata": {
    "tags": []
   },
   "outputs": [
    {
     "name": "stdout",
     "output_type": "stream",
     "text": [
      "drwxr-xr-x   - root supergroup          0 2024-10-08 23:07 /proyecto/kafka/retail_logs/gen_logs/data/_spark_metadata\n",
      "-rw-r--r--   3 root supergroup          2 2024-10-08 23:01 /proyecto/kafka/retail_logs/gen_logs/data/_spark_metadata/0\n",
      "-rw-r--r--   3 root supergroup        839 2024-10-08 23:01 /proyecto/kafka/retail_logs/gen_logs/data/_spark_metadata/1\n",
      "-rw-r--r--   3 root supergroup        842 2024-10-08 23:06 /proyecto/kafka/retail_logs/gen_logs/data/_spark_metadata/10\n",
      "-rw-r--r--   3 root supergroup        842 2024-10-08 23:06 /proyecto/kafka/retail_logs/gen_logs/data/_spark_metadata/11\n",
      "-rw-r--r--   3 root supergroup        842 2024-10-08 23:07 /proyecto/kafka/retail_logs/gen_logs/data/_spark_metadata/12\n",
      "-rw-r--r--   3 root supergroup        842 2024-10-08 23:02 /proyecto/kafka/retail_logs/gen_logs/data/_spark_metadata/2\n",
      "-rw-r--r--   3 root supergroup        842 2024-10-08 23:02 /proyecto/kafka/retail_logs/gen_logs/data/_spark_metadata/3\n",
      "-rw-r--r--   3 root supergroup        842 2024-10-08 23:03 /proyecto/kafka/retail_logs/gen_logs/data/_spark_metadata/4\n",
      "-rw-r--r--   3 root supergroup        842 2024-10-08 23:03 /proyecto/kafka/retail_logs/gen_logs/data/_spark_metadata/5\n",
      "-rw-r--r--   3 root supergroup        842 2024-10-08 23:04 /proyecto/kafka/retail_logs/gen_logs/data/_spark_metadata/6\n",
      "-rw-r--r--   3 root supergroup        842 2024-10-08 23:04 /proyecto/kafka/retail_logs/gen_logs/data/_spark_metadata/7\n",
      "-rw-r--r--   3 root supergroup        842 2024-10-08 23:05 /proyecto/kafka/retail_logs/gen_logs/data/_spark_metadata/8\n",
      "-rw-r--r--   3 root supergroup       7559 2024-10-08 23:05 /proyecto/kafka/retail_logs/gen_logs/data/_spark_metadata/9.compact\n",
      "drwxr-xr-x   - root supergroup          0 2024-10-08 23:01 /proyecto/kafka/retail_logs/gen_logs/data/year=2024\n",
      "drwxr-xr-x   - root supergroup          0 2024-10-08 23:01 /proyecto/kafka/retail_logs/gen_logs/data/year=2024/month=10\n",
      "drwxr-xr-x   - root supergroup          0 2024-10-08 23:07 /proyecto/kafka/retail_logs/gen_logs/data/year=2024/month=10/dayofmonth=08\n",
      "-rw-r--r--   3 root supergroup       2326 2024-10-08 23:06 /proyecto/kafka/retail_logs/gen_logs/data/year=2024/month=10/dayofmonth=08/part-00000-06a08052-17a7-4abe-9c2a-ecdc0c127336.c000.csv\n",
      "-rw-r--r--   3 root supergroup       2481 2024-10-08 23:02 /proyecto/kafka/retail_logs/gen_logs/data/year=2024/month=10/dayofmonth=08/part-00000-0a52ac6e-c23b-4236-9edd-62608dce367e.c000.csv\n",
      "-rw-r--r--   3 root supergroup       1775 2024-10-08 23:05 /proyecto/kafka/retail_logs/gen_logs/data/year=2024/month=10/dayofmonth=08/part-00000-1cc40fd6-6107-4965-b559-5ec9661d1716.c000.csv\n",
      "-rw-r--r--   3 root supergroup        685 2024-10-08 23:01 /proyecto/kafka/retail_logs/gen_logs/data/year=2024/month=10/dayofmonth=08/part-00000-66f42a44-f551-4375-a677-4ac3533a3027.c000.csv\n",
      "-rw-r--r--   3 root supergroup       1925 2024-10-08 23:02 /proyecto/kafka/retail_logs/gen_logs/data/year=2024/month=10/dayofmonth=08/part-00000-672514c0-ded6-42ef-a910-07cdef063591.c000.csv\n",
      "-rw-r--r--   3 root supergroup       3070 2024-10-08 23:06 /proyecto/kafka/retail_logs/gen_logs/data/year=2024/month=10/dayofmonth=08/part-00000-74acebc1-fec2-4447-bae3-a12ec16b1b87.c000.csv\n",
      "-rw-r--r--   3 root supergroup       3041 2024-10-08 23:03 /proyecto/kafka/retail_logs/gen_logs/data/year=2024/month=10/dayofmonth=08/part-00000-8b505f9d-a61d-4f3e-a8f5-b8481bdef1e5.c000.csv\n",
      "-rw-r--r--   3 root supergroup       1522 2024-10-08 23:04 /proyecto/kafka/retail_logs/gen_logs/data/year=2024/month=10/dayofmonth=08/part-00000-a7ba1271-8225-41ee-95e9-e9e7af103df0.c000.csv\n",
      "-rw-r--r--   3 root supergroup       2173 2024-10-08 23:07 /proyecto/kafka/retail_logs/gen_logs/data/year=2024/month=10/dayofmonth=08/part-00000-b099374a-19b9-4ad1-aa69-08b99fcf9f0d.c000.csv\n",
      "-rw-r--r--   3 root supergroup       2377 2024-10-08 23:04 /proyecto/kafka/retail_logs/gen_logs/data/year=2024/month=10/dayofmonth=08/part-00000-ba4a82fd-7c90-45e5-b1d7-a07896886941.c000.csv\n",
      "-rw-r--r--   3 root supergroup       2647 2024-10-08 23:03 /proyecto/kafka/retail_logs/gen_logs/data/year=2024/month=10/dayofmonth=08/part-00000-d0a8c194-909a-4fb3-8f84-d230e93c9772.c000.csv\n",
      "-rw-r--r--   3 root supergroup       2402 2024-10-08 23:05 /proyecto/kafka/retail_logs/gen_logs/data/year=2024/month=10/dayofmonth=08/part-00000-db2947aa-5e3d-46f1-84c9-7519bbf78011.c000.csv\n",
      "-rw-r--r--   3 root supergroup       2573 2024-10-08 23:05 /proyecto/kafka/retail_logs/gen_logs/data/year=2024/month=10/dayofmonth=08/part-00001-0ee71aca-2806-4ccc-8806-e4f545ddcb46.c000.csv\n",
      "-rw-r--r--   3 root supergroup       2134 2024-10-08 23:07 /proyecto/kafka/retail_logs/gen_logs/data/year=2024/month=10/dayofmonth=08/part-00001-2b5386ab-bc5e-4a9e-8cc4-2ac28f6473cf.c000.csv\n",
      "-rw-r--r--   3 root supergroup       2461 2024-10-08 23:06 /proyecto/kafka/retail_logs/gen_logs/data/year=2024/month=10/dayofmonth=08/part-00001-2e81848d-1ada-4235-a69c-6b389daf699b.c000.csv\n",
      "-rw-r--r--   3 root supergroup       1819 2024-10-08 23:02 /proyecto/kafka/retail_logs/gen_logs/data/year=2024/month=10/dayofmonth=08/part-00001-3271e649-3a03-42c0-a37d-3af300c2d1a1.c000.csv\n",
      "-rw-r--r--   3 root supergroup       1900 2024-10-08 23:03 /proyecto/kafka/retail_logs/gen_logs/data/year=2024/month=10/dayofmonth=08/part-00001-37fb2f22-b5ed-4f68-8fd4-a4e4df2e951a.c000.csv\n",
      "-rw-r--r--   3 root supergroup       2522 2024-10-08 23:04 /proyecto/kafka/retail_logs/gen_logs/data/year=2024/month=10/dayofmonth=08/part-00001-6618acde-17b8-4c2f-a5c8-a4e1ce434015.c000.csv\n",
      "-rw-r--r--   3 root supergroup        428 2024-10-08 23:01 /proyecto/kafka/retail_logs/gen_logs/data/year=2024/month=10/dayofmonth=08/part-00001-8dea4af0-69c1-4f71-8ca4-ebca7ae65fad.c000.csv\n",
      "-rw-r--r--   3 root supergroup       2125 2024-10-08 23:02 /proyecto/kafka/retail_logs/gen_logs/data/year=2024/month=10/dayofmonth=08/part-00001-99ffd0dd-3484-4c04-8cfc-b077224cf9e3.c000.csv\n",
      "-rw-r--r--   3 root supergroup       1702 2024-10-08 23:03 /proyecto/kafka/retail_logs/gen_logs/data/year=2024/month=10/dayofmonth=08/part-00001-abd4f931-7194-4557-bfb1-239951039488.c000.csv\n",
      "-rw-r--r--   3 root supergroup       2833 2024-10-08 23:05 /proyecto/kafka/retail_logs/gen_logs/data/year=2024/month=10/dayofmonth=08/part-00001-ba0ec482-c83c-48a5-926d-c63bb9f69114.c000.csv\n",
      "-rw-r--r--   3 root supergroup       2036 2024-10-08 23:06 /proyecto/kafka/retail_logs/gen_logs/data/year=2024/month=10/dayofmonth=08/part-00001-bf458453-d0ee-4ce6-ad12-e2993c88d166.c000.csv\n",
      "-rw-r--r--   3 root supergroup       2202 2024-10-08 23:04 /proyecto/kafka/retail_logs/gen_logs/data/year=2024/month=10/dayofmonth=08/part-00001-e88f0fa7-d8b1-4084-9a23-d50bf694c1fd.c000.csv\n",
      "-rw-r--r--   3 root supergroup       1976 2024-10-08 23:03 /proyecto/kafka/retail_logs/gen_logs/data/year=2024/month=10/dayofmonth=08/part-00002-23700e6c-8067-41f5-b79e-545ff3f39ffb.c000.csv\n",
      "-rw-r--r--   3 root supergroup       2257 2024-10-08 23:04 /proyecto/kafka/retail_logs/gen_logs/data/year=2024/month=10/dayofmonth=08/part-00002-28d4c23e-d2e7-43eb-91aa-f52e270c9049.c000.csv\n",
      "-rw-r--r--   3 root supergroup       1518 2024-10-08 23:05 /proyecto/kafka/retail_logs/gen_logs/data/year=2024/month=10/dayofmonth=08/part-00002-3ddd2f0e-143d-4aaf-8d9c-d9159e1051ec.c000.csv\n",
      "-rw-r--r--   3 root supergroup       1526 2024-10-08 23:06 /proyecto/kafka/retail_logs/gen_logs/data/year=2024/month=10/dayofmonth=08/part-00002-502b48bc-45d2-4345-8b7d-f30bd258de37.c000.csv\n",
      "-rw-r--r--   3 root supergroup       2018 2024-10-08 23:04 /proyecto/kafka/retail_logs/gen_logs/data/year=2024/month=10/dayofmonth=08/part-00002-5e201877-20ac-48b9-bb56-30986ca12535.c000.csv\n",
      "-rw-r--r--   3 root supergroup       2210 2024-10-08 23:07 /proyecto/kafka/retail_logs/gen_logs/data/year=2024/month=10/dayofmonth=08/part-00002-6a0f28d4-4f75-4b48-b116-fab6b18dfeb6.c000.csv\n",
      "-rw-r--r--   3 root supergroup       1737 2024-10-08 23:03 /proyecto/kafka/retail_logs/gen_logs/data/year=2024/month=10/dayofmonth=08/part-00002-bc5fdf29-4302-4937-8197-d1e27cf6ee0d.c000.csv\n",
      "-rw-r--r--   3 root supergroup       1929 2024-10-08 23:05 /proyecto/kafka/retail_logs/gen_logs/data/year=2024/month=10/dayofmonth=08/part-00002-d6ee7fa6-0664-4398-bd71-d9826fb86cff.c000.csv\n",
      "-rw-r--r--   3 root supergroup       1896 2024-10-08 23:02 /proyecto/kafka/retail_logs/gen_logs/data/year=2024/month=10/dayofmonth=08/part-00002-d7f48250-d46a-4395-a79a-ab36260b99b5.c000.csv\n",
      "-rw-r--r--   3 root supergroup       2095 2024-10-08 23:06 /proyecto/kafka/retail_logs/gen_logs/data/year=2024/month=10/dayofmonth=08/part-00002-e3773e38-125b-4151-974d-4b5b44fb071e.c000.csv\n",
      "-rw-r--r--   3 root supergroup        469 2024-10-08 23:01 /proyecto/kafka/retail_logs/gen_logs/data/year=2024/month=10/dayofmonth=08/part-00002-f2405594-9ce9-42d9-9813-81e81d8c1b91.c000.csv\n",
      "-rw-r--r--   3 root supergroup       2211 2024-10-08 23:02 /proyecto/kafka/retail_logs/gen_logs/data/year=2024/month=10/dayofmonth=08/part-00002-f5af928a-75cf-469e-8f4e-42c92ca801ea.c000.csv\n"
     ]
    },
    {
     "name": "stderr",
     "output_type": "stream",
     "text": [
      "                                                                                \r"
     ]
    }
   ],
   "source": [
    "!hdfs dfs -ls -R /proyecto/kafka/retail_logs/gen_logs/data"
   ]
  },
  {
   "cell_type": "code",
   "execution_count": 28,
   "id": "f13e9f41-ddbe-40dd-8ca9-d1744fcb6844",
   "metadata": {
    "tags": []
   },
   "outputs": [
    {
     "name": "stderr",
     "output_type": "stream",
     "text": [
      "                                                                                \r"
     ]
    }
   ],
   "source": [
    "df = spark.read.csv('/proyecto/kafka/retail_logs/gen_logs/data', sep='\\t', header=True)"
   ]
  },
  {
   "cell_type": "code",
   "execution_count": 30,
   "id": "3bf89b12-d63c-4fa6-9818-5cb1f2ad6610",
   "metadata": {
    "tags": []
   },
   "outputs": [
    {
     "name": "stdout",
     "output_type": "stream",
     "text": [
      "+--------------------------------------------------------------------------------------------------------------------------------------------------------------------------------------------------------------------------------+----------+----+-----+----------+\n",
      "|value                                                                                                                                                                                                                           |log_date  |year|month|dayofmonth|\n",
      "+--------------------------------------------------------------------------------------------------------------------------------------------------------------------------------------------------------------------------------+----------+----+-----+----------+\n",
      "|108.123.173.171 - - [08/Oct/2024:23:05:59 -0800] \"GET /add_to_cart/1250 HTTP/1.1\" 200 1785 \"-\" \"Mozilla/5.0 (Macintosh; Intel Mac OS X 10_9_4) AppleWebKit/537.36 (KHTML, like Gecko) Chrome/36.0.1985.125 Safari/537.36\"       |2024-10-08|2024|10   |8         |\n",
      "|165.157.227.51 - - [08/Oct/2024:23:06:01 -0800] \"GET /departments HTTP/1.1\" 200 1708 \"-\" \"Mozilla/5.0 (Windows NT 6.1; rv:30.0) Gecko/20100101 Firefox/30.0\"                                                                    |2024-10-08|2024|10   |8         |\n",
      "|205.214.21.201 - - [08/Oct/2024:23:06:03 -0800] \"GET /product/205 HTTP/1.1\" 200 1591 \"-\" \"Mozilla/5.0 (Windows NT 6.1; WOW64; rv:30.0) Gecko/20100101 Firefox/30.0\"                                                             |2024-10-08|2024|10   |8         |\n",
      "|169.189.221.202 - - [08/Oct/2024:23:06:05 -0800] \"GET /department/fan%20shop/categories HTTP/1.1\" 200 1238 \"-\" \"Mozilla/5.0 (Windows NT 6.1) AppleWebKit/537.36 (KHTML, like Gecko) Chrome/35.0.1916.153 Safari/537.36\"         |2024-10-08|2024|10   |8         |\n",
      "|215.55.93.194 - - [08/Oct/2024:23:06:07 -0800] \"GET /department/footwear/products HTTP/1.1\" 200 1098 \"-\" \"Mozilla/5.0 (Macintosh; Intel Mac OS X 10_9_4) AppleWebKit/537.77.4 (KHTML, like Gecko) Version/7.0.5 Safari/537.77.4\"|2024-10-08|2024|10   |8         |\n",
      "+--------------------------------------------------------------------------------------------------------------------------------------------------------------------------------------------------------------------------------+----------+----+-----+----------+\n",
      "only showing top 5 rows\n",
      "\n"
     ]
    }
   ],
   "source": [
    "df.show(5, truncate=False)"
   ]
  },
  {
   "cell_type": "code",
   "execution_count": 31,
   "id": "34a155fb-8f7b-4df4-96f7-ed4c78c9a7ab",
   "metadata": {
    "tags": []
   },
   "outputs": [
    {
     "name": "stdout",
     "output_type": "stream",
     "text": [
      "root\n",
      " |-- value: string (nullable = true)\n",
      " |-- log_date: string (nullable = true)\n",
      " |-- year: integer (nullable = true)\n",
      " |-- month: integer (nullable = true)\n",
      " |-- dayofmonth: integer (nullable = true)\n",
      "\n"
     ]
    }
   ],
   "source": [
    "df.printSchema()"
   ]
  }
 ],
 "metadata": {
  "kernelspec": {
   "display_name": "Pyspark 3",
   "language": "python",
   "name": "pyspark2"
  },
  "language_info": {
   "codemirror_mode": {
    "name": "ipython",
    "version": 3
   },
   "file_extension": ".py",
   "mimetype": "text/x-python",
   "name": "python",
   "nbconvert_exporter": "python",
   "pygments_lexer": "ipython3",
   "version": "3.7.3"
  }
 },
 "nbformat": 4,
 "nbformat_minor": 5
}
