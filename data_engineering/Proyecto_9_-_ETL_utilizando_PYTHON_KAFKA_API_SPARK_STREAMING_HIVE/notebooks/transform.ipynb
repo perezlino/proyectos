{
 "cells": [
  {
   "cell_type": "code",
   "execution_count": 1,
   "metadata": {
    "tags": []
   },
   "outputs": [],
   "source": [
    "from pyspark.sql import SparkSession\n",
    "from pyspark.sql.functions import from_json, col\n",
    "from pyspark.sql.types import StructType, StructField, StringType, DecimalType, DoubleType, IntegerType"
   ]
  },
  {
   "cell_type": "code",
   "execution_count": 2,
   "metadata": {
    "tags": []
   },
   "outputs": [
    {
     "name": "stderr",
     "output_type": "stream",
     "text": [
      "Warning: Ignoring non-Spark config property: hive.exec.dynamic.partition.mode\n",
      "Warning: Ignoring non-Spark config property: hive.exec.dynamic.partition\n",
      "2024-10-15 04:56:27,006 WARN util.NativeCodeLoader: Unable to load native-hadoop library for your platform... using builtin-java classes where applicable\n",
      "Setting default log level to \"WARN\".\n",
      "To adjust logging level use sc.setLogLevel(newLevel). For SparkR, use setLogLevel(newLevel).\n",
      "2024-10-15 04:56:40,174 WARN util.Utils: Service 'SparkUI' could not bind on port 4040. Attempting port 4041.\n"
     ]
    }
   ],
   "source": [
    "# Crear sesión de Spark con soporte para Hive\n",
    "spark = SparkSession \\\n",
    "    .builder \\\n",
    "    .appName(\"Transformar datos de staging a Hive\") \\\n",
    "    .master(\"local[*]\") \\\n",
    "    .config('spark.sql.warehouse.dir', '/user/local/spark/warehouse') \\\n",
    "    .config(\"hive.exec.dynamic.partition\", \"true\") \\\n",
    "    .config(\"hive.exec.dynamic.partition.mode\", \"nonstrict\") \\\n",
    "    .enableHiveSupport() \\\n",
    "    .getOrCreate()"
   ]
  },
  {
   "cell_type": "code",
   "execution_count": 8,
   "metadata": {
    "tags": []
   },
   "outputs": [],
   "source": [
    "# Definir schema para los datos raw\n",
    "schema = StructType([\n",
    "    StructField(\"BrandName\", StringType(), True),\n",
    "    StructField(\"DeviceType\", StringType(), True),\n",
    "    StructField(\"ModelName\", StringType(), True),\n",
    "    StructField(\"Color\", StringType(), True),\n",
    "    StructField(\"SellingPrice\", DecimalType(), True),\n",
    "    StructField(\"OriginalPrice\", DecimalType(), True),\n",
    "    StructField(\"Display\", StringType(), True),\n",
    "    StructField(\"Rating\", DoubleType(), True),\n",
    "    StructField(\"StrapMaterial\", StringType(), True),\n",
    "    StructField(\"AverageBatteryLifeInDays\", IntegerType(), True),\n",
    "    StructField(\"Reviews\", IntegerType(), True)\n",
    "])"
   ]
  },
  {
   "cell_type": "code",
   "execution_count": 9,
   "metadata": {
    "tags": []
   },
   "outputs": [],
   "source": [
    "# Leer datos raw con schema\n",
    "raw_df = spark.read.parquet(\"/datalake/staging\")"
   ]
  },
  {
   "cell_type": "code",
   "execution_count": 10,
   "metadata": {
    "tags": []
   },
   "outputs": [],
   "source": [
    "# Extraer la columna de valor como JSON y aplicar schema\n",
    "value_with_schema = raw_df.select(from_json(col(\"value\").cast(\"string\"), schema).alias(\"data\"))\n",
    "all_values = value_with_schema.select(\"data.*\")"
   ]
  },
  {
   "cell_type": "code",
   "execution_count": 14,
   "metadata": {
    "tags": []
   },
   "outputs": [],
   "source": [
    "# Escribir resultado en Hive\n",
    "all_values.write \\\n",
    "    .mode(\"append\") \\\n",
    "    .saveAsTable(\"result\")"
   ]
  },
  {
   "cell_type": "code",
   "execution_count": 15,
   "metadata": {
    "tags": []
   },
   "outputs": [
    {
     "name": "stdout",
     "output_type": "stream",
     "text": [
      "Found 4 items\n",
      "-rw-r--r--   3 root supergroup          0 2024-10-15 05:06 /user/hive/warehouse/result/_SUCCESS\n",
      "-rw-r--r--   3 root supergroup      13134 2024-10-15 05:06 /user/hive/warehouse/result/part-00000-154f7bc0-df49-46b5-928e-1308afa204c6-c000.snappy.parquet\n",
      "-rw-r--r--   3 root supergroup      13134 2024-10-15 05:05 /user/hive/warehouse/result/part-00000-426dd1f0-7b71-46b9-bf8b-674517a8ee6e-c000.snappy.parquet\n",
      "-rw-r--r--   3 root supergroup      13134 2024-10-15 05:06 /user/hive/warehouse/result/part-00000-892c003c-089d-43c7-9125-0fd89633101b-c000.snappy.parquet\n"
     ]
    }
   ],
   "source": [
    "# Verificar si la tabla fue guardada en HDFS\n",
    "! hdfs dfs -ls /user/hive/warehouse/result"
   ]
  },
  {
   "cell_type": "code",
   "execution_count": 17,
   "metadata": {
    "tags": []
   },
   "outputs": [
    {
     "name": "stdout",
     "output_type": "stream",
     "text": [
      "+---------+-----------+------------------------------+-------------------------------+------------+-------------+--------------+------+--------------------------+------------------------+-------+\n",
      "|BrandName|DeviceType |ModelName                     |Color                          |SellingPrice|OriginalPrice|Display       |Rating|StrapMaterial             |AverageBatteryLifeInDays|Reviews|\n",
      "+---------+-----------+------------------------------+-------------------------------+------------+-------------+--------------+------+--------------------------+------------------------+-------+\n",
      "|Xiaomi   |FitnessBand|Smart Band 5                  |Black                          |2499        |2999         |AMOLED Display|null  |Thermoplastic polyurethane|null                    |null   |\n",
      "|Xiaomi   |FitnessBand|Smart Band 4                  |Black                          |2099        |2499         |AMOLED Display|null  |Thermoplastic polyurethane|null                    |null   |\n",
      "|Xiaomi   |FitnessBand|HMSH01GE                      |Black                          |1722        |2099         |LCD Display   |null  |Leather                   |null                    |null   |\n",
      "|Xiaomi   |FitnessBand|Smart Band 5                  |Black                          |2469        |2999         |AMOLED Display|null  |Thermoplastic polyurethane|null                    |null   |\n",
      "|Xiaomi   |FitnessBand|Band 3                        |Black                          |1799        |2199         |OLED Display  |null  |Plastic                   |null                    |null   |\n",
      "|Xiaomi   |FitnessBand|Band - HRX Edition            |Black                          |1299        |1799         |OLED Display  |null  |Plastic                   |null                    |null   |\n",
      "|Xiaomi   |FitnessBand|Band 2                        |Black                          |2499        |2499         |OLED Display  |null  |Plastic                   |null                    |null   |\n",
      "|Xiaomi   |Smartwatch |Revolve                       |Black                          |12349       |15999        |AMOLED Display|null  |Silicone                  |null                    |null   |\n",
      "|Xiaomi   |Smartwatch |RevolveActive                 |Black                          |12999       |15999        |AMOLED Display|null  |Silicone                  |null                    |null   |\n",
      "|Xiaomi   |FitnessBand|Smart Band 3i                 |Black                          |1270        |1599         |OLED Display  |null  |Thermoplastic polyurethane|null                    |null   |\n",
      "|OnePlus  |FitnessBand|Steven Harrington Edition Band|Blue                           |3299        |3999         |AMOLED Display|null  |Thermoplastic polyurethane|null                    |null   |\n",
      "|OnePlus  |FitnessBand|Band                          |Dual Color                     |2499        |2799         |AMOLED Display|null  |Thermoplastic polyurethane|null                    |null   |\n",
      "|FitBit   |Smartwatch |Versa 2                       |Grey, Pink, Black              |11999       |14999        |AMOLED Display|null  |Silicone                  |null                    |null   |\n",
      "|FitBit   |Smartwatch |Sense                         |Black, Pink, Beige             |21499       |22999        |AMOLED Display|null  |Elastomer                 |null                    |null   |\n",
      "|FitBit   |Smartwatch |Versa 3                       |Black, Blue, Pink              |17999       |18999        |AMOLED Display|null  |Elastomer                 |null                    |null   |\n",
      "|FitBit   |FitnessBand|Charge 4                      |Storm Blue, Black, Rosewood    |9999        |9999         |PMOLED Display|null  |Elastomer                 |null                    |null   |\n",
      "|FitBit   |FitnessBand|Inspire                       |Maroon                         |7990        |7999         |LED Display   |null  |Silicone                  |null                    |null   |\n",
      "|FitBit   |FitnessBand|Inspire 2                     |Black, Desert Rose, Lunar White|6999        |7999         |PMOLED Display|null  |Thermoplastic polyurethane|null                    |null   |\n",
      "|FitBit   |FitnessBand|Lunar                         |White                          |10899       |10999        |AMOLED Display|null  |Silicone                  |null                    |null   |\n",
      "|FitBit   |FitnessBand|Charge 4                      |Granite Reflective             |10999       |11999        |PMOLED Display|null  |Elastomer                 |null                    |null   |\n",
      "+---------+-----------+------------------------------+-------------------------------+------------+-------------+--------------+------+--------------------------+------------------------+-------+\n",
      "only showing top 20 rows\n",
      "\n"
     ]
    }
   ],
   "source": [
    "# Visualizar la tabla\n",
    "spark.sql(\"SELECT * FROM default.result\").show(truncate=False)"
   ]
  }
 ],
 "metadata": {
  "kernelspec": {
   "display_name": "Pyspark 3",
   "language": "python",
   "name": "pyspark2"
  },
  "language_info": {
   "codemirror_mode": {
    "name": "ipython",
    "version": 3
   },
   "file_extension": ".py",
   "mimetype": "text/x-python",
   "name": "python",
   "nbconvert_exporter": "python",
   "pygments_lexer": "ipython3",
   "version": "3.7.3"
  }
 },
 "nbformat": 4,
 "nbformat_minor": 4
}
