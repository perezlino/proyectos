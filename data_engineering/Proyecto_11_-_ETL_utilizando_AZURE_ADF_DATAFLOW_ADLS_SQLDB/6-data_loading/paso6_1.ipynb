{
 "cells": [
  {
   "attachments": {},
   "cell_type": "markdown",
   "metadata": {},
   "source": [
    "## **`Paso 6.1`: Creación de un Linked Services con referencia hacia Azure SQL Database**"
   ]
  },
  {
   "cell_type": "markdown",
   "metadata": {},
   "source": [
    "### **1. Crear el Linked Service de destino `ls_sql_covid_db` que hace referencia hacia Azure SQL Database.**"
   ]
  },
  {
   "cell_type": "markdown",
   "metadata": {},
   "source": [
    "#### **Paso 1 - Crear un nuevo Linked Service**"
   ]
  },
  {
   "cell_type": "markdown",
   "metadata": {},
   "source": [
    "1. **Seleccionar la pestaña \"Manage\"**: En el menú de la izquierda dentro de tu Data Factory, haz clic en la pestaña **Manage** (Administrar).\n",
    "2. **Seleccionar \"Linked services\"**: En el panel de Manage, haz clic en **Linked services**.\n",
    "3. **Hacer clic en \"+ New\"**: En la parte superior, selecciona el botón **+ New** para crear un nuevo Linked Service."
   ]
  },
  {
   "cell_type": "markdown",
   "metadata": {},
   "source": [
    "[![p631.png](https://i.postimg.cc/YS963jvn/p631.png)](https://postimg.cc/JsfH7rcZ)\n",
    "[![p1101.png](https://i.postimg.cc/76w7gpZf/p1101.png)](https://postimg.cc/t1vYbvPj)"
   ]
  },
  {
   "cell_type": "markdown",
   "metadata": {},
   "source": [
    "#### **Paso 2 - Configurar el Linked Service**"
   ]
  },
  {
   "cell_type": "markdown",
   "metadata": {},
   "source": [
    "1. **Elegir tipo de Linked Service**: En la lista de opciones, busca y selecciona **Azure SQL Database** como el tipo de Linked Service.\n",
    "2. **Hacer clic en \"Continue\"**: Después de seleccionar **Azure SQL Database**, haz clic en **Continue** para continuar con la configuración."
   ]
  },
  {
   "cell_type": "markdown",
   "metadata": {},
   "source": [
    "[![p1102.png](https://i.postimg.cc/W38ZSXdS/p1102.png)](https://postimg.cc/wyt3j5cs)"
   ]
  },
  {
   "cell_type": "markdown",
   "metadata": {},
   "source": [
    "#### **Paso 3 - Configurar los detalles del Linked Service**"
   ]
  },
  {
   "cell_type": "markdown",
   "metadata": {},
   "source": [
    "1. **Nombre del Linked Service**: Proporciona un nombre único para tu Linked Service. En nuestro caso será `ls_sql_covid_db`.\n",
    "3. **Server name**: Selecciona `db-server-proyectos`.\n",
    "4. **Database name**: Selecciona `db_proyectos`.\n",
    "5. **Authentication type**: Selecciona `SQL authentication`.\n",
    "6. **User name**: Ingresa **dbadmin**.\n",
    "7. **Password**: Ingresa **Admin1234**.\n",
    "8. **Probar la conexión**: Haz clic en el botón **Test connection** (Probar conexión) para asegurarte de que la configuración es correcta. Debería mostrar un mensaje de éxito si todo está bien configurado.\n",
    "9. **Guardar el Linked Service**: Si la conexión se valida correctamente, haz clic en el botón **Create** (Crear) para guardar el Linked Service."
   ]
  },
  {
   "cell_type": "markdown",
   "metadata": {},
   "source": [
    "[![p1103.png](https://i.postimg.cc/Wz4kygrV/p1103.png)](https://postimg.cc/JD90DyPY)\n",
    "[![p1104.png](https://i.postimg.cc/DfCsXpkw/p1104.png)](https://postimg.cc/ThDp893z)"
   ]
  },
  {
   "cell_type": "markdown",
   "metadata": {},
   "source": [
    "#### **Paso 4: Verificar el Linked Service**"
   ]
  },
  {
   "cell_type": "markdown",
   "metadata": {},
   "source": [
    "1. **Revisar la lista de Linked Services**: Una vez creado, deberías ver tu nuevo Linked Service en la lista de Linked Services. Puedes hacer clic en él para revisar la configuración."
   ]
  },
  {
   "cell_type": "markdown",
   "metadata": {},
   "source": [
    "[![p1105.png](https://i.postimg.cc/zvPgYvSg/p1105.png)](https://postimg.cc/wRLvh6rq)"
   ]
  }
 ],
 "metadata": {
  "language_info": {
   "name": "python"
  },
  "orig_nbformat": 4
 },
 "nbformat": 4,
 "nbformat_minor": 2
}
