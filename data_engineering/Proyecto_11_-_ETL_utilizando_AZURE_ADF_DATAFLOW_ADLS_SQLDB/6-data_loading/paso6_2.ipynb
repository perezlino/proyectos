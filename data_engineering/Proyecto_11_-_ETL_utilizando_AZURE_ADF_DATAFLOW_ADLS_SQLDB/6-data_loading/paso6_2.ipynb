{
 "cells": [
  {
   "attachments": {},
   "cell_type": "markdown",
   "metadata": {},
   "source": [
    "## **`Paso 6.2`: Creación de Datasets de destino para cargar archivos obtenidos en la transformación de datos**"
   ]
  },
  {
   "cell_type": "markdown",
   "metadata": {},
   "source": [
    "### **1. Crear el Dataset de destino `ds_sql_cases_and_deaths` que hará referencia a la tabla `covid_reporting.cases_and_deaths` en Azure SQL Database**"
   ]
  },
  {
   "cell_type": "markdown",
   "metadata": {},
   "source": [
    "#### **Paso 1: Crear un nuevo dataset**"
   ]
  },
  {
   "cell_type": "markdown",
   "metadata": {},
   "source": [
    "1. **Seleccionar la pestaña \"Author\"**: En el menú de la izquierda dentro de tu Data Factory, haz clic en la pestaña **Author** (Autor).\n",
    "2. **Seleccionar \"Datasets\"**: En el panel de **Author**, haz clic en **Datasets**.\n",
    "3. **Hacer clic en los tres puntos**: Junto a la opción **Datasets**, haz clic en los tres puntos (más opciones).\n",
    "4. **Seleccionar \"New dataset\"**: En el menú desplegable, selecciona **New dataset** para crear un nuevo dataset."
   ]
  },
  {
   "cell_type": "markdown",
   "metadata": {},
   "source": [
    "[![p649.png](https://i.postimg.cc/hG2qkZP4/p649.png)](https://postimg.cc/XZBhF8Ct)\n",
    "[![p1106.png](https://i.postimg.cc/kgNgxD6v/p1106.png)](https://postimg.cc/MnTww6Yn)"
   ]
  },
  {
   "cell_type": "markdown",
   "metadata": {},
   "source": [
    "#### **Paso 2: Configurar el nuevo dataset**"
   ]
  },
  {
   "cell_type": "markdown",
   "metadata": {},
   "source": [
    "1. **Elegir tipo de dataset**: En la ventana de selección, busca y selecciona **Azure SQL Database** como el tipo de datastore.\n",
    "2. **Hacer clic en \"Continue\"**: Después de seleccionar **Azure SQL Database**, haz clic en **Continue** para proceder."
   ]
  },
  {
   "cell_type": "markdown",
   "metadata": {},
   "source": [
    "[![p1107.png](https://i.postimg.cc/LX54KTyx/p1107.png)](https://postimg.cc/xJrVLKVm)"
   ]
  },
  {
   "cell_type": "markdown",
   "metadata": {},
   "source": [
    "#### **Paso 3: Configurar las propiedades del dataset**"
   ]
  },
  {
   "cell_type": "markdown",
   "metadata": {},
   "source": [
    "1. **Nombre del dataset**: En el campo de nombre, ingresa `ds_sql_cases_and_deaths`.\n",
    "2. **Linked Service**: En el menú desplegable, selecciona el Linked Service que creaste previamente, `ls_sql_covid_db`.\n",
    "3. **Table name**: Indiquemos el nombre de la tabla `covid_reporting.cases_and_deaths`.\n",
    "5. **Import schema**: Selecciona **From connection/store** para no importar un schema.\n",
    "6. **Guardar el dataset**: Haz clic en el botón **OK** para almacenar el nuevo dataset."
   ]
  },
  {
   "cell_type": "markdown",
   "metadata": {},
   "source": [
    "[![p1108.png](https://i.postimg.cc/LXW9H1w2/p1108.png)](https://postimg.cc/62dJcyBm)"
   ]
  },
  {
   "cell_type": "markdown",
   "metadata": {},
   "source": [
    "#### **Paso 4: Verificar el dataset**"
   ]
  },
  {
   "cell_type": "markdown",
   "metadata": {},
   "source": [
    "1. **Revisar la lista de datasets**: Deberías ver tu nuevo dataset `ds_sql_cases_and_deaths` en la lista de datasets. Puedes hacer clic en él para revisar su configuración."
   ]
  },
  {
   "cell_type": "markdown",
   "metadata": {},
   "source": [
    "[![p1109.png](https://i.postimg.cc/FK9sGm05/p1109.png)](https://postimg.cc/9DnhF6xJ)\n",
    "[![p1110.png](https://i.postimg.cc/xdtj47Pk/p1110.png)](https://postimg.cc/4KHTKWqZ)"
   ]
  },
  {
   "cell_type": "markdown",
   "metadata": {},
   "source": [
    "### **2. Crear el Dataset de destino `ds_sql_hospital_admissions_daily` que hará referencia a la tabla `covid_reporting.hospital_admissions_daily` en Azure SQL Database**"
   ]
  },
  {
   "cell_type": "markdown",
   "metadata": {},
   "source": [
    "#### **Paso 1: Crear un nuevo dataset**"
   ]
  },
  {
   "cell_type": "markdown",
   "metadata": {},
   "source": [
    "1. **Seleccionar la pestaña \"Author\"**: En el menú de la izquierda dentro de tu Data Factory, haz clic en la pestaña **Author** (Autor).\n",
    "2. **Seleccionar \"Datasets\"**: En el panel de **Author**, haz clic en **Datasets**.\n",
    "3. **Hacer clic en los tres puntos**: Junto a la opción **Datasets**, haz clic en los tres puntos (más opciones).\n",
    "4. **Seleccionar \"New dataset\"**: En el menú desplegable, selecciona **New dataset** para crear un nuevo dataset."
   ]
  },
  {
   "cell_type": "markdown",
   "metadata": {},
   "source": [
    "[![p649.png](https://i.postimg.cc/hG2qkZP4/p649.png)](https://postimg.cc/XZBhF8Ct)\n",
    "[![p1111.png](https://i.postimg.cc/zDpMRNGH/p1111.png)](https://postimg.cc/jCwvGGNR)"
   ]
  },
  {
   "cell_type": "markdown",
   "metadata": {},
   "source": [
    "#### **Paso 2: Configurar el nuevo dataset**"
   ]
  },
  {
   "cell_type": "markdown",
   "metadata": {},
   "source": [
    "1. **Elegir tipo de dataset**: En la ventana de selección, busca y selecciona **Azure SQL Database** como el tipo de datastore.\n",
    "2. **Hacer clic en \"Continue\"**: Después de seleccionar **Azure SQL Database**, haz clic en **Continue** para proceder."
   ]
  },
  {
   "cell_type": "markdown",
   "metadata": {},
   "source": [
    "[![p1112.png](https://i.postimg.cc/P5vFc8z1/p1112.png)](https://postimg.cc/87DHfcYC)"
   ]
  },
  {
   "cell_type": "markdown",
   "metadata": {},
   "source": [
    "#### **Paso 3: Configurar las propiedades del dataset**"
   ]
  },
  {
   "cell_type": "markdown",
   "metadata": {},
   "source": [
    "1. **Nombre del dataset**: En el campo de nombre, ingresa `ds_sql_hospital_admissions_daily`.\n",
    "2. **Linked Service**: En el menú desplegable, selecciona el Linked Service que creaste previamente, `ls_sql_covid_db`.\n",
    "3. **Table name**: Indiquemos el nombre de la tabla `covid_reporting.hospital_admissions_daily`.\n",
    "5. **Import schema**: Selecciona **From connection/store** para no importar un schema.\n",
    "6. **Guardar el dataset**: Haz clic en el botón **OK** para almacenar el nuevo dataset."
   ]
  },
  {
   "cell_type": "markdown",
   "metadata": {},
   "source": [
    "[![p1113.png](https://i.postimg.cc/d08NQPf1/p1113.png)](https://postimg.cc/sBg4K8sd)"
   ]
  },
  {
   "cell_type": "markdown",
   "metadata": {},
   "source": [
    "#### **Paso 4: Verificar el dataset**"
   ]
  },
  {
   "cell_type": "markdown",
   "metadata": {},
   "source": [
    "1. **Revisar la lista de datasets**: Deberías ver tu nuevo dataset `ds_sql_cases_and_deaths` en la lista de datasets. Puedes hacer clic en él para revisar su configuración."
   ]
  },
  {
   "cell_type": "markdown",
   "metadata": {},
   "source": [
    "[![p1114.png](https://i.postimg.cc/28KK2xvz/p1114.png)](https://postimg.cc/7fS9L0mc)\n",
    "[![p1115.png](https://i.postimg.cc/43CFTNBq/p1115.png)](https://postimg.cc/w1VkXHKQ)"
   ]
  },
  {
   "cell_type": "markdown",
   "metadata": {},
   "source": [
    "### **3. Crear el Dataset de destino `ds_sql_hospital_admissions_weekly` que hará referencia a la tabla `covid_reporting.hospital_admissions_weekly` en Azure SQL Database**"
   ]
  },
  {
   "cell_type": "markdown",
   "metadata": {},
   "source": [
    "#### **Paso 1: Crear un nuevo dataset**"
   ]
  },
  {
   "cell_type": "markdown",
   "metadata": {},
   "source": [
    "1. **Seleccionar la pestaña \"Author\"**: En el menú de la izquierda dentro de tu Data Factory, haz clic en la pestaña **Author** (Autor).\n",
    "2. **Seleccionar \"Datasets\"**: En el panel de **Author**, haz clic en **Datasets**.\n",
    "3. **Hacer clic en los tres puntos**: Junto a la opción **Datasets**, haz clic en los tres puntos (más opciones).\n",
    "4. **Seleccionar \"New dataset\"**: En el menú desplegable, selecciona **New dataset** para crear un nuevo dataset."
   ]
  },
  {
   "cell_type": "markdown",
   "metadata": {},
   "source": [
    "[![p649.png](https://i.postimg.cc/hG2qkZP4/p649.png)](https://postimg.cc/XZBhF8Ct)\n",
    "[![p1116.png](https://i.postimg.cc/bYMx5V6F/p1116.png)](https://postimg.cc/3WX041Qg)"
   ]
  },
  {
   "cell_type": "markdown",
   "metadata": {},
   "source": [
    "#### **Paso 2: Configurar el nuevo dataset**"
   ]
  },
  {
   "cell_type": "markdown",
   "metadata": {},
   "source": [
    "1. **Elegir tipo de dataset**: En la ventana de selección, busca y selecciona **Azure SQL Database** como el tipo de datastore.\n",
    "2. **Hacer clic en \"Continue\"**: Después de seleccionar **Azure SQL Database**, haz clic en **Continue** para proceder."
   ]
  },
  {
   "cell_type": "markdown",
   "metadata": {},
   "source": [
    "[![p1117.png](https://i.postimg.cc/R0MKtkFq/p1117.png)](https://postimg.cc/9DnD5Nyj)"
   ]
  },
  {
   "cell_type": "markdown",
   "metadata": {},
   "source": [
    "#### **Paso 3: Configurar las propiedades del dataset**"
   ]
  },
  {
   "cell_type": "markdown",
   "metadata": {},
   "source": [
    "1. **Nombre del dataset**: En el campo de nombre, ingresa `ds_sql_hospital_admissions_daily`.\n",
    "2. **Linked Service**: En el menú desplegable, selecciona el Linked Service que creaste previamente, `ls_sql_covid_db`.\n",
    "3. **Table name**: Indiquemos el nombre de la tabla `covid_reporting.hospital_admissions_daily`.\n",
    "5. **Import schema**: Selecciona **From connection/store** para no importar un schema.\n",
    "6. **Guardar el dataset**: Haz clic en el botón **OK** para almacenar el nuevo dataset."
   ]
  },
  {
   "cell_type": "markdown",
   "metadata": {},
   "source": [
    "[![p1118.png](https://i.postimg.cc/CxpjhBpG/p1118.png)](https://postimg.cc/Vd4S4N6v)"
   ]
  },
  {
   "cell_type": "markdown",
   "metadata": {},
   "source": [
    "#### **Paso 4: Verificar el dataset**"
   ]
  },
  {
   "cell_type": "markdown",
   "metadata": {},
   "source": [
    "1. **Revisar la lista de datasets**: Deberías ver tu nuevo dataset `ds_sql_cases_and_deaths` en la lista de datasets. Puedes hacer clic en él para revisar su configuración."
   ]
  },
  {
   "cell_type": "markdown",
   "metadata": {},
   "source": [
    "[![p1119.png](https://i.postimg.cc/Mp01v6zh/p1119.png)](https://postimg.cc/v4B4Kdgz)\n",
    "[![p1120.png](https://i.postimg.cc/qM3sHcSB/p1120.png)](https://postimg.cc/56fYwzfD)"
   ]
  }
 ],
 "metadata": {
  "language_info": {
   "name": "python"
  },
  "orig_nbformat": 4
 },
 "nbformat": 4,
 "nbformat_minor": 2
}
