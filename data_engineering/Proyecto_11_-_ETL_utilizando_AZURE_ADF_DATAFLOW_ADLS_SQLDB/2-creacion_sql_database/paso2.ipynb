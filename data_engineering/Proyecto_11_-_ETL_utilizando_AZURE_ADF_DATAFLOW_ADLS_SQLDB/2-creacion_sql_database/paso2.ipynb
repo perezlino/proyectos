{
 "cells": [
  {
   "cell_type": "markdown",
   "metadata": {},
   "source": [
    "## **`Paso 2`: Creación del recurso Azure SQL Database**"
   ]
  },
  {
   "cell_type": "markdown",
   "metadata": {},
   "source": [
    "### **2.1 - Crear un recurso de SQL Database**"
   ]
  },
  {
   "cell_type": "markdown",
   "metadata": {},
   "source": [
    "1. En el menú del portal, selecciona **Crear un recurso**.\n",
    "2. Busca **SQL Database** y selecciona la opción.\n",
    "3. Haz clic en **Crear**."
   ]
  },
  {
   "cell_type": "markdown",
   "metadata": {},
   "source": [
    "[![p1082.png](https://i.postimg.cc/Y9d7dWMQ/p1082.png)](https://postimg.cc/Vr0265SN)\n",
    "[![p1083.png](https://i.postimg.cc/8P2SXDQX/p1083.png)](https://postimg.cc/Ln3whcsj)"
   ]
  },
  {
   "cell_type": "markdown",
   "metadata": {},
   "source": [
    "### **2.2 - Configurar la base de datos**"
   ]
  },
  {
   "cell_type": "markdown",
   "metadata": {},
   "source": [
    "1. **Suscripción**: Selecciona la suscripción donde deseas crear la base de datos.\n",
    "2. **Grupo de recursos**: Puedes seleccionar un grupo de recursos existente o crear uno nuevo. Selecciona `rg-proyectos` que creamos anteriormente.\n",
    "3. **Nombre de la base de datos**: Escribe un nombre único para tu base de datos. Le di el nombre de `db_proyectos`.\n",
    "4. **Seleccionar el servidor**: \n",
    "   - Si ya tienes un servidor SQL creado, selecciona uno de la lista.\n",
    "   - Si no tienes un servidor, haz clic en **Crear nuevo**.\n",
    "     - Proporciona un nombre para el servidor. Le di el nombre de `db-server-proyectos`.\n",
    "     - Elige una ubicación (región) para el servidor. Para mi subscripción de estudiante no me permitió elegir **East US**, por lo tanto, elegi `Central US`.\n",
    "     - Configura el nombre de usuario y la contraseña del administrador del servidor. El usuario es **dbadmin** y la contraseña **Admin1234**."
   ]
  },
  {
   "cell_type": "markdown",
   "metadata": {},
   "source": [
    "[![p1084.png](https://i.postimg.cc/nVwZ7BdJ/p1084.png)](https://postimg.cc/7b7prG8s)\n",
    "[![p1085.png](https://i.postimg.cc/C5tggpZ1/p1085.png)](https://postimg.cc/T5rSVSJM)\n",
    "[![p1086.png](https://i.postimg.cc/J4D8Q0gB/p1086.png)](https://postimg.cc/MvSg66zW)"
   ]
  },
  {
   "cell_type": "markdown",
   "metadata": {},
   "source": [
    "### **2.3 - Configurar el nivel de rendimiento**"
   ]
  },
  {
   "cell_type": "markdown",
   "metadata": {},
   "source": [
    "1. **Seleccionar un plan**: En la sección **Compute + storage**, elige el tipo de plan que deseas.\n",
    "\n",
    "   - Puedes seleccionar entre opciones como **Basic**, **Standard** o **Premium** según tus necesidades.\n",
    "2. **Configurar el almacenamiento**: Ajusta el almacenamiento según los requisitos de tu aplicación."
   ]
  },
  {
   "cell_type": "markdown",
   "metadata": {},
   "source": [
    "[![p1087.png](https://i.postimg.cc/Bn2GdyJS/p1087.png)](https://postimg.cc/75PczKCd)\n",
    "[![p1088.png](https://i.postimg.cc/7LVrL2Cj/p1088.png)](https://postimg.cc/GBH579xj)\n",
    "[![p1089.png](https://i.postimg.cc/BvsGsgvx/p1089.png)](https://postimg.cc/hXCY1VTj)"
   ]
  },
  {
   "cell_type": "markdown",
   "metadata": {},
   "source": [
    "### **2.4 - Configuraciones adicionales (opcional)**"
   ]
  },
  {
   "cell_type": "markdown",
   "metadata": {},
   "source": [
    "1. **Opciones de configuración**: Configura las opciones adicionales según sea necesario, como el cifrado, la supervisión, etc.\n",
    "2. **Firewall**: Asegúrate de configurar las reglas de firewall para permitir conexiones desde tu dirección IP o aplicaciones específicas."
   ]
  },
  {
   "cell_type": "markdown",
   "metadata": {},
   "source": [
    "[![p1090.png](https://i.postimg.cc/4d2C6RQ5/p1090.png)](https://postimg.cc/bDnFPMMD)\n",
    "[![p1091.png](https://i.postimg.cc/qRvV6vyq/p1091.png)](https://postimg.cc/KKwsdF9h)"
   ]
  },
  {
   "cell_type": "markdown",
   "metadata": {},
   "source": [
    "### **2.5 - Revisión y creación**"
   ]
  },
  {
   "cell_type": "markdown",
   "metadata": {},
   "source": [
    "1. Revisa todas las configuraciones que has realizado.\n",
    "2. Haz clic en **Crear** para iniciar el proceso de creación de la base de datos."
   ]
  },
  {
   "cell_type": "markdown",
   "metadata": {},
   "source": [
    "[![p1092.png](https://i.postimg.cc/yx2wGh53/p1092.png)](https://postimg.cc/K3rqkTmm)\n",
    "[![p1093.png](https://i.postimg.cc/2y1sT9Hf/p1093.png)](https://postimg.cc/2Lf9SGRH)\n",
    "[![p1094.png](https://i.postimg.cc/JzVfcqZ9/p1094.png)](https://postimg.cc/fJCqMYHK)"
   ]
  },
  {
   "cell_type": "markdown",
   "metadata": {},
   "source": [
    "### **2.6 - Acceso a la base de datos**"
   ]
  },
  {
   "cell_type": "markdown",
   "metadata": {},
   "source": [
    "1. Una vez creada la base de datos, puedes acceder a ella desde el panel de Azure.\n",
    "2. Para conectarte a la base de datos, utiliza herramientas como **SQL Server Management Studio** (SSMS) o **Azure Data Studio** con las credenciales de administrador que proporcionaste al crear el servidor."
   ]
  },
  {
   "cell_type": "markdown",
   "metadata": {},
   "source": [
    "[![p1095.png](https://i.postimg.cc/sf8d1yXf/p1095.png)](https://postimg.cc/234XXshg)\n",
    "[![p1096.png](https://i.postimg.cc/JzN9TkQt/p1096.png)](https://postimg.cc/87CKcs9V)"
   ]
  },
  {
   "cell_type": "markdown",
   "metadata": {},
   "source": [
    "### **2.7 - Estructura de tablas que se deben crear**"
   ]
  },
  {
   "cell_type": "markdown",
   "metadata": {},
   "source": [
    "- Se creará un schema:\n",
    "    - **covid_reporting**\n",
    "\n",
    "- Se crearán las tablas:\n",
    "    - **covid_reporting.cases_and_deaths**\n",
    "    - **covid_reporting.hospital_admissions_weekly**\n",
    "    - **covid_reporting.hospital_admissions_daily**"
   ]
  },
  {
   "cell_type": "markdown",
   "metadata": {},
   "source": [
    "```sql\n",
    "CREATE SCHEMA covid_reporting\n",
    "GO\n",
    "\n",
    "CREATE TABLE covid_reporting.cases_and_deaths\n",
    "(\n",
    "    country                 VARCHAR(100),\n",
    "    country_code_2_digit    VARCHAR(2),\n",
    "    country_code_3_digit    VARCHAR(3),\n",
    "    population              BIGINT,\n",
    "    cases_count             BIGINT,\n",
    "    deaths_count            BIGINT,\n",
    "    reported_date           DATE,\n",
    "    source                  VARCHAR(500)\n",
    ")\n",
    "GO\n",
    "\n",
    "CREATE TABLE covid_reporting.hospital_admissions_weekly\n",
    "(\n",
    "    country                     VARCHAR(100),\n",
    "    country_code_2_digit        VARCHAR(2),\n",
    "    country_code_3_digit        VARCHAR(3),\n",
    "    population                  BIGINT,\n",
    "    reported_year_week          VARCHAR(20),\n",
    "    source                      VARCHAR(500),\n",
    "    reported_week_start         DATE,\n",
    "    reported_week_end           DATE,\n",
    "    hospital_occupancy_count    DECIMAL,\n",
    "    icu_occupancy_count         DECIMAL\n",
    "\n",
    ")\n",
    "GO\n",
    "\n",
    "CREATE TABLE covid_reporting.hospital_admissions_daily\n",
    "(\n",
    "    country                  VARCHAR(100),\n",
    "    country_code_2_digit     VARCHAR(2),\n",
    "    country_code_3_digit     VARCHAR(3),\n",
    "    population               BIGINT,\n",
    "    reported_date            DATE,\n",
    "    hospital_occupancy_count BIGINT,\n",
    "    icu_occupancy_count      BIGINT,\n",
    "    source                   VARCHAR(500)\n",
    ")\n",
    "GO\n",
    "```"
   ]
  },
  {
   "cell_type": "markdown",
   "metadata": {},
   "source": [
    "### **2.8 - Utilizar `Azure Data Studio` para crear tablas**"
   ]
  },
  {
   "cell_type": "markdown",
   "metadata": {},
   "source": [
    "[![p1097.png](https://i.postimg.cc/htQ9gLYP/p1097.png)](https://postimg.cc/18PgrqPL)\n",
    "[![p1099.png](https://i.postimg.cc/RCwR36cZ/p1099.png)](https://postimg.cc/0r2mFNWT)\n",
    "[![p1100.png](https://i.postimg.cc/Yq96DKfF/p1100.png)](https://postimg.cc/MXCfXLLZ)"
   ]
  }
 ],
 "metadata": {
  "language_info": {
   "name": "python"
  }
 },
 "nbformat": 4,
 "nbformat_minor": 2
}
