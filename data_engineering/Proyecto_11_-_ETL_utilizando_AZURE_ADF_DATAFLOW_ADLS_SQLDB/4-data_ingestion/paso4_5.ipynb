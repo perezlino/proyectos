{
 "cells": [
  {
   "attachments": {},
   "cell_type": "markdown",
   "metadata": {},
   "source": [
    "## **`Paso 4.5`: Creación de Datasets de origen y destino**"
   ]
  },
  {
   "cell_type": "markdown",
   "metadata": {},
   "source": [
    "### **1. Crear el Dataset de origen `ds_ecdc_raw_csv_http` que hace referencia al archivo parametrizado `@dataset().relativeURL`. Dicho valor del parámetro será indicado al momento de ejecutar el pipeline**"
   ]
  },
  {
   "cell_type": "markdown",
   "metadata": {},
   "source": [
    "#### **Paso 1: Crear un nuevo dataset**"
   ]
  },
  {
   "cell_type": "markdown",
   "metadata": {},
   "source": [
    "1. **Seleccionar la pestaña \"Author\"**: En el menú de la izquierda dentro de tu Data Factory, haz clic en la pestaña **Author** (Autor).\n",
    "2. **Seleccionar \"Datasets\"**: En el panel de **Author**, haz clic en **Datasets**.\n",
    "3. **Hacer clic en los tres puntos**: Junto a la opción **Datasets**, haz clic en los tres puntos (más opciones).\n",
    "4. **Seleccionar \"New dataset\"**: En el menú desplegable, selecciona **New dataset** para crear un nuevo dataset."
   ]
  },
  {
   "cell_type": "markdown",
   "metadata": {},
   "source": [
    "[![p743.png](https://i.postimg.cc/26Z4n5zc/p743.png)](https://postimg.cc/R6v6B4JK)\n",
    "[![p780.png](https://i.postimg.cc/DzSbYWnc/p780.png)](https://postimg.cc/Mc8Tnpcc)"
   ]
  },
  {
   "cell_type": "markdown",
   "metadata": {},
   "source": [
    "#### **Paso 2: Configurar el nuevo dataset**"
   ]
  },
  {
   "cell_type": "markdown",
   "metadata": {},
   "source": [
    "1. **Elegir tipo de dataset**: En la ventana de selección, busca y selecciona `HTTP` como el tipo de datastore.\n",
    "2. **Hacer clic en \"Continue\"**: Después de seleccionar HTTP, haz clic en **Continue** para proceder."
   ]
  },
  {
   "cell_type": "markdown",
   "metadata": {},
   "source": [
    "[![p781.png](https://i.postimg.cc/4dtHsrK7/p781.png)](https://postimg.cc/HcYktv9d)"
   ]
  },
  {
   "cell_type": "markdown",
   "metadata": {},
   "source": [
    "#### **Paso 3: Configurar el formato del dataset**"
   ]
  },
  {
   "cell_type": "markdown",
   "metadata": {},
   "source": [
    "1. **Seleccionar el formato**: En el campo de selección de formato, elige `DelimitedText`.\n",
    "2. **Hacer clic en \"Continue\"**: Después de seleccionar el formato, haz clic en **Continue**."
   ]
  },
  {
   "cell_type": "markdown",
   "metadata": {},
   "source": [
    "[![p782.png](https://i.postimg.cc/PJjpx2Z6/p782.png)](https://postimg.cc/XGs71KsF)"
   ]
  },
  {
   "cell_type": "markdown",
   "metadata": {},
   "source": [
    "#### **Paso 4: Configurar las propiedades del dataset**"
   ]
  },
  {
   "cell_type": "markdown",
   "metadata": {},
   "source": [
    "1. **Nombre del dataset**: En el campo de nombre, ingresa `ds_ecdc_raw_csv_http`.\n",
    "2. **Linked Service**: En el menú desplegable, selecciona el Linked Service que creaste previamente, `ls_http_opendata_ecdc_europa_eu`.\n",
    "3. **Relative URL**: Indica `perezlino/data_fake/raw/main/adf2/cases_deaths.csv`.\n",
    "4. **First row as header**: Activa la casilla.\n",
    "5. **Import schema**: Selecciona `None` para no importar un schema.\n",
    "6. **Guardar el dataset**: Haz clic en el botón **OK** para almacenar el nuevo dataset."
   ]
  },
  {
   "cell_type": "markdown",
   "metadata": {},
   "source": [
    "[![p783.png](https://i.postimg.cc/kGvVtKv7/p783.png)](https://postimg.cc/sG1fkBLL)"
   ]
  },
  {
   "cell_type": "markdown",
   "metadata": {},
   "source": [
    "#### **Paso 5: Parametrizar el dataset**"
   ]
  },
  {
   "cell_type": "markdown",
   "metadata": {},
   "source": [
    "1. **Revisar la lista de datasets**: Deberías ver tu nuevo dataset `ds_ecdc_raw_csv_http` en la lista de datasets. Puedes hacer clic en él para revisar su configuración.\n",
    "2. **Crear el parámetro**: Creamos el parámetro a nivel de dataset `relativeURL` que será del tipo string.\n",
    "2. **Relative URL**: Agregamos el parámetro a nivel de dataset `@dataset().relativeURL`."
   ]
  },
  {
   "cell_type": "markdown",
   "metadata": {},
   "source": [
    "[![p785.png](https://i.postimg.cc/xjvN7VDB/p785.png)](https://postimg.cc/yWNNg5NT)\n",
    "[![p784.png](https://i.postimg.cc/pd3nN2dM/p784.png)](https://postimg.cc/qtX7yHn1)\n",
    "[![p786.png](https://i.postimg.cc/tCDZqdg5/p786.png)](https://postimg.cc/YhGq8WYG)\n",
    "[![p787.png](https://i.postimg.cc/5NfQWKfy/p787.png)](https://postimg.cc/G9SmkQ8n)"
   ]
  },
  {
   "cell_type": "markdown",
   "metadata": {},
   "source": [
    "### **2. Crear el Dataset de destino `ds_ecdc_raw_csv_dl` que hace referencia al archivo parametrizado `@dataset().fileName` (que aún no existe, pero se creará de manera automática al ejecutar el pipeline) de nuestro ADLS, que se almacenará en la ruta `raw/ecdc`. Siendo `raw` el contenedor y `ecdc` el directorio**"
   ]
  },
  {
   "cell_type": "markdown",
   "metadata": {},
   "source": [
    "#### **Paso 1: Crear un nuevo dataset**"
   ]
  },
  {
   "cell_type": "markdown",
   "metadata": {},
   "source": [
    "1. **Seleccionar la pestaña \"Author\"**: En el menú de la izquierda dentro de tu Data Factory, haz clic en la pestaña **Author** (Autor).\n",
    "2. **Seleccionar \"Datasets\"**: En el panel de **Author**, haz clic en **Datasets**.\n",
    "3. **Hacer clic en los tres puntos**: Junto a la opción **Datasets**, haz clic en los tres puntos (más opciones).\n",
    "4. **Seleccionar \"New dataset\"**: En el menú desplegable, selecciona **New dataset** para crear un nuevo dataset."
   ]
  },
  {
   "cell_type": "markdown",
   "metadata": {},
   "source": [
    "[![p743.png](https://i.postimg.cc/26Z4n5zc/p743.png)](https://postimg.cc/R6v6B4JK)\n",
    "[![p788.png](https://i.postimg.cc/cCzJ3h8y/p788.png)](https://postimg.cc/0KpxRpfc)"
   ]
  },
  {
   "cell_type": "markdown",
   "metadata": {},
   "source": [
    "#### **Paso 2: Configurar el nuevo dataset**"
   ]
  },
  {
   "cell_type": "markdown",
   "metadata": {},
   "source": [
    "1. **Elegir tipo de dataset**: En la ventana de selección, busca y selecciona `Azure Data Lake Storage Gen2` como el tipo de datastore.\n",
    "2. **Hacer clic en \"Continue\"**: Después de seleccionar `Azure Data Lake Storage Gen2`, haz clic en **Continue** para proceder."
   ]
  },
  {
   "cell_type": "markdown",
   "metadata": {},
   "source": [
    "[![p789.png](https://i.postimg.cc/pX9rHwg2/p789.png)](https://postimg.cc/crS07bxj)"
   ]
  },
  {
   "cell_type": "markdown",
   "metadata": {},
   "source": [
    "#### **Paso 3: Configurar el formato del dataset**"
   ]
  },
  {
   "cell_type": "markdown",
   "metadata": {},
   "source": [
    "1. **Seleccionar el formato**: En el campo de selección de formato, elige `DelimitedText`.\n",
    "2. **Hacer clic en \"Continue\"**: Después de seleccionar el formato, haz clic en **Continue**."
   ]
  },
  {
   "cell_type": "markdown",
   "metadata": {},
   "source": [
    "[![p790.png](https://i.postimg.cc/rFvmFhk5/p790.png)](https://postimg.cc/1frPvr4z)"
   ]
  },
  {
   "cell_type": "markdown",
   "metadata": {},
   "source": [
    "#### **Paso 4: Configurar las propiedades del dataset**"
   ]
  },
  {
   "cell_type": "markdown",
   "metadata": {},
   "source": [
    "- Crearemos un nuevo dataset **ds_ecdc_raw_csv_dl**, que hará referencia hacia nuestro ADLS y esta vez tendrá un formato de tipo `DelimitedText`. Hara referencia al archivo `cases_deaths.csv` (que no existe aún) que se almacenará en el contenedor `raw` y en el directorio `ecdc` (tampoco existe aún). No importaremos el schema, dado que el archivo aún no existe, no tiene datos."
   ]
  },
  {
   "cell_type": "markdown",
   "metadata": {},
   "source": [
    "1. **Nombre del dataset**: En el campo de nombre, ingresa `ds_ecdc_raw_csv_dl`.\n",
    "2. **Linked Service**: En el menú desplegable, selecciona el Linked Service que creaste previamente, `ls_adls_covidreportingdl`.\n",
    "3. **File path**: Indiquemos la ruta `raw/ecdc` e ingresa `cases_deaths.csv`.\n",
    "5. **Import schema**: Selecciona `None` para no importar un schema.\n",
    "6. **Guardar el dataset**: Haz clic en el botón **OK** para almacenar el nuevo dataset."
   ]
  },
  {
   "cell_type": "markdown",
   "metadata": {},
   "source": [
    "[![p791.png](https://i.postimg.cc/P5j49nq7/p791.png)](https://postimg.cc/RNgKJ8K1)"
   ]
  },
  {
   "cell_type": "markdown",
   "metadata": {},
   "source": [
    "#### **Paso 5: Parametrizar el dataset**"
   ]
  },
  {
   "cell_type": "markdown",
   "metadata": {},
   "source": [
    "1. **Revisar la lista de datasets**: Deberías ver tu nuevo dataset `ds_ecdc_raw_csv_dl` en la lista de datasets. Puedes hacer clic en él para revisar su configuración.\n",
    "2. **Crear el parámetro**: Creamos el parámetro a nivel de dataset `fileName` que será del tipo string. Esto dado que no solo ingestaremos el archivo `case_deaths.csv`, si no, otros archivos tales como: `hospital_admissions.csv`, `testing.csv` y `country_response.csv`.\n",
    "2. **Relative URL**: Agregamos el parámetro a nivel de dataset `@dataset().fileName`."
   ]
  },
  {
   "cell_type": "markdown",
   "metadata": {},
   "source": [
    "[![p792.png](https://i.postimg.cc/0y0fqXMy/p792.png)](https://postimg.cc/68TRr0fk)\n",
    "[![p793.png](https://i.postimg.cc/q7BGBcyX/p793.png)](https://postimg.cc/sM8Wwhnv)\n",
    "[![p794.png](https://i.postimg.cc/BvhBj8CW/p794.png)](https://postimg.cc/McQQ4p4t)\n",
    "[![p795.png](https://i.postimg.cc/nzCYBHdX/p795.png)](https://postimg.cc/8Jg6VVgG)\n",
    "[![p796.png](https://i.postimg.cc/ZR2PL1gV/p796.png)](https://postimg.cc/zbwRzPqg)"
   ]
  }
 ],
 "metadata": {
  "language_info": {
   "name": "python"
  },
  "orig_nbformat": 4
 },
 "nbformat": 4,
 "nbformat_minor": 2
}
