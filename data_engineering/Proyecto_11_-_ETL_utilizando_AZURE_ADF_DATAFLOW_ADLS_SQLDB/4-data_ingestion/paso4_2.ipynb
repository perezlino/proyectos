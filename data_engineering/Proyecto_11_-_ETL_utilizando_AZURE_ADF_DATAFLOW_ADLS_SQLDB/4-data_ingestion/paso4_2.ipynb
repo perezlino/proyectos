{
 "cells": [
  {
   "attachments": {},
   "cell_type": "markdown",
   "metadata": {},
   "source": [
    "## **`Paso 4.2`: Creación de Datasets de origen y destino**"
   ]
  },
  {
   "cell_type": "markdown",
   "metadata": {},
   "source": [
    "### **1. Creación del Dataset de origen `ds_population_raw_gz`que hace referencia al archivo `population_by_age.tsv.gz` alojado en el contenedor `population` en Azure Blob Storage**"
   ]
  },
  {
   "cell_type": "markdown",
   "metadata": {},
   "source": [
    "#### **Paso 1: Crear un nuevo dataset**"
   ]
  },
  {
   "cell_type": "markdown",
   "metadata": {},
   "source": [
    "1. **Seleccionar la pestaña \"Author\"**: En el menú de la izquierda dentro de tu Data Factory, haz clic en la pestaña **Author** (Autor).\n",
    "2. **Seleccionar \"Datasets\"**: En el panel de **Author**, haz clic en **Datasets**.\n",
    "3. **Hacer clic en los tres puntos**: Junto a la opción **Datasets**, haz clic en los tres puntos (más opciones).\n",
    "4. **Seleccionar \"New dataset\"**: En el menú desplegable, selecciona **New dataset** para crear un nuevo dataset."
   ]
  },
  {
   "cell_type": "markdown",
   "metadata": {},
   "source": [
    "[![p743.png](https://i.postimg.cc/26Z4n5zc/p743.png)](https://postimg.cc/R6v6B4JK)\n",
    "[![p753.png](https://i.postimg.cc/g0kwY2XX/p753.png)](https://postimg.cc/rD3yjc9M)"
   ]
  },
  {
   "cell_type": "markdown",
   "metadata": {},
   "source": [
    "#### **Paso 2: Configurar el nuevo dataset**"
   ]
  },
  {
   "cell_type": "markdown",
   "metadata": {},
   "source": [
    "1. **Elegir tipo de dataset**: En la ventana de selección, busca y selecciona **Azure Blob Storage** como el tipo de datastore.\n",
    "2. **Hacer clic en \"Continue\"**: Después de seleccionar HTTP, haz clic en **Continue** para proceder."
   ]
  },
  {
   "cell_type": "markdown",
   "metadata": {},
   "source": [
    "[![p754.png](https://i.postimg.cc/1zC841wW/p754.png)](https://postimg.cc/8Fvpn3yW)"
   ]
  },
  {
   "cell_type": "markdown",
   "metadata": {},
   "source": [
    "#### **Paso 3: Configurar el formato del dataset**"
   ]
  },
  {
   "cell_type": "markdown",
   "metadata": {},
   "source": [
    "1. **Seleccionar el formato**: En el campo de selección de formato, elige **DelimitedText**.\n",
    "2. **Hacer clic en \"Continue\"**: Después de seleccionar el formato, haz clic en **Continue**."
   ]
  },
  {
   "cell_type": "markdown",
   "metadata": {},
   "source": [
    "[![p755.png](https://i.postimg.cc/5yvyPHGG/p755.png)](https://postimg.cc/1VmyXzyc)"
   ]
  },
  {
   "cell_type": "markdown",
   "metadata": {},
   "source": [
    "#### **Paso 4: Configurar las propiedades del dataset**"
   ]
  },
  {
   "cell_type": "markdown",
   "metadata": {},
   "source": [
    "1. **Nombre del dataset**: En el campo de nombre, ingresa `ds_population_raw_gz`.\n",
    "2. **Linked Service**: En el menú desplegable, selecciona el Linked Service que creaste previamente, `ls_ablob_covidreportingsa`.\n",
    "3. **File path**: Indica la ruta Indiquemos el contenedor `population` e ingresa `population_by_age.tsv.gz`.\n",
    "4. **First row as header**: Activa la casilla para indicar que la primera fila contiene los encabezados.\n",
    "5. **Import schema**: Selecciona **None** para no importar un schema.\n",
    "6. **Guardar el dataset**: Haz clic en el botón **OK** para almacenar el nuevo dataset."
   ]
  },
  {
   "cell_type": "markdown",
   "metadata": {},
   "source": [
    "[![p757.png](https://i.postimg.cc/JnStc3TZ/p757.png)](https://postimg.cc/phY2PjML)"
   ]
  },
  {
   "cell_type": "markdown",
   "metadata": {},
   "source": [
    "#### **Paso 5: Verificar el dataset**"
   ]
  },
  {
   "cell_type": "markdown",
   "metadata": {},
   "source": [
    "1. **Revisar la lista de datasets**: Deberías ver tu nuevo dataset `ds_population_raw_gz` en la lista de datasets. Puedes hacer clic en él para revisar su configuración.\n",
    "2. **Compression type**: Selecciona `gzip (.gz)`.\n",
    "3. **Compression level**: Selecciona `Optimal`.\n",
    "4. **Column delimiter**: Selecciona `Tab (\\t)`."
   ]
  },
  {
   "cell_type": "markdown",
   "metadata": {},
   "source": [
    "[![p758.png](https://i.postimg.cc/pVnmV7TZ/p758.png)](https://postimg.cc/SjkSDgc2)"
   ]
  },
  {
   "cell_type": "markdown",
   "metadata": {},
   "source": [
    "### 2. **Crear el Dataset de destino `ds_population_raw_tsv` que hará referencia al archivo `population_by_age.tsv` que será copiado en nuestro ADLS**"
   ]
  },
  {
   "cell_type": "markdown",
   "metadata": {},
   "source": [
    "#### **Paso 1: Crear un nuevo dataset**"
   ]
  },
  {
   "cell_type": "markdown",
   "metadata": {},
   "source": [
    "1. **Seleccionar la pestaña \"Author\"**: En el menú de la izquierda dentro de tu Data Factory, haz clic en la pestaña **Author** (Autor).\n",
    "2. **Seleccionar \"Datasets\"**: En el panel de **Author**, haz clic en **Datasets**.\n",
    "3. **Hacer clic en los tres puntos**: Junto a la opción **Datasets**, haz clic en los tres puntos (más opciones).\n",
    "4. **Seleccionar \"New dataset\"**: En el menú desplegable, selecciona **New dataset** para crear un nuevo dataset."
   ]
  },
  {
   "cell_type": "markdown",
   "metadata": {},
   "source": [
    "[![p743.png](https://i.postimg.cc/26Z4n5zc/p743.png)](https://postimg.cc/R6v6B4JK)\n",
    "[![p759.png](https://i.postimg.cc/Y96TbMRR/p759.png)](https://postimg.cc/FdKPKt2k)"
   ]
  },
  {
   "cell_type": "markdown",
   "metadata": {},
   "source": [
    "#### **Paso 2: Configurar el nuevo dataset**"
   ]
  },
  {
   "cell_type": "markdown",
   "metadata": {},
   "source": [
    "1. **Elegir tipo de dataset**: En la ventana de selección, busca y selecciona **Azure Data Lake Storage Gen2** como el tipo de datastore.\n",
    "2. **Hacer clic en \"Continue\"**: Después de seleccionar **Azure Data Lake Storage Gen2**, haz clic en **Continue** para proceder."
   ]
  },
  {
   "cell_type": "markdown",
   "metadata": {},
   "source": [
    "[![p760.png](https://i.postimg.cc/3N9VQ1PD/p760.png)](https://postimg.cc/Pvp2mWft)"
   ]
  },
  {
   "cell_type": "markdown",
   "metadata": {},
   "source": [
    "#### **Paso 3: Configurar el formato del dataset**"
   ]
  },
  {
   "cell_type": "markdown",
   "metadata": {},
   "source": [
    "1. **Seleccionar el formato**: En el campo de selección de formato, elige **DelimitedText**.\n",
    "2. **Hacer clic en \"Continue\"**: Después de seleccionar el formato, haz clic en **Continue**."
   ]
  },
  {
   "cell_type": "markdown",
   "metadata": {},
   "source": [
    "[![p761.png](https://i.postimg.cc/SNNHf0ML/p761.png)](https://postimg.cc/c62DdbT6)"
   ]
  },
  {
   "cell_type": "markdown",
   "metadata": {},
   "source": [
    "#### **Paso 4: Configurar las propiedades del dataset**"
   ]
  },
  {
   "cell_type": "markdown",
   "metadata": {},
   "source": [
    "- Crearemos un nuevo dataset **ds_population_raw_tsv**, que hará referencia hacia nuestro ADLS y esta vez tendrá un formato de tipo DelimitedText. Hara referencia al archivo **population_by_age.tsv** que no existe y que se almacenará en el contenedor **raw**. No importaremos el schema, dado que el archivo aún no existe, no tiene datos."
   ]
  },
  {
   "cell_type": "markdown",
   "metadata": {},
   "source": [
    "1. **Nombre del dataset**: En el campo de nombre, ingresa `ds_population_raw_tsv`.\n",
    "2. **Linked Service**: En el menú desplegable, selecciona el Linked Service que creaste previamente, `ls_adls_covidreportingdl`.\n",
    "3. **File path**: Indiquemos el contenedor `raw` e ingresa `population_by_age.tsv`.\n",
    "5. **Import schema**: Selecciona `None` para no importar un schema.\n",
    "6. **Guardar el dataset**: Haz clic en el botón **OK** para almacenar el nuevo dataset."
   ]
  },
  {
   "cell_type": "markdown",
   "metadata": {},
   "source": [
    "[![p762.png](https://i.postimg.cc/441rc4mN/p762.png)](https://postimg.cc/BtXY90Td)"
   ]
  },
  {
   "cell_type": "markdown",
   "metadata": {},
   "source": [
    "#### **Paso 5: Verificar el dataset**"
   ]
  },
  {
   "cell_type": "markdown",
   "metadata": {},
   "source": [
    "1. **Revisar la lista de datasets**: Deberías ver tu nuevo dataset `ds_population_raw_tsv` en la lista de datasets. Puedes hacer clic en él para revisar su configuración.\n",
    "2. Agregaremos el directorio **population** a la ruta de destino\n",
    "3. **Column delimiter**: Selecciona `Tab (\\t)`."
   ]
  },
  {
   "cell_type": "markdown",
   "metadata": {},
   "source": [
    "[![p763.png](https://i.postimg.cc/rsq3H3Yk/p763.png)](https://postimg.cc/FdnTdW4W)"
   ]
  }
 ],
 "metadata": {
  "language_info": {
   "name": "python"
  },
  "orig_nbformat": 4
 },
 "nbformat": 4,
 "nbformat_minor": 2
}
