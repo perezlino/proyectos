{
 "cells": [
  {
   "attachments": {},
   "cell_type": "markdown",
   "metadata": {},
   "source": [
    "## **`Paso 4.1`: Creación de Linked Services de origen y destino**"
   ]
  },
  {
   "cell_type": "markdown",
   "metadata": {},
   "source": [
    "### **1. Crear el Linked Service de origen `ls_ablob_covidreportingsa` que hace referencia a Azure Blob Storage**"
   ]
  },
  {
   "cell_type": "markdown",
   "metadata": {},
   "source": [
    "#### **Paso 1 - Crear un nuevo Linked Service**"
   ]
  },
  {
   "cell_type": "markdown",
   "metadata": {},
   "source": [
    "1. **Seleccionar la pestaña \"Manage\"**: En el menú de la izquierda dentro de tu Data Factory, haz clic en la pestaña **Manage** (Administrar).\n",
    "2. **Seleccionar \"Linked services\"**: En el panel de Manage, haz clic en **Linked services**.\n",
    "3. **Hacer clic en \"+ New\"**: En la parte superior, selecciona el botón **+ New** para crear un nuevo Linked Service."
   ]
  },
  {
   "cell_type": "markdown",
   "metadata": {},
   "source": [
    "[![p743.png](https://i.postimg.cc/26Z4n5zc/p743.png)](https://postimg.cc/R6v6B4JK)\n",
    "[![p744.png](https://i.postimg.cc/Bbf2pGbq/p744.png)](https://postimg.cc/KkQKcwtV)"
   ]
  },
  {
   "cell_type": "markdown",
   "metadata": {},
   "source": [
    "#### **Paso 2 - Configurar el Linked Service**"
   ]
  },
  {
   "cell_type": "markdown",
   "metadata": {},
   "source": [
    "1. **Elegir tipo de Linked Service**: En la lista de opciones, busca y selecciona **HTTP** como el tipo de Linked Service.\n",
    "2. **Hacer clic en \"Continue\"**: Después de seleccionar HTTP, haz clic en **Continue** para continuar con la configuración."
   ]
  },
  {
   "cell_type": "markdown",
   "metadata": {},
   "source": [
    "[![p745.png](https://i.postimg.cc/NGR6MLCL/p745.png)](https://postimg.cc/6T52b6XN)"
   ]
  },
  {
   "cell_type": "markdown",
   "metadata": {},
   "source": [
    "#### **Paso 3 - Configurar los detalles del Linked Service**"
   ]
  },
  {
   "cell_type": "markdown",
   "metadata": {},
   "source": [
    "1. **Nombre del Linked Service**: Proporciona un nombre único para tu Linked Service. En nuestro caso será **ls_ablob_covidreportingsa**.   \n",
    "2. **Authentication type**: Selecciona **Account key** como el tipo de autenticación.\n",
    "3. **Storage account name**: Selecciona **absproyectos**.\n",
    "4. **Probar la conexión**: Haz clic en el botón **Test connection** (Probar conexión) para asegurarte de que la configuración es correcta. Debería mostrar un mensaje de éxito si todo está bien configurado.\n",
    "5. **Guardar el Linked Service**: Si la conexión se valida correctamente, haz clic en el botón **Create** (Crear) para guardar el Linked Service."
   ]
  },
  {
   "cell_type": "markdown",
   "metadata": {},
   "source": [
    "[![p746.png](https://i.postimg.cc/tCyhVy8k/p746.png)](https://postimg.cc/t7S1K0qn)"
   ]
  },
  {
   "cell_type": "markdown",
   "metadata": {},
   "source": [
    "#### **Paso 4: Verificar el Linked Service**"
   ]
  },
  {
   "cell_type": "markdown",
   "metadata": {},
   "source": [
    "1. **Revisar la lista de Linked Services**: Una vez creado, deberías ver tu nuevo Linked Service en la lista de Linked Services. Puedes hacer clic en él para revisar la configuración."
   ]
  },
  {
   "cell_type": "markdown",
   "metadata": {},
   "source": [
    "[![p747.png](https://i.postimg.cc/nrKBww9q/p747.png)](https://postimg.cc/2L611Gw5)"
   ]
  },
  {
   "cell_type": "markdown",
   "metadata": {},
   "source": [
    "### **2. Crear el Linked Service de destino `ls_adls_covidreportingdl` que hace referencia a nuestro ADLS**"
   ]
  },
  {
   "cell_type": "markdown",
   "metadata": {},
   "source": [
    "#### **Paso 1 - Crear un nuevo Linked Service**"
   ]
  },
  {
   "cell_type": "markdown",
   "metadata": {},
   "source": [
    "1. **Seleccionar la pestaña \"Manage\"**: En el menú de la izquierda dentro de tu Data Factory, haz clic en la pestaña **Manage** (Administrar).\n",
    "2. **Seleccionar \"Linked services\"**: En el panel de Manage, haz clic en **Linked services**.\n",
    "3. **Hacer clic en \"+ New\"**: En la parte superior, selecciona el botón **+ New** para crear un nuevo Linked Service."
   ]
  },
  {
   "cell_type": "markdown",
   "metadata": {},
   "source": [
    "[![p743.png](https://i.postimg.cc/26Z4n5zc/p743.png)](https://postimg.cc/R6v6B4JK)\n",
    "[![p749.png](https://i.postimg.cc/V6gbq0xF/p749.png)](https://postimg.cc/YG49k0q4)"
   ]
  },
  {
   "cell_type": "markdown",
   "metadata": {},
   "source": [
    "#### **Paso 2 - Configurar el Linked Service**"
   ]
  },
  {
   "cell_type": "markdown",
   "metadata": {},
   "source": [
    "1. **Elegir tipo de Linked Service**: En la lista de opciones, busca y selecciona **Azure Data Lake Storage Gen2** como el tipo de Linked Service.\n",
    "2. **Hacer clic en \"Continue\"**: Después de seleccionar **Azure Data Lake Storage Gen2**, haz clic en **Continue** para continuar con la configuración."
   ]
  },
  {
   "cell_type": "markdown",
   "metadata": {},
   "source": [
    "[![p750.png](https://i.postimg.cc/fWH9kXjz/p750.png)](https://postimg.cc/DmXZMSMH)"
   ]
  },
  {
   "cell_type": "markdown",
   "metadata": {},
   "source": [
    "#### **Paso 3 - Configurar los detalles del Linked Service**"
   ]
  },
  {
   "cell_type": "markdown",
   "metadata": {},
   "source": [
    "1. **Nombre del Linked Service**: Proporciona un nombre único para tu Linked Service. En nuestro caso será **ls_adls_covidreportingdl**.   \n",
    "2. **Authentication type**: Selecciona **Account key** como el tipo de autenticación.\n",
    "3. **Azure subscription**: Selecciona la subscripción de Azure.\n",
    "4. **Storage account name**: Selecciona el ADLS que creamos **adlsproyectos**.\n",
    "5. **Probar la conexión**: Haz clic en el botón **Test connection** (Probar conexión) para asegurarte de que la configuración es correcta. Debería mostrar un mensaje de éxito si todo está bien configurado.\n",
    "6. **Guardar el Linked Service**: Si la conexión se valida correctamente, haz clic en el botón **Create** (Crear) para guardar el Linked Service."
   ]
  },
  {
   "cell_type": "markdown",
   "metadata": {},
   "source": [
    "[![p751.png](https://i.postimg.cc/Rhb685V6/p751.png)](https://postimg.cc/m1Cgzn9B)"
   ]
  },
  {
   "cell_type": "markdown",
   "metadata": {},
   "source": [
    "#### **Paso 4: Verificar el Linked Service**"
   ]
  },
  {
   "cell_type": "markdown",
   "metadata": {},
   "source": [
    "1. **Revisar la lista de Linked Services**: Una vez creado, deberías ver tu nuevo Linked Service en la lista de Linked Services. Puedes hacer clic en él para revisar la configuración."
   ]
  },
  {
   "cell_type": "markdown",
   "metadata": {},
   "source": [
    "[![p752.png](https://i.postimg.cc/90fwJFVH/p752.png)](https://postimg.cc/47r33GmW)"
   ]
  }
 ],
 "metadata": {
  "language_info": {
   "name": "python"
  },
  "orig_nbformat": 4
 },
 "nbformat": 4,
 "nbformat_minor": 2
}
