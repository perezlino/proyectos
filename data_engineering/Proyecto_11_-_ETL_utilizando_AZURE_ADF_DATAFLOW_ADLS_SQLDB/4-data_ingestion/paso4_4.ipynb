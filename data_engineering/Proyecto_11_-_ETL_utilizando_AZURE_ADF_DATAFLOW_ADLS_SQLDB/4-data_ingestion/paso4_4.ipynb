{
 "cells": [
  {
   "attachments": {},
   "cell_type": "markdown",
   "metadata": {},
   "source": [
    "## **`Paso 4.4`: Creación de Linked Service de origen**"
   ]
  },
  {
   "cell_type": "markdown",
   "metadata": {},
   "source": [
    "### **1. Crear el Linked Service de origen `ls_http_opendata_ecdc_europa_eu` que hace referencia a HTTP**"
   ]
  },
  {
   "cell_type": "markdown",
   "metadata": {},
   "source": [
    "#### **Paso 1 - Crear un nuevo Linked Service**"
   ]
  },
  {
   "cell_type": "markdown",
   "metadata": {},
   "source": [
    "1. **Seleccionar la pestaña \"Manage\"**: En el menú de la izquierda dentro de tu Data Factory, haz clic en la pestaña **Manage** (Administrar).\n",
    "2. **Seleccionar \"Linked services\"**: En el panel de Manage, haz clic en **Linked services**.\n",
    "3. **Hacer clic en \"+ New\"**: En la parte superior, selecciona el botón **+ New** para crear un nuevo Linked Service."
   ]
  },
  {
   "cell_type": "markdown",
   "metadata": {},
   "source": [
    "[![p743.png](https://i.postimg.cc/26Z4n5zc/p743.png)](https://postimg.cc/R6v6B4JK)\n",
    "[![p776.png](https://i.postimg.cc/gkZQdrJg/p776.png)](https://postimg.cc/fJMBfzYd)"
   ]
  },
  {
   "cell_type": "markdown",
   "metadata": {},
   "source": [
    "#### **Paso 2 - Configurar el Linked Service**"
   ]
  },
  {
   "cell_type": "markdown",
   "metadata": {},
   "source": [
    "1. **Elegir tipo de Linked Service**: En la lista de opciones, busca y selecciona **HTTP** como el tipo de Linked Service.\n",
    "2. **Hacer clic en \"Continue\"**: Después de seleccionar HTTP, haz clic en **Continue** para continuar con la configuración."
   ]
  },
  {
   "cell_type": "markdown",
   "metadata": {},
   "source": [
    "[![p777.png](https://i.postimg.cc/vZ7Kgj59/p777.png)](https://postimg.cc/216Gg0c8)"
   ]
  },
  {
   "cell_type": "markdown",
   "metadata": {},
   "source": [
    "#### **Paso 3 - Configurar los detalles del Linked Service**"
   ]
  },
  {
   "cell_type": "markdown",
   "metadata": {},
   "source": [
    "1. **Nombre del Linked Service**: Proporciona un nombre único para tu Linked Service. En nuestro caso será `ls_http_opendata_ecdc_europa_eu`.   \n",
    "2. **Base URL**: Indicar el sitio `http://github.com`.\n",
    "2. **Authentication type**: Selecciona `Anonymous` como el tipo de autenticación.\n",
    "4. **Probar la conexión**: Haz clic en el botón `Test connection` (Probar conexión) para asegurarte de que la configuración es correcta. Debería mostrar un mensaje de éxito si todo está bien configurado.\n",
    "5. **Guardar el Linked Service**: Si la conexión se valida correctamente, haz clic en el botón **Create** (Crear) para guardar el Linked Service."
   ]
  },
  {
   "cell_type": "markdown",
   "metadata": {},
   "source": [
    "[![p778.png](https://i.postimg.cc/cJsbQmcz/p778.png)](https://postimg.cc/Snvd4c3L)"
   ]
  },
  {
   "cell_type": "markdown",
   "metadata": {},
   "source": [
    "#### **Paso 4: Verificar el Linked Service**"
   ]
  },
  {
   "cell_type": "markdown",
   "metadata": {},
   "source": [
    "1. **Revisar la lista de Linked Services**: Una vez creado, deberías ver tu nuevo Linked Service en la lista de Linked Services. Puedes hacer clic en él para revisar la configuración."
   ]
  },
  {
   "cell_type": "markdown",
   "metadata": {},
   "source": [
    "[![p779.png](https://i.postimg.cc/bwfMv8Sp/p779.png)](https://postimg.cc/mtVVdvS5)"
   ]
  }
 ],
 "metadata": {
  "language_info": {
   "name": "python"
  },
  "orig_nbformat": 4
 },
 "nbformat": 4,
 "nbformat_minor": 2
}
