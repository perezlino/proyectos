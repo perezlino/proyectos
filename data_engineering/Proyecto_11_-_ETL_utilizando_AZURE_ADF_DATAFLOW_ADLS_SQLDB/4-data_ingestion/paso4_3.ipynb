{
 "cells": [
  {
   "cell_type": "markdown",
   "metadata": {},
   "source": [
    "## **`Paso 4.3`: Creación de Pipeline `pl_ingest_population_data`**"
   ]
  },
  {
   "attachments": {},
   "cell_type": "markdown",
   "metadata": {},
   "source": [
    "### **1. Crear el Pipeline de ingesta de datos `pl_ingest_population_data`, el cual contendrá una actividad `Copy data`**"
   ]
  },
  {
   "cell_type": "markdown",
   "metadata": {},
   "source": [
    "#### **Paso 1: Crear un nuevo Pipeline**"
   ]
  },
  {
   "cell_type": "markdown",
   "metadata": {},
   "source": [
    "1. **Seleccionar la pestaña \"Author\"**: En el menú de la izquierda dentro de tu Data Factory, haz clic en la pestaña **Author** (Autor).\n",
    "2. **Seleccionar \"Pipelines\"**: En el panel de Authoring, haz clic en **Pipelines**.\n",
    "3. **Hacer clic en los tres puntos**: Junto a la opción **Pipelines**, haz clic en los tres puntos (más opciones).\n",
    "4. **Seleccionar \"New pipeline\"**: En el menú desplegable, selecciona **New pipeline** para crear un nuevo pipeline."
   ]
  },
  {
   "cell_type": "markdown",
   "metadata": {},
   "source": [
    "[![p743.png](https://i.postimg.cc/26Z4n5zc/p743.png)](https://postimg.cc/R6v6B4JK)\n",
    "[![p764.png](https://i.postimg.cc/Wpr0YtMT/p764.png)](https://postimg.cc/XXjZpjHz)"
   ]
  },
  {
   "cell_type": "markdown",
   "metadata": {},
   "source": [
    "#### **Paso 2: Configurar y agregar la actividad `Copy Data` el nuevo Pipeline**"
   ]
  },
  {
   "cell_type": "markdown",
   "metadata": {},
   "source": [
    "1. **Asignar un nombre al Pipeline**: En la parte superior derecha, cambia el nombre del pipeline a `pl_ingest_population_data`.\n",
    "2. **Buscar la actividad \"Copy Data\"**: En el panel de actividades a la izquierda, busca `Copy Data` en la sección de `Move and transform`.\n",
    "3. **Arrastrar la actividad al canvas**: Arrastra la actividad `Copy Data` al canvas del pipeline."
   ]
  },
  {
   "cell_type": "markdown",
   "metadata": {},
   "source": [
    "[![p765.png](https://i.postimg.cc/xT2MwYRH/p765.png)](https://postimg.cc/0rVzSTh2)\n",
    "[![p766.png](https://i.postimg.cc/Hs9XHKZN/p766.png)](https://postimg.cc/0brb0tqG)"
   ]
  },
  {
   "cell_type": "markdown",
   "metadata": {},
   "source": [
    "#### **Paso 3: Configurar la Actividad `Copy Data`**"
   ]
  },
  {
   "cell_type": "markdown",
   "metadata": {},
   "source": [
    "1. **Seleccionar la actividad \"Copy Data\"**: Haz clic en la actividad que agregaste para abrir el panel de configuración.\n",
    "2. **Pestaña General**:\n",
    "   - En **Name**, ingresa `Copy Population Data`.\n",
    "\n",
    "3. **Pestaña Source**:\n",
    "   - Cambia a la pestaña **Source**.\n",
    "   - En **Source dataset**, selecciona `ds_population_raw_gz`. \n",
    "\n",
    "4. **Pestaña Sink**:\n",
    "   - Cambia a la pestaña **Sink**.\n",
    "   - En **Sink dataset**, selecciona `ds_population_raw_tsv`."
   ]
  },
  {
   "cell_type": "markdown",
   "metadata": {},
   "source": [
    "[![p767.png](https://i.postimg.cc/t4RPg584/p767.png)](https://postimg.cc/2VJ3c4zs)\n",
    "[![p768.png](https://i.postimg.cc/wjWNRNdc/p768.png)](https://postimg.cc/TKD1Zp1p)\n",
    "[![p769.png](https://i.postimg.cc/GpHyFpL0/p769.png)](https://postimg.cc/SXbRqkYV)"
   ]
  },
  {
   "cell_type": "markdown",
   "metadata": {},
   "source": [
    "#### **Paso 4: Validar el Pipeline**"
   ]
  },
  {
   "cell_type": "markdown",
   "metadata": {},
   "source": [
    "1. **Validar la Configuración**: En la parte superior del panel, haz clic en el botón **\"Validate\"** para comprobar que no haya errores en la configuración del pipeline."
   ]
  },
  {
   "cell_type": "markdown",
   "metadata": {},
   "source": [
    "[![p770.png](https://i.postimg.cc/JhvBPW0s/p770.png)](https://postimg.cc/CZC1xXj0)\n",
    "[![p771.png](https://i.postimg.cc/G2DTfSTq/p771.png)](https://postimg.cc/xJ0dJ5Rz)"
   ]
  },
  {
   "cell_type": "markdown",
   "metadata": {},
   "source": [
    "#### **Paso 5: Ejecutar el Pipeline**"
   ]
  },
  {
   "cell_type": "markdown",
   "metadata": {},
   "source": [
    "1. **Ejecutar el Pipeline**: Haz clic en el botón **\"Debug\"** en la parte superior para ejecutar el pipeline en modo de depuración."
   ]
  },
  {
   "cell_type": "markdown",
   "metadata": {},
   "source": [
    "[![p772.png](https://i.postimg.cc/5yMQWqw1/p772.png)](https://postimg.cc/5Yn2wz7k)"
   ]
  },
  {
   "cell_type": "markdown",
   "metadata": {},
   "source": [
    "#### **Paso 6: Revisar los Resultados**"
   ]
  },
  {
   "cell_type": "markdown",
   "metadata": {},
   "source": [
    "1. Verificamos los resultados."
   ]
  },
  {
   "cell_type": "markdown",
   "metadata": {},
   "source": [
    "[![p773.png](https://i.postimg.cc/L4zZBwps/p773.png)](https://postimg.cc/pyLTP0yN)"
   ]
  },
  {
   "cell_type": "markdown",
   "metadata": {},
   "source": [
    "#### **Paso 7: Verificar la creación del archivo en la ruta `raw/population`en el ADLS**"
   ]
  },
  {
   "cell_type": "markdown",
   "metadata": {},
   "source": [
    "1. Nos dirigimos al ADLS y revisamos la ruta **raw/population** para ver si se creó el archivo `population_by_age.tsv`"
   ]
  },
  {
   "cell_type": "markdown",
   "metadata": {},
   "source": [
    "[![p774.png](https://i.postimg.cc/hvbzDzrm/p774.png)](https://postimg.cc/hQvPMGN4)\n",
    "[![p775.png](https://i.postimg.cc/ZK4vfHbx/p775.png)](https://postimg.cc/JtYh0bBs)"
   ]
  }
 ],
 "metadata": {
  "language_info": {
   "name": "python"
  },
  "orig_nbformat": 4
 },
 "nbformat": 4,
 "nbformat_minor": 2
}
