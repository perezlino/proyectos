{
 "cells": [
  {
   "attachments": {},
   "cell_type": "markdown",
   "metadata": {},
   "source": [
    "## **`Paso 4.7`: Modificaciones**"
   ]
  },
  {
   "cell_type": "markdown",
   "metadata": {},
   "source": [
    "### **1. Parametrizar el Linked Service de origen `ls_http_opendata_ecdc_europa_eu`**"
   ]
  },
  {
   "attachments": {},
   "cell_type": "markdown",
   "metadata": {},
   "source": [
    "1. Empezamos por parametrizar el Linked Service de origen **ls_http_opendata_ecdc_europa_eu**. El parámetro se llama **sourceBaseURL** y es del tipo string.\n",
    "2. **Base URL**: Le pasaremos el valor que tome nuestro parámetro del Linked Service `sourceBaseURL`."
   ]
  },
  {
   "cell_type": "markdown",
   "metadata": {},
   "source": [
    "[![p816.png](https://i.postimg.cc/Bv1wfB0Y/p816.png)](https://postimg.cc/hJc09xhT)\n",
    "[![p817.png](https://i.postimg.cc/rmXZVRy8/p817.png)](https://postimg.cc/kVsvw4tZ)\n",
    "[![p818.png](https://i.postimg.cc/QtQ4HNVc/p818.png)](https://postimg.cc/2b5FtDQ5)\n",
    "[![p819.png](https://i.postimg.cc/fyMHX40p/p819.png)](https://postimg.cc/MMrb2F5m)\n",
    "[![p820.png](https://i.postimg.cc/fy58fHcL/p820.png)](https://postimg.cc/WqFm2wfL)\n",
    "[![p821.png](https://i.postimg.cc/jqh3Tjpb/p821.png)](https://postimg.cc/HjV94TWZ)"
   ]
  },
  {
   "cell_type": "markdown",
   "metadata": {},
   "source": [
    "### 2. **Crear un nuevo parametro en el dataset de origen `ds_ecdc_raw_csv_http`**"
   ]
  },
  {
   "attachments": {},
   "cell_type": "markdown",
   "metadata": {},
   "source": [
    "El parámetro del Linked Service hereda el valor que le asignamos desde el dataset. En este caso, el dataset de origen **ds_ecdc_raw_csv_http** utiliza el Linked Service **ls_http_opendata_ecdc_europa_eu**. Además, en este dataset vamos a crear un parámetro llamado **base URL**, que se asignará al parámetro **sourceBaseURL** del Linked Service. De esta manera, el valor proporcionado al parámetro del dataset **base URL** se transferirá al parámetro correspondiente del Linked Service."
   ]
  },
  {
   "cell_type": "markdown",
   "metadata": {},
   "source": [
    "[![p822.png](https://i.postimg.cc/yYns5s1Q/p822.png)](https://postimg.cc/BX8rPW1H)\n",
    "[![p823.png](https://i.postimg.cc/RZD9Sdnw/p823.png)](https://postimg.cc/CRk9Jj7K)\n",
    "[![p824.png](https://i.postimg.cc/0NKvbSpF/p824.png)](https://postimg.cc/sBzqLvH4)\n",
    "[![p825.png](https://i.postimg.cc/fRLDQpkw/p825.png)](https://postimg.cc/Vd33j7jT)"
   ]
  },
  {
   "cell_type": "markdown",
   "metadata": {},
   "source": [
    "### **3. Crear un nuevo parámetro en el pipeline `pl_ingest_ecdc_data`**"
   ]
  },
  {
   "cell_type": "markdown",
   "metadata": {},
   "source": [
    "1. **Pestaña Parameters**: <br>\n",
    "\n",
    "   - Vamos a crear un nuevo parámetro a nivel de pipeline llamado **sourceBaseURL**. \n",
    "\n",
    "2. **Pestaña Source**:\n",
    "\n",
    "   - En **Source dataset** selecciona `ds_ecdc_raw_csv_http`. \n",
    "   - En **Source dataset** también se nos pide un valor para el parámetro `baseURL` del dataset de origen y le pasaremos el valor que tome nuestro parámetro del pipeline `sourceBaseURL`."
   ]
  },
  {
   "cell_type": "markdown",
   "metadata": {},
   "source": [
    "[![p826.png](https://i.postimg.cc/jSVGdjxd/p826.png)](https://postimg.cc/KRN90x3d)\n",
    "[![p827.png](https://i.postimg.cc/rwS7dLsG/p827.png)](https://postimg.cc/RWZg8ycq)\n",
    "[![p828.png](https://i.postimg.cc/6QcS0Ldy/p828.png)](https://postimg.cc/xkktjmp2)\n",
    "[![p829.png](https://i.postimg.cc/Xv4mdDBR/p829.png)](https://postimg.cc/QFYfrmbm)"
   ]
  }
 ],
 "metadata": {
  "language_info": {
   "name": "python"
  },
  "orig_nbformat": 4
 },
 "nbformat": 4,
 "nbformat_minor": 2
}
