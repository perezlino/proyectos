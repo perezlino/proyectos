{
 "cells": [
  {
   "cell_type": "markdown",
   "metadata": {},
   "source": [
    "## **`Paso 7.1`: Orquestar todos los pipelines**"
   ]
  },
  {
   "cell_type": "markdown",
   "metadata": {},
   "source": [
    "### **1. Organizar pipelines y datasets en directorios**"
   ]
  },
  {
   "cell_type": "markdown",
   "metadata": {},
   "source": [
    "- Ordenar pipelines y datasets utilizando carpetas:"
   ]
  },
  {
   "cell_type": "markdown",
   "metadata": {},
   "source": [
    "[![p1142.png](https://i.postimg.cc/BZHqHX17/p1142.png)](https://postimg.cc/Jt7VW7xj)\n",
    "[![p1143.png](https://i.postimg.cc/vHyGzbrY/p1143.png)](https://postimg.cc/XX2MNM1m)"
   ]
  },
  {
   "cell_type": "markdown",
   "metadata": {},
   "source": [
    "### **2. Orquestar todos los pipelines**"
   ]
  },
  {
   "cell_type": "markdown",
   "metadata": {},
   "source": [
    "#### **Paso 1 - Crear pipeline de orquestación**"
   ]
  },
  {
   "cell_type": "markdown",
   "metadata": {},
   "source": [
    "1. Creamos un directorio donde alojaremos nuestro pipeline padre `pl_executes_population_pipelines`."
   ]
  },
  {
   "cell_type": "markdown",
   "metadata": {},
   "source": [
    "[![p1144.png](https://i.postimg.cc/y8vpD4XY/p1144.png)](https://postimg.cc/nX9GWWP6)\n",
    "[![p1145.png](https://i.postimg.cc/0NjWmWcG/p1145.png)](https://postimg.cc/ns8Gfk8M)\n",
    "[![p1146.png](https://i.postimg.cc/25tHxQKs/p1146.png)](https://postimg.cc/xkKyfzY5)"
   ]
  },
  {
   "cell_type": "markdown",
   "metadata": {},
   "source": [
    "#### **Paso 2 - Definir secuencias y dependencias**"
   ]
  },
  {
   "cell_type": "markdown",
   "metadata": {},
   "source": [
    "1. Añadimos actividades `Execution Pipeline` las cuales ejecutarán cada uno de los pipelines. \n",
    "2. La opción `Wait on completion` se refiere que a apenas se ejecute completamente el pipeline comenzará el siguiente"
   ]
  },
  {
   "cell_type": "markdown",
   "metadata": {},
   "source": [
    "[![p1147.png](https://i.postimg.cc/0QPpDZG5/p1147.png)](https://postimg.cc/QBY9rQnv)\n",
    "[![p1148.png](https://i.postimg.cc/vBh5z9Xr/p1148.png)](https://postimg.cc/mzccZPvk)\n",
    "[![p1149.png](https://i.postimg.cc/qq7yZRZ9/p1149.png)](https://postimg.cc/sQtMMVzc)\n",
    "[![p1150.png](https://i.postimg.cc/x8FMr2wq/p1150.png)](https://postimg.cc/XBdpFT70)\n",
    "[![p1151.png](https://i.postimg.cc/bY6QSxZ8/p1151.png)](https://postimg.cc/kDbVktNh)\n",
    "[![p1152.png](https://i.postimg.cc/sDv5YMWW/p1152.png)](https://postimg.cc/0b16x2c5)"
   ]
  },
  {
   "cell_type": "markdown",
   "metadata": {},
   "source": [
    "#### **Paso 3: Validar el Pipeline**"
   ]
  },
  {
   "cell_type": "markdown",
   "metadata": {},
   "source": [
    "[![p1153.png](https://i.postimg.cc/8P9MtTd0/p1153.png)](https://postimg.cc/LnkJsKbt)\n",
    "[![p1154.png](https://i.postimg.cc/25fvNTKd/p1154.png)](https://postimg.cc/Yvbj1Nkj)"
   ]
  },
  {
   "cell_type": "markdown",
   "metadata": {},
   "source": [
    "#### **Paso 4: Ejecutar el Pipeline**"
   ]
  },
  {
   "cell_type": "markdown",
   "metadata": {},
   "source": [
    "1. **Ejecutar el Pipeline**: Haz clic en el botón **\"Debug\"** en la parte superior para ejecutar el pipeline en modo de depuración."
   ]
  },
  {
   "cell_type": "markdown",
   "metadata": {},
   "source": [
    "[![p1155.png](https://i.postimg.cc/sgWSLbwD/p1155.png)](https://postimg.cc/xX0cJxwW)"
   ]
  },
  {
   "cell_type": "markdown",
   "metadata": {},
   "source": [
    "#### **Paso 5: Revisar los Resultados**"
   ]
  },
  {
   "cell_type": "markdown",
   "metadata": {},
   "source": [
    "1. Verificamos los resultados."
   ]
  },
  {
   "cell_type": "markdown",
   "metadata": {},
   "source": [
    "[![p1156.png](https://i.postimg.cc/nLYmF7yy/p1156.png)](https://postimg.cc/Lq55vq6D)"
   ]
  },
  {
   "cell_type": "markdown",
   "metadata": {},
   "source": [
    "#### **Paso 6: Verificar la creación de archivos en el ADLS y tablas en ASQL**"
   ]
  },
  {
   "cell_type": "markdown",
   "metadata": {},
   "source": [
    "[![p1157.png](https://i.postimg.cc/0QVJmv2Z/p1157.png)](https://postimg.cc/7GT68pzT)\n",
    "[![p1158.png](https://i.postimg.cc/4df9myZm/p1158.png)](https://postimg.cc/p9STS2mH)"
   ]
  },
  {
   "cell_type": "markdown",
   "metadata": {},
   "source": [
    "[![p1159.png](https://i.postimg.cc/wM3RQr1z/p1159.png)](https://postimg.cc/XBSvVQK1)\n",
    "[![p1160.png](https://i.postimg.cc/J0gD6QXk/p1160.png)](https://postimg.cc/CnGxdkmh)\n",
    "[![p1161.png](https://i.postimg.cc/sf0hg3Lg/p1161.png)](https://postimg.cc/pyzT0Mxw)"
   ]
  }
 ],
 "metadata": {
  "language_info": {
   "name": "python"
  }
 },
 "nbformat": 4,
 "nbformat_minor": 2
}
