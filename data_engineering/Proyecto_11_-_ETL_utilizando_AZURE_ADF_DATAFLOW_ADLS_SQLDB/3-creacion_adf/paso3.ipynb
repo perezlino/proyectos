{
 "cells": [
  {
   "cell_type": "markdown",
   "metadata": {},
   "source": [
    "## **`Paso 3`: Creación del recurso Azure Data Factory**"
   ]
  },
  {
   "cell_type": "markdown",
   "metadata": {},
   "source": [
    "### **3.1 - Crear un nuevo recurso ADF**"
   ]
  },
  {
   "cell_type": "markdown",
   "metadata": {},
   "source": [
    "1. En el menú del portal, selecciona **Crear un recurso**.\n",
    "2. Busca **Data Factory** y selecciona **Data Factory**.\n",
    "3. Haz clic en **Crear**."
   ]
  },
  {
   "cell_type": "markdown",
   "metadata": {},
   "source": [
    "[![p737.png](https://i.postimg.cc/3rFrSHbd/p737.png)](https://postimg.cc/5jjMyDJV)\n",
    "[![p519.png](https://i.postimg.cc/YqfnTvpr/p519.png)](https://postimg.cc/HVn9yscR)"
   ]
  },
  {
   "cell_type": "markdown",
   "metadata": {},
   "source": [
    "### **3.2 - Configurar ADF**"
   ]
  },
  {
   "cell_type": "markdown",
   "metadata": {},
   "source": [
    "1. **Seleccionar suscripción**: Escoge la suscripción de Azure que deseas utilizar.\n",
    "2. **Grupo de recursos**: Selecciona **rg-proyectos** que creamos anteriormente.\n",
    "3. **Nombre del Data Factory**: Proporciona un nombre único para tu Data Factory (debe tener entre 3 y 63 caracteres). Le di el nombre de **adf-proyecto2**.\n",
    "4. **Región**: Selecciona la región donde deseas que se ubique el recurso. Seleccione **East US**.\n",
    "5. **Versión**: Selecciona entre \"V1\" y \"V2\". Se recomienda utilizar la versión más reciente (V2) para acceder a las últimas características. Seleccione **V2**."
   ]
  },
  {
   "cell_type": "markdown",
   "metadata": {},
   "source": [
    "[![p738.png](https://i.postimg.cc/vHmy0xVN/p738.png)](https://postimg.cc/Z0XXRRj8)"
   ]
  },
  {
   "cell_type": "markdown",
   "metadata": {},
   "source": [
    "### **3.3 - Revisar y crear**"
   ]
  },
  {
   "cell_type": "markdown",
   "metadata": {},
   "source": [
    "1. **Revisión**: Verifica que toda la información ingresada sea correcta.\n",
    "2. **Crear**: Haz clic en el botón **Crear** para provisionar el recurso."
   ]
  },
  {
   "cell_type": "markdown",
   "metadata": {},
   "source": [
    "[![p514.png](https://i.postimg.cc/RCpLjwtL/p514.png)](https://postimg.cc/PNZDDp2C)\n",
    "[![p739.png](https://i.postimg.cc/7YQkdP1Y/p739.png)](https://postimg.cc/1f62NQYL)"
   ]
  },
  {
   "cell_type": "markdown",
   "metadata": {},
   "source": [
    "### **3.4 - Acceder a Azure Data Factory**"
   ]
  },
  {
   "cell_type": "markdown",
   "metadata": {},
   "source": [
    "1. **Ir al recurso**: Una vez que la implementación se complete, puedes acceder a tu Data Factory haciendo clic en **Ir al recurso** o buscando el nombre de tu Data Factory en el menú de **Todos los recursos**."
   ]
  },
  {
   "cell_type": "markdown",
   "metadata": {},
   "source": [
    "[![p740.png](https://i.postimg.cc/VNXPJjxd/p740.png)](https://postimg.cc/94XnSqFh)\n",
    "[![p741.png](https://i.postimg.cc/k493K2Cw/p741.png)](https://postimg.cc/XZ2z07py)\n",
    "[![p742.png](https://i.postimg.cc/Tw989TYx/p742.png)](https://postimg.cc/KkRscSMp)"
   ]
  }
 ],
 "metadata": {
  "language_info": {
   "name": "python"
  }
 },
 "nbformat": 4,
 "nbformat_minor": 2
}
