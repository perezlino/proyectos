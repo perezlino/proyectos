{
 "cells": [
  {
   "cell_type": "markdown",
   "metadata": {},
   "source": [
    "## **`Paso 1`: Creación ABS `absproyectos` y contenedor `population`**"
   ]
  },
  {
   "cell_type": "markdown",
   "metadata": {},
   "source": [
    "### **1.2 - Crear una cuenta de almacenamiento**"
   ]
  },
  {
   "cell_type": "markdown",
   "metadata": {},
   "source": [
    "1. En el menú del portal, selecciona **Crear un recurso**.\n",
    "2. Busca **Almacenamiento** y selecciona **Cuenta de almacenamiento**.\n",
    "3. Haz clic en **Crear**."
   ]
  },
  {
   "cell_type": "markdown",
   "metadata": {},
   "source": [
    "[![p496.png](https://i.postimg.cc/hv2SXzPn/p496.png)](https://postimg.cc/kRtrZ5bY)\n",
    "[![p497.png](https://i.postimg.cc/28XkmZKF/p497.png)](https://postimg.cc/hfTW1fgf)\n",
    "[![p498.png](https://i.postimg.cc/Sx2yKK00/p498.png)](https://postimg.cc/XrWMH47x)"
   ]
  },
  {
   "cell_type": "markdown",
   "metadata": {},
   "source": [
    "### **1.3 - Configurar la cuenta de almacenamiento**"
   ]
  },
  {
   "cell_type": "markdown",
   "metadata": {},
   "source": [
    "1. **Suscripción**: Selecciona la suscripción en la que deseas crear la cuenta.\n",
    "2. **Grupo de recursos**: Puedes seleccionar un grupo de recursos existente o crear uno nuevo. Utilizamos el grupo de recursos **rg-proyectos** que creamos en el paso de la cuenta ADLS.\n",
    "3. **Nombre de la cuenta de almacenamiento**: Proporciona un nombre único (debe ser entre 3 y 24 caracteres, y solo letras y números). Le di el nombre de **absproyectos**.\n",
    "4. **Región**: Selecciona la región más cercana a tus usuarios o aplicaciones. Seleccione **East US**.\n",
    "5. **Primary Service**: Selecciona **Azure Blob Storage or Azure Data Lake Storage Gen 2**.\n",
    "6. **Performance**: Puedes elegir entre \"Standard\" o \"Premium\", según tus necesidades. Seleccione **Standard**.\n",
    "7. **Replication**: Elige el tipo de replicación deseado (LRS, GRS, etc.). Seleccione **LRS**."
   ]
  },
  {
   "cell_type": "markdown",
   "metadata": {},
   "source": [
    "[![p727.png](https://i.postimg.cc/wTgyMMLx/p727.png)](https://postimg.cc/2398Xz0g)\n",
    "[![p728.png](https://i.postimg.cc/RVd3HmL7/p728.png)](https://postimg.cc/56H9hZGy)"
   ]
  },
  {
   "cell_type": "markdown",
   "metadata": {},
   "source": [
    "### **1.4 - Configurar Tags**"
   ]
  },
  {
   "cell_type": "markdown",
   "metadata": {},
   "source": [
    "1. En la sección **Tags**, podemos crear etiquetas."
   ]
  },
  {
   "cell_type": "markdown",
   "metadata": {},
   "source": [
    "[![p502.png](https://i.postimg.cc/JhjMbd4P/p502.png)](https://postimg.cc/1gRkSBFq)"
   ]
  },
  {
   "cell_type": "markdown",
   "metadata": {},
   "source": [
    "### **1.5 - Revisión y creación**"
   ]
  },
  {
   "cell_type": "markdown",
   "metadata": {},
   "source": [
    "1. Revisa todas las configuraciones.\n",
    "2. Haz clic en **Crear** para crear la cuenta de almacenamiento."
   ]
  },
  {
   "cell_type": "markdown",
   "metadata": {},
   "source": [
    "[![p729.png](https://i.postimg.cc/CLc1KNwJ/p729.png)](https://postimg.cc/xcbYxLJb)\n",
    "[![p730.png](https://i.postimg.cc/52jtQC0J/p730.png)](https://postimg.cc/VJQw35nZ)"
   ]
  },
  {
   "cell_type": "markdown",
   "metadata": {},
   "source": [
    "### **1.6 - Acceder a tu Blob Storage**"
   ]
  },
  {
   "cell_type": "markdown",
   "metadata": {},
   "source": [
    "1. Una vez que se haya creado la cuenta, ve a **Cuentas de almacenamiento** en el menú del portal.\n",
    "2. Selecciona la cuenta de almacenamiento que acabas de crear **absproyectos**."
   ]
  },
  {
   "cell_type": "markdown",
   "metadata": {},
   "source": [
    "[![p505.png](https://i.postimg.cc/kXhbZDNL/p505.png)](https://postimg.cc/dLr3Zsx9)\n",
    "[![p731.png](https://i.postimg.cc/c4zSj5xq/p731.png)](https://postimg.cc/CzbXn7nJ)\n",
    "[![p732.png](https://i.postimg.cc/s2dRfQGw/p732.png)](https://postimg.cc/yDPGvNPZ)\n",
    "[![p733.png](https://i.postimg.cc/Vkb8cBvJ/p733.png)](https://postimg.cc/xXY7vmKQ)"
   ]
  },
  {
   "cell_type": "markdown",
   "metadata": {},
   "source": [
    "### **1.7 - Crear contenedores y subir archivos**"
   ]
  },
  {
   "cell_type": "markdown",
   "metadata": {},
   "source": [
    "1. En la página de la cuenta de almacenamiento, busca y selecciona **Contenedores** en el menú lateral.\n",
    "2. Haz clic en el botón **+ Contenedor** en la parte superior de la página.\n",
    "3. En el cuadro de diálogo que aparece, ingresa el nombre `population`.\n",
    "4. Le damos un de nivel de acceso  **Privado** para que no sea accesible públicamente.\n",
    "5. Haz clic en **Crear**.\n",
    "6. Subimos el archivo archivo `population_by_age.tsv.gz` al contenedor **population**.\n",
    "7. Repetimos los pasos para crear el contenedor **configs** y subir el archivo `ecdc_file_list.json`."
   ]
  },
  {
   "cell_type": "markdown",
   "metadata": {},
   "source": [
    "[![p734.png](https://i.postimg.cc/3wCzKLTx/p734.png)](https://postimg.cc/VSvKgWvx)\n",
    "[![p735.png](https://i.postimg.cc/Qt8wVp8k/p735.png)](https://postimg.cc/2qt2KLBV)\n",
    "[![p736.png](https://i.postimg.cc/59kTNYZL/p736.png)](https://postimg.cc/RqKXgFCZ)\n",
    "[![p756.png](https://i.postimg.cc/1XTFpTCs/p756.png)](https://postimg.cc/0KYrvt1B)\n",
    "[![p830.png](https://i.postimg.cc/25mZFnwb/p830.png)](https://postimg.cc/87KcTJxN)"
   ]
  }
 ],
 "metadata": {
  "language_info": {
   "name": "python"
  }
 },
 "nbformat": 4,
 "nbformat_minor": 2
}
