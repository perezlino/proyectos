{
 "cells": [
  {
   "cell_type": "markdown",
   "metadata": {},
   "source": [
    "## **Reportes utilizando la tabla `UNIVERSAL.TRANSACCION_ENRIQUECIDA`**"
   ]
  },
  {
   "cell_type": "markdown",
   "metadata": {},
   "source": [
    "##### **Reporte 1** - Filtrar y almacenar las transacciones realizadas por mayores de 50 años"
   ]
  },
  {
   "cell_type": "code",
   "execution_count": null,
   "metadata": {
    "vscode": {
     "languageId": "shellscript"
    }
   },
   "outputs": [],
   "source": [
    "edad = 50\n",
    "\n",
    "dfReporte1 = spark.sql(f\"\"\"\n",
    "SELECT \n",
    "    T.* \n",
    "FROM \n",
    "    UNIVERSAL.TRANSACCION_ENRIQUECIDA T\n",
    "WHERE \n",
    "    T.EDAD_PERSONA > {edad}\n",
    "\"\"\")\n",
    "\n",
    "dfReporte1.show()"
   ]
  },
  {
   "cell_type": "markdown",
   "metadata": {},
   "source": [
    "##### **Reporte 2** - Transacciones realizadas por mayores de 25 años, cuyo nombre empiece con la letra \"a\""
   ]
  },
  {
   "cell_type": "code",
   "execution_count": null,
   "metadata": {
    "vscode": {
     "languageId": "shellscript"
    }
   },
   "outputs": [],
   "source": [
    "# \"UPPER('{var:inicial}')\" El UPPER lo utilizamos para asegurarnos de que sea Mayuscula\n",
    "# dado que el parametro quizas alguien lo coloque como inicial = \"a\".\n",
    "inicial = \"A\"\n",
    "edad = 25\n",
    "\n",
    "dfReporte2 = spark.sql(f\"\"\"\n",
    "SELECT \n",
    "    T.* \n",
    "FROM \n",
    "    UNIVERSAL.TRANSACCION_ENRIQUECIDA T\n",
    "WHERE\n",
    "    T.EDAD_PERSONA > {edad} AND\n",
    "    UPPER(SUBSTRING(T.NOMBRE_PERSONA, 1, 1)) = UPPER('{inicial}')\n",
    "\"\"\")\n",
    "\n",
    "dfReporte2.show()"
   ]
  },
  {
   "cell_type": "markdown",
   "metadata": {},
   "source": [
    "##### **Reporte 3** - Transacciones realizadas cuyo monto de transacción sea al menos el 25% del salario de la persona que la realizó"
   ]
  },
  {
   "cell_type": "code",
   "execution_count": null,
   "metadata": {
    "vscode": {
     "languageId": "shellscript"
    }
   },
   "outputs": [],
   "source": [
    "porcentaje = 0.25\n",
    "\n",
    "dfReporte3 = spark.sql(f\"\"\"\n",
    "SELECT \n",
    "    T.* \n",
    "FROM \n",
    "    UNIVERSAL.TRANSACCION_ENRIQUECIDA T\n",
    "WHERE \n",
    "    T.MONTO_TRANSACCION >= T.SALARIO_PERSONA*{porcentaje}\n",
    "\"\"\")\n",
    "\n",
    "dfReporte3.show()"
   ]
  },
  {
   "cell_type": "markdown",
   "metadata": {},
   "source": [
    "##### **Reporte 4** - Transacciones realizadas en la misma empresa donde la persona trabaja"
   ]
  },
  {
   "cell_type": "code",
   "execution_count": null,
   "metadata": {
    "vscode": {
     "languageId": "shellscript"
    }
   },
   "outputs": [],
   "source": [
    "dfReporte4 = spark.sql(f\"\"\"\n",
    "SELECT \n",
    "    T.* \n",
    "FROM \n",
    "    UNIVERSAL.TRANSACCION_ENRIQUECIDA T\n",
    "WHERE \n",
    "    T.TRABAJO_PERSONA = T.EMPRESA_TRANSACCION\n",
    "\"\"\")\n",
    "\n",
    "dfReporte4.show()"
   ]
  },
  {
   "cell_type": "markdown",
   "metadata": {},
   "source": [
    "##### **Reporte 5**"
   ]
  },
  {
   "cell_type": "markdown",
   "metadata": {},
   "source": [
    "Con el \"Reporte 1\" generar el \"Reporte 5\" que agrupe las transacciones para cada persona y muestre los siguientes campos:\n",
    "\n",
    "| CAMPO  | TIPO  | DESCRIPCIÓN  |\n",
    "|---|---|---|\n",
    "| NOMBRE_PERSONA  | STRING  | Nombre de la persona  |\n",
    "| SUMA_TRANSACCIONES  | DOUBLE  | Suma de todos los montos de las transacciones realizadas por la persona  |\n",
    "| MAYOR_TRANSACCION  | DOUBLE  | Mayor monto gastado de todas las transacciones realizadas por la persona  |\n",
    "| MENOR_TRANSACCION  | DOUBLE  | Menor monto gastado de todas las transacciones realizadas por la persona  |\n",
    "| PROMEDIO_TRANSACCIONES  | DOUBLE  | Promedio de montos gastado de todas las transacciones realizadas por la persona  |"
   ]
  },
  {
   "cell_type": "code",
   "execution_count": null,
   "metadata": {
    "vscode": {
     "languageId": "shellscript"
    }
   },
   "outputs": [],
   "source": [
    "dfReporte5 = spark.sql(f\"\"\"\n",
    "SELECT \n",
    "    T.NOMBRE_PERSONA NOMBRE_PERSONA,\n",
    "    SUM(T.MONTO_TRANSACCION) SUMA_TRANSACCIONES,\n",
    "    MAX(T.MONTO_TRANSACCION) MAYOR_TRANSACCION,\n",
    "    MIN(T.MONTO_TRANSACCION) MENOR_TRANSACCION,\n",
    "    AVG(T.MONTO_TRANSACCION) PROMEDIO_TRANSACCIONES\n",
    "FROM \n",
    "    UNIVERSAL.TRANSACCION_ENRIQUECIDA T\n",
    "GROUP BY\n",
    "    T.NOMBRE_PERSONA\n",
    "\"\"\")\n",
    "\n",
    "dfReporte5.show()"
   ]
  }
 ],
 "metadata": {
  "kernelspec": {
   "display_name": "base",
   "language": "python",
   "name": "python3"
  },
  "language_info": {
   "codemirror_mode": {
    "name": "ipython",
    "version": 3
   },
   "file_extension": ".py",
   "mimetype": "text/x-python",
   "name": "python",
   "nbconvert_exporter": "python",
   "pygments_lexer": "ipython3",
   "version": "3.9.5"
  },
  "orig_nbformat": 4
 },
 "nbformat": 4,
 "nbformat_minor": 2
}
